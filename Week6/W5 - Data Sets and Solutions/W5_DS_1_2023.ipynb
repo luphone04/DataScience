{
 "cells": [
  {
   "cell_type": "code",
   "execution_count": 11,
   "id": "0ab3fe62",
   "metadata": {},
   "outputs": [],
   "source": [
    "import pandas as pd\n",
    "import seaborn as sns \n",
    "import matplotlib.pyplot as plt \n",
    "import numpy as np\n",
    "%matplotlib inline"
   ]
  },
  {
   "cell_type": "code",
   "execution_count": 24,
   "id": "51371fc9",
   "metadata": {},
   "outputs": [
    {
     "data": {
      "text/plain": [
       "divorce_date          object\n",
       "dob_man               object\n",
       "education_man         object\n",
       "income_man           float64\n",
       "dob_woman             object\n",
       "education_woman       object\n",
       "income_woman         float64\n",
       "marriage_date         object\n",
       "marriage_duration    float64\n",
       "num_kids             float64\n",
       "dtype: object"
      ]
     },
     "execution_count": 24,
     "metadata": {},
     "output_type": "execute_result"
    }
   ],
   "source": [
    "divorce = pd.read_csv(\"divorce.csv\")\n",
    "divorce.dtypes"
   ]
  },
  {
   "cell_type": "code",
   "execution_count": 25,
   "id": "eab68a44",
   "metadata": {},
   "outputs": [
    {
     "data": {
      "text/plain": [
       "divorce_date                 object\n",
       "dob_man                      object\n",
       "education_man                object\n",
       "income_man                  float64\n",
       "dob_woman                    object\n",
       "education_woman              object\n",
       "income_woman                float64\n",
       "marriage_date        datetime64[ns]\n",
       "marriage_duration           float64\n",
       "num_kids                    float64\n",
       "dtype: object"
      ]
     },
     "execution_count": 25,
     "metadata": {},
     "output_type": "execute_result"
    }
   ],
   "source": [
    "divorce = pd.read_csv(\"divorce.csv\" , parse_dates=[\"marriage_date\"])\n",
    "divorce.dtypes\n"
   ]
  },
  {
   "cell_type": "code",
   "execution_count": 26,
   "id": "4180d1ca",
   "metadata": {},
   "outputs": [
    {
     "data": {
      "text/plain": [
       "divorce_date                 object\n",
       "dob_man                      object\n",
       "education_man                object\n",
       "income_man                  float64\n",
       "dob_woman                    object\n",
       "education_woman              object\n",
       "income_woman                float64\n",
       "marriage_date        datetime64[ns]\n",
       "marriage_duration           float64\n",
       "num_kids                    float64\n",
       "dtype: object"
      ]
     },
     "execution_count": 26,
     "metadata": {},
     "output_type": "execute_result"
    }
   ],
   "source": [
    "divorce[\"marriage_date\"] = pd.to_datetime(divorce[\"marriage_date\"])\n",
    "divorce.dtypes"
   ]
  },
  {
   "cell_type": "code",
   "execution_count": 31,
   "id": "c1efef5a",
   "metadata": {},
   "outputs": [],
   "source": [
    "# divorce[\"marriage_date\"] = pd.to_datetime(divorce[[\"month\" , \"day\" , \"year\"]])\n",
    "# divorce.head(2)\n"
   ]
  },
  {
   "cell_type": "code",
   "execution_count": 28,
   "id": "95ee575f",
   "metadata": {},
   "outputs": [
    {
     "data": {
      "text/html": [
       "<div>\n",
       "<style scoped>\n",
       "    .dataframe tbody tr th:only-of-type {\n",
       "        vertical-align: middle;\n",
       "    }\n",
       "\n",
       "    .dataframe tbody tr th {\n",
       "        vertical-align: top;\n",
       "    }\n",
       "\n",
       "    .dataframe thead th {\n",
       "        text-align: right;\n",
       "    }\n",
       "</style>\n",
       "<table border=\"1\" class=\"dataframe\">\n",
       "  <thead>\n",
       "    <tr style=\"text-align: right;\">\n",
       "      <th></th>\n",
       "      <th>divorce_date</th>\n",
       "      <th>dob_man</th>\n",
       "      <th>education_man</th>\n",
       "      <th>income_man</th>\n",
       "      <th>dob_woman</th>\n",
       "      <th>education_woman</th>\n",
       "      <th>income_woman</th>\n",
       "      <th>marriage_date</th>\n",
       "      <th>marriage_duration</th>\n",
       "      <th>num_kids</th>\n",
       "      <th>marriage_month</th>\n",
       "    </tr>\n",
       "  </thead>\n",
       "  <tbody>\n",
       "    <tr>\n",
       "      <th>0</th>\n",
       "      <td>2006-09-06</td>\n",
       "      <td>1975-12-18</td>\n",
       "      <td>Secondary</td>\n",
       "      <td>2000.0</td>\n",
       "      <td>1983-08-01</td>\n",
       "      <td>Secondary</td>\n",
       "      <td>1800.0</td>\n",
       "      <td>2000-06-26</td>\n",
       "      <td>5.0</td>\n",
       "      <td>1.0</td>\n",
       "      <td>6</td>\n",
       "    </tr>\n",
       "    <tr>\n",
       "      <th>1</th>\n",
       "      <td>2008-01-02</td>\n",
       "      <td>1976-11-17</td>\n",
       "      <td>Professional</td>\n",
       "      <td>6000.0</td>\n",
       "      <td>1977-03-13</td>\n",
       "      <td>Professional</td>\n",
       "      <td>6000.0</td>\n",
       "      <td>2001-09-02</td>\n",
       "      <td>7.0</td>\n",
       "      <td>NaN</td>\n",
       "      <td>9</td>\n",
       "    </tr>\n",
       "    <tr>\n",
       "      <th>2</th>\n",
       "      <td>2011-01-02</td>\n",
       "      <td>1969-04-06</td>\n",
       "      <td>Preparatory</td>\n",
       "      <td>5000.0</td>\n",
       "      <td>1970-02-16</td>\n",
       "      <td>Professional</td>\n",
       "      <td>5000.0</td>\n",
       "      <td>2000-02-02</td>\n",
       "      <td>2.0</td>\n",
       "      <td>2.0</td>\n",
       "      <td>2</td>\n",
       "    </tr>\n",
       "    <tr>\n",
       "      <th>3</th>\n",
       "      <td>2011-01-02</td>\n",
       "      <td>1979-11-13</td>\n",
       "      <td>Secondary</td>\n",
       "      <td>12000.0</td>\n",
       "      <td>1981-05-13</td>\n",
       "      <td>Secondary</td>\n",
       "      <td>12000.0</td>\n",
       "      <td>2006-05-13</td>\n",
       "      <td>2.0</td>\n",
       "      <td>NaN</td>\n",
       "      <td>5</td>\n",
       "    </tr>\n",
       "    <tr>\n",
       "      <th>4</th>\n",
       "      <td>2011-01-02</td>\n",
       "      <td>1982-09-20</td>\n",
       "      <td>Professional</td>\n",
       "      <td>6000.0</td>\n",
       "      <td>1988-01-30</td>\n",
       "      <td>Professional</td>\n",
       "      <td>10000.0</td>\n",
       "      <td>2007-08-06</td>\n",
       "      <td>3.0</td>\n",
       "      <td>NaN</td>\n",
       "      <td>8</td>\n",
       "    </tr>\n",
       "  </tbody>\n",
       "</table>\n",
       "</div>"
      ],
      "text/plain": [
       "  divorce_date     dob_man education_man  income_man   dob_woman  \\\n",
       "0   2006-09-06  1975-12-18     Secondary      2000.0  1983-08-01   \n",
       "1   2008-01-02  1976-11-17  Professional      6000.0  1977-03-13   \n",
       "2   2011-01-02  1969-04-06   Preparatory      5000.0  1970-02-16   \n",
       "3   2011-01-02  1979-11-13     Secondary     12000.0  1981-05-13   \n",
       "4   2011-01-02  1982-09-20  Professional      6000.0  1988-01-30   \n",
       "\n",
       "  education_woman  income_woman marriage_date  marriage_duration  num_kids  \\\n",
       "0       Secondary        1800.0    2000-06-26                5.0       1.0   \n",
       "1    Professional        6000.0    2001-09-02                7.0       NaN   \n",
       "2    Professional        5000.0    2000-02-02                2.0       2.0   \n",
       "3       Secondary       12000.0    2006-05-13                2.0       NaN   \n",
       "4    Professional       10000.0    2007-08-06                3.0       NaN   \n",
       "\n",
       "   marriage_month  \n",
       "0               6  \n",
       "1               9  \n",
       "2               2  \n",
       "3               5  \n",
       "4               8  "
      ]
     },
     "execution_count": 28,
     "metadata": {},
     "output_type": "execute_result"
    }
   ],
   "source": [
    "divorce[\"marriage_month\"] = divorce[\"marriage_date\"].dt.month\n",
    "divorce.head()"
   ]
  },
  {
   "cell_type": "code",
   "execution_count": 30,
   "id": "0107d055",
   "metadata": {},
   "outputs": [
    {
     "data": {
      "image/png": "[encoded data removed]",
      "text/plain": [
       "<Figure size 640x480 with 1 Axes>"
      ]
     },
     "metadata": {},
     "output_type": "display_data"
    }
   ],
   "source": [
    "sns.lineplot(data=divorce, x=\"marriage_month\", y=\"marriage_duration\")\n",
    "plt.show()"
   ]
  },
  {
   "cell_type": "code",
   "execution_count": 32,
   "id": "dacebc5d",
   "metadata": {},
   "outputs": [
    {
     "data": {
      "text/plain": [
       "divorce_date          object\n",
       "dob_man               object\n",
       "education_man         object\n",
       "income_man           float64\n",
       "dob_woman             object\n",
       "education_woman       object\n",
       "income_woman         float64\n",
       "marriage_date         object\n",
       "marriage_duration    float64\n",
       "num_kids             float64\n",
       "dtype: object"
      ]
     },
     "execution_count": 32,
     "metadata": {},
     "output_type": "execute_result"
    }
   ],
   "source": [
    "DataFrame = pd.read_csv(\"divorce.csv\")\n",
    "DataFrame.dtypes"
   ]
  },
  {
   "cell_type": "code",
   "execution_count": null,
   "id": "e3c007c8",
   "metadata": {},
   "outputs": [],
   "source": []
  }
 ],
 "metadata": {
  "kernelspec": {
   "display_name": "Python 3 (ipykernel)",
   "language": "python",
   "name": "python3"
  },
  "language_info": {
   "codemirror_mode": {
    "name": "ipython",
    "version": 3
   },
   "file_extension": ".py",
   "mimetype": "text/x-python",
   "name": "python",
   "nbconvert_exporter": "python",
   "pygments_lexer": "ipython3",
   "version": "3.9.13"
  }
 },
 "nbformat": 4,
 "nbformat_minor": 5
}
