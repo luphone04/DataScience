{
 "cells": [
  {
   "cell_type": "code",
   "execution_count": 6,
   "id": "b5cbccf8",
   "metadata": {},
   "outputs": [],
   "source": [
    "from sklearn.model_selection import train_test_split\n",
    "from sklearn.model_selection import cross_val_score, KFold\n",
    "from sklearn.linear_model import LinearRegression\n",
    "import numpy as np\n",
    "import pandas as pd\n",
    "from sklearn.neighbors import KNeighborsClassifier\n",
    "\n",
    "import matplotlib.pyplot as plt\n",
    "import seaborn as sns\n",
    "from sklearn.impute import SimpleImputer\n",
    "from statsmodels.formula.api import ols"
   ]
  },
  {
   "cell_type": "code",
   "execution_count": 3,
   "id": "62431eb0",
   "metadata": {},
   "outputs": [
    {
     "name": "stdout",
     "output_type": "stream",
     "text": [
      "   account_length  area_code  international_plan  voice_mail_plan  \\\n",
      "0             128        415                   0                1   \n",
      "1             107        415                   0                1   \n",
      "2             137        415                   0                0   \n",
      "3              84        408                   1                0   \n",
      "4              75        415                   1                0   \n",
      "\n",
      "   number_vmail_messages  total_day_minutes  total_day_calls  \\\n",
      "0                     25              265.1              110   \n",
      "1                     26              161.6              123   \n",
      "2                      0              243.4              114   \n",
      "3                      0              299.4               71   \n",
      "4                      0              166.7              113   \n",
      "\n",
      "   total_day_charge  total_eve_minutes  total_eve_calls  total_eve_charge  \\\n",
      "0             45.07              197.4               99             16.78   \n",
      "1             27.47              195.5              103             16.62   \n",
      "2             41.38              121.2              110             10.30   \n",
      "3             50.90               61.9               88              5.26   \n",
      "4             28.34              148.3              122             12.61   \n",
      "\n",
      "   total_night_minutes  total_night_calls  total_night_charge  \\\n",
      "0                244.7                 91               11.01   \n",
      "1                254.4                103               11.45   \n",
      "2                162.6                104                7.32   \n",
      "3                196.9                 89                8.86   \n",
      "4                186.9                121                8.41   \n",
      "\n",
      "   total_intl_minutes  total_intl_calls  total_intl_charge  \\\n",
      "0                10.0                 3               2.70   \n",
      "1                13.7                 3               3.70   \n",
      "2                12.2                 5               3.29   \n",
      "3                 6.6                 7               1.78   \n",
      "4                10.1                 3               2.73   \n",
      "\n",
      "   customer_service_calls  churn  \n",
      "0                       1      0  \n",
      "1                       1      0  \n",
      "2                       0      0  \n",
      "3                       2      0  \n",
      "4                       3      0  \n"
     ]
    }
   ],
   "source": [
    "telecom_churn = pd.read_csv(\"telecom_churn.csv\", index_col = 0)\n",
    "print(telecom_churn.head())"
   ]
  },
  {
   "cell_type": "code",
   "execution_count": 5,
   "id": "96684ee6",
   "metadata": {},
   "outputs": [
    {
     "name": "stdout",
     "output_type": "stream",
     "text": [
      "account_length            0\n",
      "area_code                 0\n",
      "international_plan        0\n",
      "voice_mail_plan           0\n",
      "number_vmail_messages     0\n",
      "total_day_minutes         0\n",
      "total_day_calls           0\n",
      "total_day_charge          0\n",
      "total_eve_minutes         0\n",
      "total_eve_calls           0\n",
      "total_eve_charge          0\n",
      "total_night_minutes       0\n",
      "total_night_calls         0\n",
      "total_night_charge        0\n",
      "total_intl_minutes        0\n",
      "total_intl_calls          0\n",
      "total_intl_charge         0\n",
      "customer_service_calls    0\n",
      "churn                     0\n",
      "dtype: int64\n"
     ]
    }
   ],
   "source": [
    "#No missing value\n",
    "print(telecom_churn.isna().sum())"
   ]
  },
  {
   "cell_type": "code",
   "execution_count": 10,
   "id": "2f5aeb79",
   "metadata": {},
   "outputs": [
    {
     "name": "stdout",
     "output_type": "stream",
     "text": [
      "0.879\n"
     ]
    }
   ],
   "source": [
    "X = telecom_churn[['total_day_charge',  'total_eve_charge','total_night_charge','customer_service_calls' ]].values \n",
    "y = telecom_churn['churn'].values\n",
    "X_train, X_test, y_train, y_test = train_test_split(X , y , test_size = 0.3, random_state = 57, stratify = y)\n",
    "knn = KNeighborsClassifier(n_neighbors = 6)\n",
    "# k-NN classifier using the training data (X_train and y_train).\n",
    "knn.fit(X_train, y_train)\n",
    "\n",
    "#computes the accuracy score of the k-NN classifier on the testing data (X_test and y_test) to assess \n",
    "#its performance. The accuracy score is a measure of HOW MANY MODEL OF THE PREDICTIONS are correct.\n",
    "print(knn.score(X_test, y_test))"
   ]
  },
  {
   "cell_type": "code",
   "execution_count": 11,
   "id": "91c2d2df",
   "metadata": {},
   "outputs": [
    {
     "name": "stdout",
     "output_type": "stream",
     "text": [
      "0.8776978417266187\n"
     ]
    }
   ],
   "source": [
    "X = telecom_churn[['total_day_charge',  'total_eve_charge','total_night_charge','customer_service_calls' ]].values \n",
    "y = telecom_churn['churn'].values\n",
    "X_train, X_test, y_train, y_test = train_test_split(X , y , test_size = 0.25, random_state = 57, stratify = y)\n",
    "knn = KNeighborsClassifier(n_neighbors = 6)\n",
    "# k-NN classifier using the training data (X_train and y_train).\n",
    "knn.fit(X_train, y_train)\n",
    "\n",
    "#computes the accuracy score of the k-NN classifier on the testing data (X_test and y_test) to assess \n",
    "#its performance. The accuracy score is a measure of HOW MANY MODEL OF THE PREDICTIONS are correct.\n",
    "print(knn.score(X_test, y_test))"
   ]
  },
  {
   "cell_type": "code",
   "execution_count": 12,
   "id": "a7ed286c",
   "metadata": {},
   "outputs": [
    {
     "name": "stdout",
     "output_type": "stream",
     "text": [
      "0.8770614692653673\n"
     ]
    }
   ],
   "source": [
    "X = telecom_churn[['total_day_charge',  'total_eve_charge','total_night_charge','customer_service_calls' ]].values \n",
    "y = telecom_churn['churn'].values\n",
    "X_train, X_test, y_train, y_test = train_test_split(X , y , test_size = 0.2, random_state = 57, stratify = y)\n",
    "knn = KNeighborsClassifier(n_neighbors = 6)\n",
    "# k-NN classifier using the training data (X_train and y_train).\n",
    "knn.fit(X_train, y_train)\n",
    "\n",
    "#computes the accuracy score of the k-NN classifier on the testing data (X_test and y_test) to assess \n",
    "#its performance. The accuracy score is a measure of HOW MANY MODEL OF THE PREDICTIONS are correct.\n",
    "print(knn.score(X_test, y_test))"
   ]
  },
  {
   "cell_type": "markdown",
   "id": "d7738003",
   "metadata": {},
   "source": [
    "The accuracy score is a measure of HOW MANY MODEL OF THE PREDICTIONS are correct. Above three test between 30%, 25% and 20% as test size, 30% gives the best accuracy as it is 87.9% which is the highest out of all three"
   ]
  },
  {
   "cell_type": "code",
   "execution_count": 23,
   "id": "f5a21d72",
   "metadata": {},
   "outputs": [
    {
     "name": "stdout",
     "output_type": "stream",
     "text": [
      "1 : 0.8395802098950524\n",
      "2 : 0.8725637181409296\n",
      "3 : 0.8695652173913043\n",
      "4 : 0.8830584707646177\n",
      "5 : 0.8845577211394303\n",
      "6 : 0.8770614692653673\n",
      "7 : 0.8830584707646177\n",
      "8 : 0.8800599700149925\n",
      "9 : 0.8800599700149925\n",
      "10 : 0.8800599700149925\n",
      "11 : 0.8845577211394303\n",
      "12 : 0.8830584707646177\n",
      "13 : 0.8830584707646177\n",
      "14 : 0.8830584707646177\n",
      "15 : 0.8830584707646177\n",
      "16 : 0.881559220389805\n",
      "17 : 0.8800599700149925\n",
      "18 : 0.8770614692653673\n",
      "19 : 0.8800599700149925\n",
      "20 : 0.881559220389805\n"
     ]
    },
    {
     "data": {
      "image/png": "[encoded data removed]",
      "text/plain": [
       "<Figure size 800x600 with 1 Axes>"
      ]
     },
     "metadata": {},
     "output_type": "display_data"
    }
   ],
   "source": [
    "neighbors = np.arange(1,21)\n",
    "train_accuracies = {}\n",
    "test_accuracies = {}\n",
    "for neighbor in neighbors:\n",
    "    \n",
    "    # create a k-NN classifier (knn) with that value as the number of neighbors.\n",
    "    knn = KNeighborsClassifier(n_neighbors = neighbor)\n",
    "    \n",
    "    # create a k-NN classifier (knn) with that value as the number of neighbors.\n",
    "    knn.fit(X_train, y_train)\n",
    "    \n",
    "    # calculate the training accuracy\n",
    "    train_accuracies[neighbor] = knn.score(X_train, y_train)\n",
    "    # calculate the TESTING accuracy\n",
    "    test_accuracies[neighbor] = knn.score(X_test, y_test)\n",
    "    print(neighbor ,\":\" , test_accuracies[neighbor])\n",
    "#print(test_accuracies.values())\n",
    "my_train = list(train_accuracies.values())\n",
    "my_test = list(test_accuracies.values())\n",
    "plt.figure(figsize = (8,6))\n",
    "plt.title('KNN: Varing Number of Neighbors')\n",
    "plt.plot(neighbors, my_train, label = 'Training Accuracy')\n",
    "plt.plot(neighbors, my_test, label = 'Testing Accuracy')\n",
    "plt.legend()\n",
    "plt.xlabel('Number of Neighbors')\n",
    "plt.ylabel('Accuracy')\n",
    "plt.show()"
   ]
  },
  {
   "cell_type": "markdown",
   "id": "65be1767",
   "metadata": {},
   "source": [
    "K value of 11 does give the best accuracy as its value is  0.8845577211394303 which is the highesg"
   ]
  },
  {
   "cell_type": "code",
   "execution_count": 26,
   "id": "84b7a16b",
   "metadata": {},
   "outputs": [
    {
     "name": "stdout",
     "output_type": "stream",
     "text": [
      "[0 1 0 1]\n"
     ]
    }
   ],
   "source": [
    "X = telecom_churn[['total_day_charge',  'total_eve_charge','total_night_charge','customer_service_calls' ]].values \n",
    "y = telecom_churn['churn'].values\n",
    "X_train, X_test, y_train, y_test = train_test_split(X , y , test_size = 0.88, random_state = 57, stratify = y)\n",
    "knn = KNeighborsClassifier(n_neighbors = 11)\n",
    "# k-NN classifier using the training data (X_train and y_train).\n",
    "knn.fit(X_train, y_train)\n",
    "\n",
    "X_new = np.array([[35.0, 17.5 , 10.1 , 1], [107.0 , 19.0 , 24.1, 0] , [13.0, 10.9 , 11.2 , 2] , [67.9 , 45.7 , 34.5 , 1]])\n",
    "y_pred = knn.predict(X_new)\n",
    "print(y_pred)"
   ]
  },
  {
   "cell_type": "code",
   "execution_count": 57,
   "id": "75c7b8c1",
   "metadata": {},
   "outputs": [],
   "source": [
    "CustName = pd.read_csv(\"newData.csv\")\n",
    "X_new = CustName[[\"day_charge\" , \"eve_charge\" , \"night_charge\"]].values\n",
    "X_train, X_test = train_test_split(X_new ,test_size = 0.88, random_state = 57)\n",
    "knn = KNeighborsClassifier(n_neighbors = 11)\n",
    "knn.fit(X_train)\n",
    "y_pred = knn.predict(X_new)\n",
    "print(y_pred)"
   ]
  },
  {
   "cell_type": "code",
   "execution_count": 60,
   "id": "8eda001e",
   "metadata": {},
   "outputs": [],
   "source": [
    "import pandas as pd\n",
    "from sklearn.model_selection import train_test_split\n",
    "from sklearn.neighbors import KNeighborsClassifier\n",
    "\n",
    "\n",
    "CustName = pd.read_csv(\"newData.csv\")\n",
    "\n",
    "X = CustName[[\"day_charge\", \"eve_charge\", \"night_charge\"]].values\n",
    "y = CustName['cust_name'].values  \n",
    "\n",
    "X_train, X_test, y_train, y_test = train_test_split(X, y, test_size=0.88, random_state=57, stratify = y)\n",
    "\n",
    "\n",
    "knn = KNeighborsClassifier(n_neighbors=11)\n",
    "\n",
    "knn.fit(X_train, y_train)\n",
    "\n",
    "\n",
    "y_pred = knn.predict(X)\n",
    "\n",
    "print(y_pred)\n"
   ]
  },
  {
   "cell_type": "code",
   "execution_count": null,
   "id": "25f8fea1",
   "metadata": {},
   "outputs": [],
   "source": []
  }
 ],
 "metadata": {
  "kernelspec": {
   "display_name": "Python 3 (ipykernel)",
   "language": "python",
   "name": "python3"
  },
  "language_info": {
   "codemirror_mode": {
    "name": "ipython",
    "version": 3
   },
   "file_extension": ".py",
   "mimetype": "text/x-python",
   "name": "python",
   "nbconvert_exporter": "python",
   "pygments_lexer": "ipython3",
   "version": "3.9.18"
  }
 },
 "nbformat": 4,
 "nbformat_minor": 5
}
