{
 "cells": [
  {
   "cell_type": "code",
   "execution_count": 101,
   "id": "cacf81c6",
   "metadata": {},
   "outputs": [],
   "source": [
    "from sklearn.model_selection import train_test_split\n",
    "from sklearn.model_selection import cross_val_score, KFold\n",
    "from sklearn.linear_model import LinearRegression\n",
    "import numpy as np\n",
    "import pandas as pd\n",
    "import matplotlib.pyplot as plt\n",
    "import seaborn as sns\n",
    "from sklearn.impute import SimpleImputer\n",
    "from statsmodels.formula.api import ols"
   ]
  },
  {
   "cell_type": "code",
   "execution_count": 102,
   "id": "09d359d3",
   "metadata": {},
   "outputs": [
    {
     "name": "stdout",
     "output_type": "stream",
     "text": [
      "(614, 12)\n"
     ]
    }
   ],
   "source": [
    "train_1 = pd.read_csv(\"train_1.csv\", index_col = 0)\n",
    "train_2 = pd.read_csv(\"train_2.csv\", index_col = 0)\n",
    "train = pd.concat([train_1 , train_2], sort=True)\n",
    "print(train.shape)"
   ]
  },
  {
   "cell_type": "code",
   "execution_count": 103,
   "id": "d24d4649",
   "metadata": {},
   "outputs": [
    {
     "name": "stdout",
     "output_type": "stream",
     "text": [
      "<class 'pandas.core.frame.DataFrame'>\n",
      "Index: 614 entries, LP001002 to LP002990\n",
      "Data columns (total 12 columns):\n",
      " #   Column             Non-Null Count  Dtype  \n",
      "---  ------             --------------  -----  \n",
      " 0   ApplicantIncome    614 non-null    int64  \n",
      " 1   CoapplicantIncome  614 non-null    float64\n",
      " 2   Credit_History     564 non-null    float64\n",
      " 3   Dependents         599 non-null    object \n",
      " 4   Education          614 non-null    object \n",
      " 5   Gender             601 non-null    object \n",
      " 6   LoanAmount         592 non-null    float64\n",
      " 7   Loan_Amount_Term   600 non-null    float64\n",
      " 8   Loan_Status        614 non-null    object \n",
      " 9   Married            611 non-null    object \n",
      " 10  Property_Area      614 non-null    object \n",
      " 11  Self_Employed      582 non-null    object \n",
      "dtypes: float64(4), int64(1), object(7)\n",
      "memory usage: 62.4+ KB\n",
      "None\n",
      "       ApplicantIncome  CoapplicantIncome  Credit_History  LoanAmount  \\\n",
      "count       614.000000         614.000000      564.000000  592.000000   \n",
      "mean       5403.459283        1621.245798        0.842199  146.412162   \n",
      "std        6109.041673        2926.248369        0.364878   85.587325   \n",
      "min         150.000000           0.000000        0.000000    9.000000   \n",
      "25%        2877.500000           0.000000        1.000000  100.000000   \n",
      "50%        3812.500000        1188.500000        1.000000  128.000000   \n",
      "75%        5795.000000        2297.250000        1.000000  168.000000   \n",
      "max       81000.000000       41667.000000        1.000000  700.000000   \n",
      "\n",
      "       Loan_Amount_Term  \n",
      "count         600.00000  \n",
      "mean          342.00000  \n",
      "std            65.12041  \n",
      "min            12.00000  \n",
      "25%           360.00000  \n",
      "50%           360.00000  \n",
      "75%           360.00000  \n",
      "max           480.00000  \n"
     ]
    }
   ],
   "source": [
    "print(train.info())\n",
    "print(train.describe())"
   ]
  },
  {
   "cell_type": "code",
   "execution_count": 104,
   "id": "8a524a0b",
   "metadata": {},
   "outputs": [
    {
     "name": "stdout",
     "output_type": "stream",
     "text": [
      "ApplicantIncome       0\n",
      "CoapplicantIncome     0\n",
      "Credit_History       50\n",
      "Dependents           15\n",
      "Education             0\n",
      "Gender               13\n",
      "LoanAmount           22\n",
      "Loan_Amount_Term     14\n",
      "Loan_Status           0\n",
      "Married               3\n",
      "Property_Area         0\n",
      "Self_Employed        32\n",
      "dtype: int64\n"
     ]
    }
   ],
   "source": [
    "print(train.isna().sum())"
   ]
  },
  {
   "cell_type": "code",
   "execution_count": 105,
   "id": "d646214c",
   "metadata": {},
   "outputs": [
    {
     "name": "stdout",
     "output_type": "stream",
     "text": [
      "30.700000000000003\n"
     ]
    }
   ],
   "source": [
    "threshold = len (train) * 0.05\n",
    "print (threshold)"
   ]
  },
  {
   "cell_type": "code",
   "execution_count": 106,
   "id": "ebfe70ca",
   "metadata": {},
   "outputs": [
    {
     "name": "stdout",
     "output_type": "stream",
     "text": [
      "Index(['ApplicantIncome', 'CoapplicantIncome', 'Dependents', 'Education',\n",
      "       'Gender', 'LoanAmount', 'Loan_Amount_Term', 'Loan_Status', 'Married',\n",
      "       'Property_Area'],\n",
      "      dtype='object')\n"
     ]
    }
   ],
   "source": [
    "cols_to_drop = train.columns [train.isna().sum() <= threshold]\n",
    "print (cols_to_drop)\n",
    "train.dropna(subset=cols_to_drop, inplace=True)"
   ]
  },
  {
   "cell_type": "code",
   "execution_count": 107,
   "id": "219417a7",
   "metadata": {},
   "outputs": [
    {
     "name": "stdout",
     "output_type": "stream",
     "text": [
      "Index(['Credit_History', 'Self_Employed'], dtype='object')\n"
     ]
    }
   ],
   "source": [
    "cols_with_missing_valves = train.columns[train.isna().sum() > 0]\n",
    "print (cols_with_missing_valves)"
   ]
  },
  {
   "cell_type": "code",
   "execution_count": 108,
   "id": "866c9ffd",
   "metadata": {},
   "outputs": [],
   "source": [
    "for col in cols_with_missing_valves[:-1]:\n",
    "    train[col].fillna(train [col].mode () [0])"
   ]
  },
  {
   "cell_type": "markdown",
   "id": "6ac109fa",
   "metadata": {},
   "source": [
    "This is because some rows may have contained missing values for our subset columns as well as salary, so they were dropped."
   ]
  },
  {
   "cell_type": "code",
   "execution_count": 109,
   "id": "751c0d5d",
   "metadata": {},
   "outputs": [
    {
     "name": "stdout",
     "output_type": "stream",
     "text": [
      "ApplicantIncome       0\n",
      "CoapplicantIncome     0\n",
      "Credit_History       48\n",
      "Dependents            0\n",
      "Education             0\n",
      "Gender                0\n",
      "LoanAmount            0\n",
      "Loan_Amount_Term      0\n",
      "Loan_Status           0\n",
      "Married               0\n",
      "Property_Area         0\n",
      "Self_Employed        30\n",
      "dtype: int64\n"
     ]
    }
   ],
   "source": [
    "print(train.isna().sum())"
   ]
  },
  {
   "cell_type": "code",
   "execution_count": 110,
   "id": "d5d65807",
   "metadata": {},
   "outputs": [
    {
     "name": "stdout",
     "output_type": "stream",
     "text": [
      "{'Graduate': 1.0, 'Not Graduate': 1.0}\n"
     ]
    }
   ],
   "source": [
    "train_dict = train.groupby (\"Education\")[\"Credit_History\"].median ().to_dict()\n",
    "print (train_dict)"
   ]
  },
  {
   "cell_type": "code",
   "execution_count": 111,
   "id": "1ff04436",
   "metadata": {},
   "outputs": [
    {
     "name": "stdout",
     "output_type": "stream",
     "text": [
      "ApplicantIncome       0\n",
      "CoapplicantIncome     0\n",
      "Credit_History        0\n",
      "Dependents            0\n",
      "Education             0\n",
      "Gender                0\n",
      "LoanAmount            0\n",
      "Loan_Amount_Term      0\n",
      "Loan_Status           0\n",
      "Married               0\n",
      "Property_Area         0\n",
      "Self_Employed        30\n",
      "dtype: int64\n"
     ]
    }
   ],
   "source": [
    "train[\"Credit_History\"] = train[\"Credit_History\"].fillna(train[\"Education\"].map (train_dict))\n",
    "print(train.isna().sum())"
   ]
  },
  {
   "cell_type": "code",
   "execution_count": 112,
   "id": "0ddff0e3",
   "metadata": {},
   "outputs": [
    {
     "name": "stdout",
     "output_type": "stream",
     "text": [
      "0.529727803407427\n"
     ]
    }
   ],
   "source": [
    "corr_App_Loan = train['ApplicantIncome'].corr(train[\"LoanAmount\"])\n",
    "print(corr_App_Loan)"
   ]
  },
  {
   "cell_type": "code",
   "execution_count": 113,
   "id": "abc49aba",
   "metadata": {},
   "outputs": [
    {
     "ename": "ValueError",
     "evalue": "could not convert string to float: '3+'",
     "output_type": "error",
     "traceback": [
      "\u001b[0;31m---------------------------------------------------------------------------\u001b[0m",
      "\u001b[0;31mValueError\u001b[0m                                Traceback (most recent call last)",
      "\u001b[0;32m/var/folders/4j/bnvctt7152z6l5l6szd4m7wh0000gn/T/ipykernel_33181/1890650366.py\u001b[0m in \u001b[0;36m<module>\u001b[0;34m\u001b[0m\n\u001b[0;32m----> 1\u001b[0;31m \u001b[0msns\u001b[0m\u001b[0;34m.\u001b[0m\u001b[0mheatmap\u001b[0m\u001b[0;34m(\u001b[0m\u001b[0mx\u001b[0m \u001b[0;34m=\u001b[0m \u001b[0;34m\"ApplicantIncome\"\u001b[0m \u001b[0;34m,\u001b[0m \u001b[0my\u001b[0m \u001b[0;34m=\u001b[0m \u001b[0;34m\"LoanAmount\"\u001b[0m\u001b[0;34m,\u001b[0m \u001b[0mdata\u001b[0m \u001b[0;34m=\u001b[0m \u001b[0mtrain\u001b[0m\u001b[0;34m)\u001b[0m\u001b[0;34m\u001b[0m\u001b[0;34m\u001b[0m\u001b[0m\n\u001b[0m",
      "\u001b[0;32m~/opt/anaconda3/lib/python3.9/site-packages/seaborn/matrix.py\u001b[0m in \u001b[0;36mheatmap\u001b[0;34m(data, vmin, vmax, cmap, center, robust, annot, fmt, annot_kws, linewidths, linecolor, cbar, cbar_kws, cbar_ax, square, xticklabels, yticklabels, mask, ax, **kwargs)\u001b[0m\n\u001b[1;32m    444\u001b[0m     \"\"\"\n\u001b[1;32m    445\u001b[0m     \u001b[0;31m# Initialize the plotter object\u001b[0m\u001b[0;34m\u001b[0m\u001b[0;34m\u001b[0m\u001b[0m\n\u001b[0;32m--> 446\u001b[0;31m     plotter = _HeatMapper(data, vmin, vmax, cmap, center, robust, annot, fmt,\n\u001b[0m\u001b[1;32m    447\u001b[0m                           \u001b[0mannot_kws\u001b[0m\u001b[0;34m,\u001b[0m \u001b[0mcbar\u001b[0m\u001b[0;34m,\u001b[0m \u001b[0mcbar_kws\u001b[0m\u001b[0;34m,\u001b[0m \u001b[0mxticklabels\u001b[0m\u001b[0;34m,\u001b[0m\u001b[0;34m\u001b[0m\u001b[0;34m\u001b[0m\u001b[0m\n\u001b[1;32m    448\u001b[0m                           yticklabels, mask)\n",
      "\u001b[0;32m~/opt/anaconda3/lib/python3.9/site-packages/seaborn/matrix.py\u001b[0m in \u001b[0;36m__init__\u001b[0;34m(self, data, vmin, vmax, cmap, center, robust, annot, fmt, annot_kws, cbar, cbar_kws, xticklabels, yticklabels, mask)\u001b[0m\n\u001b[1;32m    161\u001b[0m \u001b[0;34m\u001b[0m\u001b[0m\n\u001b[1;32m    162\u001b[0m         \u001b[0;31m# Determine good default values for the colormapping\u001b[0m\u001b[0;34m\u001b[0m\u001b[0;34m\u001b[0m\u001b[0m\n\u001b[0;32m--> 163\u001b[0;31m         self._determine_cmap_params(plot_data, vmin, vmax,\n\u001b[0m\u001b[1;32m    164\u001b[0m                                     cmap, center, robust)\n\u001b[1;32m    165\u001b[0m \u001b[0;34m\u001b[0m\u001b[0m\n",
      "\u001b[0;32m~/opt/anaconda3/lib/python3.9/site-packages/seaborn/matrix.py\u001b[0m in \u001b[0;36m_determine_cmap_params\u001b[0;34m(self, plot_data, vmin, vmax, cmap, center, robust)\u001b[0m\n\u001b[1;32m    195\u001b[0m \u001b[0;34m\u001b[0m\u001b[0m\n\u001b[1;32m    196\u001b[0m         \u001b[0;31m# plot_data is a np.ma.array instance\u001b[0m\u001b[0;34m\u001b[0m\u001b[0;34m\u001b[0m\u001b[0m\n\u001b[0;32m--> 197\u001b[0;31m         \u001b[0mcalc_data\u001b[0m \u001b[0;34m=\u001b[0m \u001b[0mplot_data\u001b[0m\u001b[0;34m.\u001b[0m\u001b[0mastype\u001b[0m\u001b[0;34m(\u001b[0m\u001b[0mfloat\u001b[0m\u001b[0;34m)\u001b[0m\u001b[0;34m.\u001b[0m\u001b[0mfilled\u001b[0m\u001b[0;34m(\u001b[0m\u001b[0mnp\u001b[0m\u001b[0;34m.\u001b[0m\u001b[0mnan\u001b[0m\u001b[0;34m)\u001b[0m\u001b[0;34m\u001b[0m\u001b[0;34m\u001b[0m\u001b[0m\n\u001b[0m\u001b[1;32m    198\u001b[0m         \u001b[0;32mif\u001b[0m \u001b[0mvmin\u001b[0m \u001b[0;32mis\u001b[0m \u001b[0;32mNone\u001b[0m\u001b[0;34m:\u001b[0m\u001b[0;34m\u001b[0m\u001b[0;34m\u001b[0m\u001b[0m\n\u001b[1;32m    199\u001b[0m             \u001b[0;32mif\u001b[0m \u001b[0mrobust\u001b[0m\u001b[0;34m:\u001b[0m\u001b[0;34m\u001b[0m\u001b[0;34m\u001b[0m\u001b[0m\n",
      "\u001b[0;31mValueError\u001b[0m: could not convert string to float: '3+'"
     ]
    }
   ],
   "source": [
    "sns.heatmap(x = \"ApplicantIncome\" , y = \"LoanAmount\", data = train)"
   ]
  },
  {
   "cell_type": "code",
   "execution_count": null,
   "id": "1d0178e0",
   "metadata": {},
   "outputs": [],
   "source": [
    "\n",
    "sns.scatterplot(data = )"
   ]
  }
 ],
 "metadata": {
  "kernelspec": {
   "display_name": "Python 3 (ipykernel)",
   "language": "python",
   "name": "python3"
  },
  "language_info": {
   "codemirror_mode": {
    "name": "ipython",
    "version": 3
   },
   "file_extension": ".py",
   "mimetype": "text/x-python",
   "name": "python",
   "nbconvert_exporter": "python",
   "pygments_lexer": "ipython3",
   "version": "3.9.18"
  }
 },
 "nbformat": 4,
 "nbformat_minor": 5
}
