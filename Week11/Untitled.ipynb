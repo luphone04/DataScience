{
 "cells": [
  {
   "cell_type": "code",
   "execution_count": 4,
   "id": "153d979a",
   "metadata": {},
   "outputs": [
    {
     "name": "stdout",
     "output_type": "stream",
     "text": [
      "Index(['popularity', 'acousticness', 'danceability', 'duration_ms', 'energy',\n",
      "       'instrumentalness', 'liveness', 'loudness', 'speechiness', 'tempo',\n",
      "       'valence', 'genre'],\n",
      "      dtype='object')\n",
      "genre                 8\n",
      "popularity           31\n",
      "loudness             44\n",
      "liveness             46\n",
      "tempo                46\n",
      "speechiness          59\n",
      "duration_ms          91\n",
      "instrumentalness     91\n",
      "danceability        143\n",
      "valence             143\n",
      "acousticness        200\n",
      "energy              200\n",
      "dtype: int64\n",
      "popularity            0\n",
      "liveness              0\n",
      "loudness              0\n",
      "tempo                 0\n",
      "genre                 0\n",
      "duration_ms          29\n",
      "instrumentalness     29\n",
      "speechiness          53\n",
      "danceability        127\n",
      "valence             127\n",
      "acousticness        178\n",
      "energy              178\n",
      "dtype: int64\n"
     ]
    },
    {
     "ename": "NameError",
     "evalue": "name 'train_test_split' is not defined",
     "output_type": "error",
     "traceback": [
      "\u001b[0;31m---------------------------------------------------------------------------\u001b[0m",
      "\u001b[0;31mNameError\u001b[0m                                 Traceback (most recent call last)",
      "\u001b[0;32m/var/folders/4j/bnvctt7152z6l5l6szd4m7wh0000gn/T/ipykernel_34008/3322919605.py\u001b[0m in \u001b[0;36m<module>\u001b[0;34m\u001b[0m\n\u001b[1;32m     18\u001b[0m \u001b[0;34m\u001b[0m\u001b[0m\n\u001b[1;32m     19\u001b[0m \u001b[0;34m\u001b[0m\u001b[0m\n\u001b[0;32m---> 20\u001b[0;31m X_train_cat, X_test_cat, y_train, y_test = train_test_split(X_cat, y, test_size=0.3,\n\u001b[0m\u001b[1;32m     21\u001b[0m                                                             random_state = 12)\n\u001b[1;32m     22\u001b[0m X_train_num, X_test_num, y_train, y_test = train_test_split(X_num, y, test_size=0.3,\n",
      "\u001b[0;31mNameError\u001b[0m: name 'train_test_split' is not defined"
     ]
    }
   ],
   "source": [
    "from sklearn.impute import SimpleImputer\n",
    "from sklearn.metrics import classification_report, confusion_matrix\n",
    "import pandas as pd\n",
    "import numpy as np\n",
    "music_df = pd.read_csv('music_unclean.csv', index_col = 0)\n",
    "print(music_df.columns)\n",
    "print(music_df.isna().sum().sort_values())\n",
    "music_df = music_df.dropna(subset=['genre','popularity','loudness','liveness','tempo'])\n",
    "music_df['genre'] = np.where(music_df['genre'] == 'Rock', 1,0)\n",
    "print(music_df.isna().sum().sort_values())\n",
    "\n",
    " \n",
    "\n",
    "X_cat = music_df['genre'].values.reshape(-1,1)\n",
    "X_num = music_df.drop(['genre','popularity'], axis=1).values\n",
    "y = music_df['popularity'].values\n",
    "\n",
    " \n",
    "\n",
    "X_train_cat, X_test_cat, y_train, y_test = train_test_split(X_cat, y, test_size=0.3,\n",
    "                                                            random_state = 12)\n",
    "X_train_num, X_test_num, y_train, y_test = train_test_split(X_num, y, test_size=0.3,\n",
    "                                                            random_state = 12)\n",
    "\n",
    " \n",
    "\n",
    "imp_cat = SimpleImputer(strategy='most_frequent')\n",
    "X_train_cat = imp_cat.fit_transform(X_train_cat)\n",
    "X_test_cat = imp_cat.transform(X_test_cat)\n",
    "\n",
    " \n",
    "\n",
    "imp_num = SimpleImputer()\n",
    "X_train_num = imp_num.fit_transform(X_train_num)\n",
    "X_test_num = imp_num.transform(X_test_num)\n",
    "\n",
    " \n",
    "\n",
    "X_train = np.append(X_train_num, X_train_cat, axis=1)\n",
    "X_test = np.append(X_test_num, X_test_cat, axis=1)\n",
    "\n",
    " \n",
    "\n",
    "columns = ['acousticness', 'danceability', 'duration_ms', 'energy',\n",
    "       'instrumentalness', 'liveness', 'loudness', 'speechiness', 'tempo',\n",
    "       'valence', 'genre']\n",
    "check = pd.DataFrame(X_train, columns = columns)\n",
    "print(check.isna().sum().sort_values())\n",
    "\n",
    " \n",
    "\n",
    "knn = KNeighborsClassifier(n_neighbors=5)\n",
    "knn.fit(X_train, y_train)\n",
    "y_pred = knn.predict(X_test)\n",
    "print(knn.score(X_test, y_test))"
   ]
  },
  {
   "cell_type": "code",
   "execution_count": null,
   "id": "ef45591a",
   "metadata": {},
   "outputs": [],
   "source": []
  }
 ],
 "metadata": {
  "kernelspec": {
   "display_name": "Python 3 (ipykernel)",
   "language": "python",
   "name": "python3"
  },
  "language_info": {
   "codemirror_mode": {
    "name": "ipython",
    "version": 3
   },
   "file_extension": ".py",
   "mimetype": "text/x-python",
   "name": "python",
   "nbconvert_exporter": "python",
   "pygments_lexer": "ipython3",
   "version": "3.9.18"
  }
 },
 "nbformat": 4,
 "nbformat_minor": 5
}
