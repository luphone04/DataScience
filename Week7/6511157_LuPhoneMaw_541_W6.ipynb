{
 "cells": [
  {
   "cell_type": "code",
   "execution_count": 15,
   "metadata": {
    "id": "azcLhRGlnZDi"
   },
   "outputs": [],
   "source": [
    "import pandas as pd\n",
    "import matplotlib.pyplot as plt\n",
    "import numpy as np\n",
    "import seaborn as sns\n"
   ]
  },
  {
   "cell_type": "markdown",
   "metadata": {
    "id": "YvDcTb5-pkYJ"
   },
   "source": [
    "1.\t**Merge taxi_owners with taxi_veh on the column vid, and save the result to taxi_own_veh.\n",
    "Set the left and right table suffixes for overlapping columns of the merge to _own and _veh, respectively.\n",
    "Select the fuel_type column from taxi_own_veh and print the value_counts() to find the most popular fuel_types used.\n",
    "Answer: Hybrid**\n"
   ]
  },
  {
   "cell_type": "code",
   "execution_count": 18,
   "metadata": {
    "id": "Z1p6-VN4pjoE"
   },
   "outputs": [],
   "source": [
    "taxi_owners=pd.read_pickle(\"taxi_owners.p\")\n",
    "\n",
    "taxi_veh=pd.read_pickle(\"taxi_vehicles.p\")"
   ]
  },
  {
   "cell_type": "code",
   "execution_count": 19,
   "metadata": {
    "colab": {
     "base_uri": "https://localhost:8080/"
    },
    "id": "ihSJkvZAp80K",
    "outputId": "6b48a9c4-a6de-4061-e68e-844266cc21d7"
   },
   "outputs": [
    {
     "name": "stdout",
     "output_type": "stream",
     "text": [
      "rid    vid   owner                          address                zip  \n",
      "T1     1     YC1 LLC                        3351 W. ADDISON ST.    60618    1\n",
      "T5162  5162  VERONIQUE ARIELLE CAB CORP.    2617 S. WABASH AVE.    60616    1\n",
      "T5140  5140  IRA C BERGER                   6311 N. LAWNDALE AVE.  60659    1\n",
      "T5145  5145  HHH & I COMPANY                3351 W. ADDISON ST.    60618    1\n",
      "T5146  5146  AMR CAB CORP.                  3351 W. ADDISON AVE.   60618    1\n",
      "                                                                           ..\n",
      "T3015  3015  TANAKA TRANS CORP.             4626 W. CORNELIA AVE.  60641    1\n",
      "T3016  3016  DRAKE GLOBAL ENTERPRISES INC.  2945 W. PETERSON AVE.  60659    1\n",
      "T3018  3018  DERLY'S CAB CO., INC.          4626 W. CORNELIA AVE.  60641    1\n",
      "T3019  3019  HERETIC INC                    3351 W. ADDISON ST.    60618    1\n",
      "T997   997   PLAYING POLO IN CHICAGO INC    2617 S. WABASH AVE.    60616    1\n",
      "Length: 3519, dtype: int64 \n",
      "\n",
      "\n",
      "vid   make    model   year  fuel_type  owner                        \n",
      "1     TOYOTA  CAMRY   2014  HYBRID     YC1 LLC                          1\n",
      "5162  FORD    ESCAPE  2012  HYBRID     VERONIQUE ARIELLE CAB CORP.      1\n",
      "5140  FORD    FUSION  2012  HYBRID     IRA C BERGER                     1\n",
      "5145  TOYOTA  CAMRY   2012  HYBRID     HHH & I COMPANY                  1\n",
      "5146  TOYOTA  PRIUS   2013  HYBRID     AMR CAB CORP.                    1\n",
      "                                                                       ..\n",
      "3015  TOYOTA  CAMRY   2014  HYBRID     TANAKA TRANS CORP.               1\n",
      "3016  TOYOTA  SIENNA  2019  GASOLINE   DRAKE GLOBAL ENTERPRISES INC.    1\n",
      "3018  TOYOTA  CAMRY   2016  HYBRID     DERLY'S CAB CO., INC.            1\n",
      "3019  TOYOTA  CAMRY   2010  HYBRID     HERETIC INC                      1\n",
      "997   FORD    ESCAPE  2012  HYBRID     PLAYING POLO IN CHICAGO INC      1\n",
      "Length: 3519, dtype: int64\n"
     ]
    }
   ],
   "source": [
    "print(taxi_owners.value_counts(),\"\\n\\n\")\n",
    "print(taxi_veh.value_counts())"
   ]
  },
  {
   "cell_type": "code",
   "execution_count": 20,
   "metadata": {
    "colab": {
     "base_uri": "https://localhost:8080/"
    },
    "id": "ONua4EJdqTUS",
    "outputId": "14ac7cbf-222c-44b7-a9ac-511601d9ebf2"
   },
   "outputs": [
    {
     "name": "stdout",
     "output_type": "stream",
     "text": [
      "    vid    make   model  year fuel_type              owner_x    rid  \\\n",
      "0  2767  TOYOTA   CAMRY  2013    HYBRID       SEYED M. BADRI  T2767   \n",
      "1  1411  TOYOTA    RAV4  2017    HYBRID          DESZY CORP.  T1411   \n",
      "2  6500  NISSAN  SENTRA  2019  GASOLINE       AGAPH CAB CORP  T6500   \n",
      "3  2746  TOYOTA   CAMRY  2013    HYBRID  MIDWEST CAB CO, INC  T2746   \n",
      "4  5922  TOYOTA   CAMRY  2013    HYBRID       SUMETTI CAB CO  T5922   \n",
      "\n",
      "               owner_y                address    zip  \n",
      "0       SEYED M. BADRI    510 W. BELMONT AVE.  60657  \n",
      "1          DESZY CORP.    3351 W. ADDISON ST.  60618  \n",
      "2       AGAPH CAB CORP  2945 W. PETERSON AVE.  60659  \n",
      "3  MIDWEST CAB CO, INC  4020 W. GLENLAKE AVE.  60646  \n",
      "4       SUMETTI CAB CO      6550 N. CLARK ST.  60626  \n",
      "\n",
      "\n",
      "===================================================\n",
      "\n",
      "\n",
      "Index(['vid', 'make', 'model', 'year', 'fuel_type', 'owner_x', 'rid',\n",
      "       'owner_y', 'address', 'zip'],\n",
      "      dtype='object')\n"
     ]
    }
   ],
   "source": [
    "taxi_own_veh=taxi_veh.merge(taxi_owners,on=\"vid\")\n",
    "print(taxi_own_veh.head())\n",
    "print(\"\\n\\n===================================================\\n\\n\")\n",
    "print(taxi_own_veh.columns)   #note that there is two duplicate coulmn --owner_x and owner_y"
   ]
  },
  {
   "cell_type": "code",
   "execution_count": 21,
   "metadata": {
    "colab": {
     "base_uri": "https://localhost:8080/"
    },
    "id": "LLThhnA7qz3N",
    "outputId": "0b69aa9a-555b-4133-fb42-ab4a455e9266"
   },
   "outputs": [
    {
     "name": "stdout",
     "output_type": "stream",
     "text": [
      "    vid    make   model  year fuel_type            owner_own    rid  \\\n",
      "0  2767  TOYOTA   CAMRY  2013    HYBRID       SEYED M. BADRI  T2767   \n",
      "1  1411  TOYOTA    RAV4  2017    HYBRID          DESZY CORP.  T1411   \n",
      "2  6500  NISSAN  SENTRA  2019  GASOLINE       AGAPH CAB CORP  T6500   \n",
      "3  2746  TOYOTA   CAMRY  2013    HYBRID  MIDWEST CAB CO, INC  T2746   \n",
      "4  5922  TOYOTA   CAMRY  2013    HYBRID       SUMETTI CAB CO  T5922   \n",
      "\n",
      "             owner_veh                address    zip  \n",
      "0       SEYED M. BADRI    510 W. BELMONT AVE.  60657  \n",
      "1          DESZY CORP.    3351 W. ADDISON ST.  60618  \n",
      "2       AGAPH CAB CORP  2945 W. PETERSON AVE.  60659  \n",
      "3  MIDWEST CAB CO, INC  4020 W. GLENLAKE AVE.  60646  \n",
      "4       SUMETTI CAB CO      6550 N. CLARK ST.  60626  \n"
     ]
    }
   ],
   "source": [
    "taxi_own_veh=taxi_veh.merge(taxi_owners,on=\"vid\",suffixes=(\"_own\",\"_veh\"))\n",
    "print(taxi_own_veh.head())"
   ]
  },
  {
   "cell_type": "code",
   "execution_count": 22,
   "metadata": {
    "colab": {
     "base_uri": "https://localhost:8080/"
    },
    "id": "Pihs5w4Or8M9",
    "outputId": "a7faf77b-f15e-4c11-b4a4-922d26142076"
   },
   "outputs": [
    {
     "name": "stdout",
     "output_type": "stream",
     "text": [
      "HYBRID                    2792\n",
      "GASOLINE                   611\n",
      "FLEX FUEL                   89\n",
      "COMPRESSED NATURAL GAS      27\n",
      "Name: fuel_type, dtype: int64\n"
     ]
    }
   ],
   "source": [
    "print(taxi_own_veh['fuel_type'].value_counts())"
   ]
  },
  {
   "cell_type": "markdown",
   "metadata": {
    "id": "Dr4XQzW8sN2A"
   },
   "source": [
    "\n",
    "\n",
    "---\n",
    "\n",
    "2.\t**Wards_Offices_Altered.csv is available which contains only 46 wards. Load this .csv to wards_altered and merge it with census on the column ward. Save the result to wards_census_altered and observe the number of rows.**\n",
    "\n",
    "\n",
    "\n"
   ]
  },
  {
   "cell_type": "code",
   "execution_count": 23,
   "metadata": {
    "colab": {
     "base_uri": "https://localhost:8080/"
    },
    "id": "d3OqseEhopyS",
    "outputId": "38504d85-e621-4b4a-dab3-909f6881f854"
   },
   "outputs": [
    {
     "name": "stdout",
     "output_type": "stream",
     "text": [
      "(46, 4)\n",
      "(50, 6)\n"
     ]
    }
   ],
   "source": [
    "wards=pd.read_csv(\"Wards_Offices_Altered.csv\")\n",
    "cenus=pd.read_csv(\"Wards_Census.csv\")\n",
    "print(wards.shape)\n",
    "print(cenus.shape)"
   ]
  },
  {
   "cell_type": "code",
   "execution_count": 24,
   "metadata": {
    "colab": {
     "base_uri": "https://localhost:8080/"
    },
    "id": "Cb8wVk58tM_C",
    "outputId": "dad022e1-b886-40ed-954c-65c099bbc701"
   },
   "outputs": [
    {
     "name": "stdout",
     "output_type": "stream",
     "text": [
      "   ward            alderman                        address_x  zip_x  pop_2000  \\\n",
      "0     1  Proco \"Joe\" Moreno        2058 NORTH WESTERN AVENUE  60647     52951   \n",
      "1     2       Brian Hopkins       1400 NORTH  ASHLAND AVENUE  60622     54361   \n",
      "2     3          Pat Dowell          5046 SOUTH STATE STREET  60609     40385   \n",
      "3     4    William D. Burns  435 EAST 35TH STREET, 1ST FLOOR  60616     51953   \n",
      "4     5  Leslie A. Hairston            2325 EAST 71ST STREET  60649     55302   \n",
      "\n",
      "   pop_2010 change                                address_y  zip_y  \n",
      "0     56149     6%              2765 WEST SAINT MARY STREET  60647  \n",
      "1     55805     3%                 WM WASTE MANAGEMENT 1500  60622  \n",
      "2     53039    31%                      17 EAST 38TH STREET  60653  \n",
      "3     54589     5%  31ST ST HARBOR BUILDING LAKEFRONT TRAIL  60653  \n",
      "4     51455    -7%  JACKSON PARK LAGOON SOUTH CORNELL DRIVE  60637  \n",
      "=============Total number of rows and columns in wards cenus = (46, 9) =============\n"
     ]
    }
   ],
   "source": [
    "wards_cenus=wards.merge(cenus,on=\"ward\")\n",
    "print(wards_cenus.head())\n",
    "print(\"=============Total number of rows and columns in wards cenus =\",wards_cenus.shape,\"=============\")"
   ]
  },
  {
   "cell_type": "code",
   "execution_count": 25,
   "metadata": {
    "colab": {
     "base_uri": "https://localhost:8080/"
    },
    "id": "6pdAbvmjt2PY",
    "outputId": "d48b5d39-286e-4fad-d899-6069901b59df"
   },
   "outputs": [
    {
     "name": "stdout",
     "output_type": "stream",
     "text": [
      "   ward  pop_2000  pop_2010 change                                address_x  \\\n",
      "0     1     52951     56149     6%              2765 WEST SAINT MARY STREET   \n",
      "1     2     54361     55805     3%                 WM WASTE MANAGEMENT 1500   \n",
      "2     3     40385     53039    31%                      17 EAST 38TH STREET   \n",
      "3     4     51953     54589     5%  31ST ST HARBOR BUILDING LAKEFRONT TRAIL   \n",
      "4     5     55302     51455    -7%  JACKSON PARK LAGOON SOUTH CORNELL DRIVE   \n",
      "\n",
      "   zip_x            alderman                        address_y  zip_y  \n",
      "0  60647  Proco \"Joe\" Moreno        2058 NORTH WESTERN AVENUE  60647  \n",
      "1  60622       Brian Hopkins       1400 NORTH  ASHLAND AVENUE  60622  \n",
      "2  60653          Pat Dowell          5046 SOUTH STATE STREET  60609  \n",
      "3  60653    William D. Burns  435 EAST 35TH STREET, 1ST FLOOR  60616  \n",
      "4  60637  Leslie A. Hairston            2325 EAST 71ST STREET  60649  \n",
      "=============Total number of rows and columns in wards cenus = (46, 9) =============\n"
     ]
    }
   ],
   "source": [
    "wards_cenus_altered=cenus.merge(wards,on=\"ward\")\n",
    "print(wards_cenus_altered.head())\n",
    "print(\"=============Total number of rows and columns in wards cenus =\",wards_cenus_altered.shape,\"=============\")"
   ]
  },
  {
   "cell_type": "markdown",
   "metadata": {
    "id": "8ep_K6Qhukw2"
   },
   "source": [
    "\n",
    "\n",
    "---\n",
    "\n",
    "\n",
    "\n",
    "---\n",
    "\n"
   ]
  },
  {
   "cell_type": "code",
   "execution_count": 26,
   "metadata": {
    "colab": {
     "base_uri": "https://localhost:8080/"
    },
    "id": "MVarfAQauTmq",
    "outputId": "ab3e0e36-bf80-48ae-b664-f0746bfd6d22"
   },
   "outputs": [
    {
     "name": "stdout",
     "output_type": "stream",
     "text": [
      "   account  ward  aid                   business               address  \\\n",
      "0   307071     3  743       REGGIE'S BAR & GRILL       2105 S STATE ST   \n",
      "1       10    10  829                 HONEYBEERS   13200 S HOUSTON AVE   \n",
      "2    10002    14  775                CELINA DELI     5089 S ARCHER AVE   \n",
      "3    10005    12  NaN  KRAFT FOODS NORTH AMERICA        2005 W 43RD ST   \n",
      "4    10044    44  638  NEYBOUR'S TAVERN & GRILLE  3651 N SOUTHPORT AVE   \n",
      "\n",
      "       zip  \n",
      "0  60616.0  \n",
      "1  60633.0  \n",
      "2  60632.0  \n",
      "3  60609.0  \n",
      "4  60613.0  \n",
      "(10000, 6)\n"
     ]
    }
   ],
   "source": [
    "lincenses=pd.read_csv(\"Business_Licenses.csv\")\n",
    "print( lincenses.head())\n",
    "print(lincenses.shape)"
   ]
  },
  {
   "cell_type": "code",
   "execution_count": 27,
   "metadata": {
    "colab": {
     "base_uri": "https://localhost:8080/"
    },
    "id": "XY2hwRwbvQFt",
    "outputId": "507a65eb-ff74-4e18-c95f-c4890082ccb6"
   },
   "outputs": [
    {
     "name": "stdout",
     "output_type": "stream",
     "text": [
      "      ward            alderman                address_ward  zip_ward  account  \\\n",
      "0        1  Proco \"Joe\" Moreno   2058 NORTH WESTERN AVENUE     60647    12024   \n",
      "1        1  Proco \"Joe\" Moreno   2058 NORTH WESTERN AVENUE     60647    14446   \n",
      "2        1  Proco \"Joe\" Moreno   2058 NORTH WESTERN AVENUE     60647    14624   \n",
      "3        1  Proco \"Joe\" Moreno   2058 NORTH WESTERN AVENUE     60647    14987   \n",
      "4        1  Proco \"Joe\" Moreno   2058 NORTH WESTERN AVENUE     60647    15642   \n",
      "...    ...                 ...                         ...       ...      ...   \n",
      "9285    46     James Cappleman  4544 NORTH BROADWAY AVENUE     60640    64787   \n",
      "9286    46     James Cappleman  4544 NORTH BROADWAY AVENUE     60640     6764   \n",
      "9287    46     James Cappleman  4544 NORTH BROADWAY AVENUE     60640     6787   \n",
      "9288    46     James Cappleman  4544 NORTH BROADWAY AVENUE     60640     8329   \n",
      "9289    46     James Cappleman  4544 NORTH BROADWAY AVENUE     60640     8612   \n",
      "\n",
      "      aid                           business               address_lic  \\\n",
      "0     NaN                DIGILOG ELECTRONICS        1038 N ASHLAND AVE   \n",
      "1     743                   EMPTY BOTTLE INC    1035 N WESTERN AVE 1ST   \n",
      "2     775               LITTLE MEL'S HOT DOG     2205 N CALIFORNIA AVE   \n",
      "3     NaN                 MR. BROWN'S LOUNGE    2301 W CHICAGO AVE 1ST   \n",
      "4     814                       Beat Kitchen   2000-2100 W DIVISION ST   \n",
      "...   ...                                ...                       ...   \n",
      "9285  NaN  CUPID'S TREASURES OF CHICAGO,INC.         3519 N HALSTED ST   \n",
      "9286  775           THOREK MEMORIAL HOSPITAL   850 W IRVING PARK RD  1   \n",
      "9287  775                   The Bar on Buena           910 W BUENA AVE   \n",
      "9288  774                  PARK MARKET FOODS  3949 N PINE GROVE AVE  1   \n",
      "9289  775             A-1 DONUT & SNACK SHOP        3938 N SHERIDAN RD   \n",
      "\n",
      "      zip_lic  \n",
      "0     60622.0  \n",
      "1     60622.0  \n",
      "2     60647.0  \n",
      "3     60622.0  \n",
      "4     60622.0  \n",
      "...       ...  \n",
      "9285  60657.0  \n",
      "9286  60613.0  \n",
      "9287  60613.0  \n",
      "9288  60613.0  \n",
      "9289  60613.0  \n",
      "\n",
      "[9290 rows x 9 columns]\n"
     ]
    }
   ],
   "source": [
    "ward_lincenses=wards.merge(lincenses,on=\"ward\",suffixes=(\"_ward\",\"_lic\"))\n",
    "print(ward_lincenses)"
   ]
  },
  {
   "cell_type": "markdown",
   "metadata": {
    "id": "2AR3ecUhvnZi"
   },
   "source": [
    "3.\t**Complete the following tasks.\n",
    "•\tStarting with the licenses table on the left, merge it to the biz_owners table on the column account, and save the results to a variable named licenses_owners.\n",
    "•\tGroup licenses_owners by title and count the number of accounts for each title using .agg({'account':'count'}). Save the result as counted_df\n",
    "•\tSort counted_df by the number of accounts in descending order, and save this as a variable named sorted_df.\n",
    "•\tUse the .head() method to print the first few rows of the sorted_df.**\n"
   ]
  },
  {
   "cell_type": "code",
   "execution_count": 29,
   "metadata": {
    "colab": {
     "base_uri": "https://localhost:8080/"
    },
    "id": "2F_p5TrGv4jV",
    "outputId": "5966b386-d149-4519-9090-213de7f4b6d0"
   },
   "outputs": [
    {
     "name": "stdout",
     "output_type": "stream",
     "text": [
      "      account first_name  last_name           title\n",
      "0          10      PEARL    SHERMAN       PRESIDENT\n",
      "1          10      PEARL    SHERMAN       SECRETARY\n",
      "2       10002     WALTER     MROZEK         PARTNER\n",
      "3       10002     CELINA     BYRDAK         PARTNER\n",
      "4       10005      IRENE  ROSENFELD       PRESIDENT\n",
      "...       ...        ...        ...             ...\n",
      "21347    9513     THOMAS     MAHLUM       SECRETARY\n",
      "21348    9563  GUADALUPE      PEREZ       PRESIDENT\n",
      "21349    9638     STEVEN     JENSEN  VICE PRESIDENT\n",
      "21350    9922     MANUEL    SALAZAR       SECRETARY\n",
      "21351    9933    MICHAEL       KNAB       PRESIDENT\n",
      "\n",
      "[21352 rows x 4 columns]\n",
      "     account ward  aid                   business                     address  \\\n",
      "0     307071    3  743       REGGIE'S BAR & GRILL             2105 S STATE ST   \n",
      "1         10   10  829                 HONEYBEERS         13200 S HOUSTON AVE   \n",
      "2      10002   14  775                CELINA DELI           5089 S ARCHER AVE   \n",
      "3      10005   12  NaN  KRAFT FOODS NORTH AMERICA              2005 W 43RD ST   \n",
      "4      10044   44  638  NEYBOUR'S TAVERN & GRILLE        3651 N SOUTHPORT AVE   \n",
      "...      ...  ...  ...                        ...                         ...   \n",
      "9995    8634   10  NaN                 J M V CORP              2717 E 95TH ST   \n",
      "9996   86350   42  708        AMERICASH LOANS LLC          103 N WELLS ST 1ST   \n",
      "9997   86352   23  775                MC DONALD'S        6720 W ARCHER AVE  1   \n",
      "9998   86355   43  638       VOSGES HAUT-CHOCOLAT        951 W ARMITAGE AVE 1   \n",
      "9999   86373   20  775    ALMUFLIHI FOOD & LIQUOR  5400-5404 S HALSTED ST 1ST   \n",
      "\n",
      "        zip  \n",
      "0     60616  \n",
      "1     60633  \n",
      "2     60632  \n",
      "3     60609  \n",
      "4     60613  \n",
      "...     ...  \n",
      "9995  60617  \n",
      "9996  60606  \n",
      "9997  60638  \n",
      "9998  60614  \n",
      "9999  60609  \n",
      "\n",
      "[10000 rows x 6 columns]\n"
     ]
    }
   ],
   "source": [
    "biz_owners=pd.read_pickle(\"business_owners.p\")\n",
    "lincenses=pd.read_pickle(\"licenses.p\")\n",
    "print(biz_owners)\n",
    "print(lincenses)"
   ]
  },
  {
   "cell_type": "code",
   "execution_count": 30,
   "metadata": {
    "id": "S2xNkoRXwUUU"
   },
   "outputs": [],
   "source": [
    "lincenses_onwers=lincenses.merge(biz_owners,on=\"account\")"
   ]
  },
  {
   "cell_type": "code",
   "execution_count": 31,
   "metadata": {
    "colab": {
     "base_uri": "https://localhost:8080/",
     "height": 802
    },
    "id": "Ugk6Y0gbwtwN",
    "outputId": "3f77dccb-3999-4532-c938-1a9e3b8eef84"
   },
   "outputs": [
    {
     "data": {
      "text/html": [
       "<div>\n",
       "<style scoped>\n",
       "    .dataframe tbody tr th:only-of-type {\n",
       "        vertical-align: middle;\n",
       "    }\n",
       "\n",
       "    .dataframe tbody tr th {\n",
       "        vertical-align: top;\n",
       "    }\n",
       "\n",
       "    .dataframe thead th {\n",
       "        text-align: right;\n",
       "    }\n",
       "</style>\n",
       "<table border=\"1\" class=\"dataframe\">\n",
       "  <thead>\n",
       "    <tr style=\"text-align: right;\">\n",
       "      <th></th>\n",
       "      <th>account</th>\n",
       "    </tr>\n",
       "    <tr>\n",
       "      <th>title</th>\n",
       "      <th></th>\n",
       "    </tr>\n",
       "  </thead>\n",
       "  <tbody>\n",
       "    <tr>\n",
       "      <th>ASST. SECRETARY</th>\n",
       "      <td>111</td>\n",
       "    </tr>\n",
       "    <tr>\n",
       "      <th>BENEFICIARY</th>\n",
       "      <td>4</td>\n",
       "    </tr>\n",
       "    <tr>\n",
       "      <th>CEO</th>\n",
       "      <td>110</td>\n",
       "    </tr>\n",
       "    <tr>\n",
       "      <th>DIRECTOR</th>\n",
       "      <td>146</td>\n",
       "    </tr>\n",
       "    <tr>\n",
       "      <th>EXECUTIVE DIRECTOR</th>\n",
       "      <td>10</td>\n",
       "    </tr>\n",
       "    <tr>\n",
       "      <th>GENERAL PARTNER</th>\n",
       "      <td>21</td>\n",
       "    </tr>\n",
       "    <tr>\n",
       "      <th>INDIVIDUAL</th>\n",
       "      <td>268</td>\n",
       "    </tr>\n",
       "    <tr>\n",
       "      <th>LIMITED PARTNER</th>\n",
       "      <td>26</td>\n",
       "    </tr>\n",
       "    <tr>\n",
       "      <th>MANAGER</th>\n",
       "      <td>134</td>\n",
       "    </tr>\n",
       "    <tr>\n",
       "      <th>MANAGING MEMBER</th>\n",
       "      <td>878</td>\n",
       "    </tr>\n",
       "    <tr>\n",
       "      <th>MEMBER</th>\n",
       "      <td>884</td>\n",
       "    </tr>\n",
       "    <tr>\n",
       "      <th>NOT APPLICABLE</th>\n",
       "      <td>11</td>\n",
       "    </tr>\n",
       "    <tr>\n",
       "      <th>OTHER</th>\n",
       "      <td>1200</td>\n",
       "    </tr>\n",
       "    <tr>\n",
       "      <th>PARTNER</th>\n",
       "      <td>451</td>\n",
       "    </tr>\n",
       "    <tr>\n",
       "      <th>PRESIDENT</th>\n",
       "      <td>6259</td>\n",
       "    </tr>\n",
       "    <tr>\n",
       "      <th>PRINCIPAL OFFICER</th>\n",
       "      <td>63</td>\n",
       "    </tr>\n",
       "    <tr>\n",
       "      <th>SECRETARY</th>\n",
       "      <td>5205</td>\n",
       "    </tr>\n",
       "    <tr>\n",
       "      <th>SHAREHOLDER</th>\n",
       "      <td>590</td>\n",
       "    </tr>\n",
       "    <tr>\n",
       "      <th>SOLE PROPRIETOR</th>\n",
       "      <td>1658</td>\n",
       "    </tr>\n",
       "    <tr>\n",
       "      <th>SPOUSE</th>\n",
       "      <td>34</td>\n",
       "    </tr>\n",
       "    <tr>\n",
       "      <th>TREASURER</th>\n",
       "      <td>447</td>\n",
       "    </tr>\n",
       "    <tr>\n",
       "      <th>TRUSTEE</th>\n",
       "      <td>6</td>\n",
       "    </tr>\n",
       "    <tr>\n",
       "      <th>VICE PRESIDENT</th>\n",
       "      <td>970</td>\n",
       "    </tr>\n",
       "  </tbody>\n",
       "</table>\n",
       "</div>"
      ],
      "text/plain": [
       "                    account\n",
       "title                      \n",
       "ASST. SECRETARY         111\n",
       "BENEFICIARY               4\n",
       "CEO                     110\n",
       "DIRECTOR                146\n",
       "EXECUTIVE DIRECTOR       10\n",
       "GENERAL PARTNER          21\n",
       "INDIVIDUAL              268\n",
       "LIMITED PARTNER          26\n",
       "MANAGER                 134\n",
       "MANAGING MEMBER         878\n",
       "MEMBER                  884\n",
       "NOT APPLICABLE           11\n",
       "OTHER                  1200\n",
       "PARTNER                 451\n",
       "PRESIDENT              6259\n",
       "PRINCIPAL OFFICER        63\n",
       "SECRETARY              5205\n",
       "SHAREHOLDER             590\n",
       "SOLE PROPRIETOR        1658\n",
       "SPOUSE                   34\n",
       "TREASURER               447\n",
       "TRUSTEE                   6\n",
       "VICE PRESIDENT          970"
      ]
     },
     "execution_count": 31,
     "metadata": {},
     "output_type": "execute_result"
    }
   ],
   "source": [
    "counted_df=lincenses_onwers.groupby(\"title\").agg({\"account\":\"count\"})\n",
    "counted_df"
   ]
  },
  {
   "cell_type": "code",
   "execution_count": 32,
   "metadata": {
    "colab": {
     "base_uri": "https://localhost:8080/"
    },
    "id": "lJ5KWF4AxCyQ",
    "outputId": "a0d4d148-c205-4147-ecd4-010f67ec6c59"
   },
   "outputs": [
    {
     "name": "stdout",
     "output_type": "stream",
     "text": [
      "                 account\n",
      "title                   \n",
      "PRESIDENT           6259\n",
      "SECRETARY           5205\n",
      "SOLE PROPRIETOR     1658\n",
      "OTHER               1200\n",
      "VICE PRESIDENT       970\n"
     ]
    }
   ],
   "source": [
    "sorted_df=counted_df.sort_values(\"account\",ascending=False)\n",
    "print(sorted_df.head())"
   ]
  },
  {
   "cell_type": "markdown",
   "metadata": {
    "id": "WBPfTWzLxshp"
   },
   "source": [
    "\n",
    "\n",
    "---\n",
    "\n"
   ]
  },
  {
   "cell_type": "markdown",
   "metadata": {
    "id": "PjMCtWTA16UG"
   },
   "source": [
    "4.\t**Complete the following tasks.\n",
    "•\tMerge the ridership and cal tables together, starting with the ridership table on the left and save the result to the variable ridership_cal.\n",
    "•\tExtend the previous merge to three tables by also merging the stations table.\n",
    "•\tCreate a variable called filter_criteria to select the appropriate rows from the merged table so that you can sum the rides column.**\n"
   ]
  },
  {
   "cell_type": "code",
   "execution_count": 33,
   "metadata": {
    "id": "Yu14flqIx8Vi"
   },
   "outputs": [],
   "source": [
    "cal=pd.read_pickle(\"cta_calendar.p\")\n",
    "ridership=pd.read_pickle(\"cta_ridership.p\")\n",
    "stations=pd.read_pickle(\"stations.p\")"
   ]
  },
  {
   "cell_type": "code",
   "execution_count": 34,
   "metadata": {
    "colab": {
     "base_uri": "https://localhost:8080/"
    },
    "id": "UAgEwmqP2JXs",
    "outputId": "9c81bed0-55b7-40c9-db6d-7b35bd27ff21"
   },
   "outputs": [
    {
     "name": "stdout",
     "output_type": "stream",
     "text": [
      "   year  month  day        day_type\n",
      "0  2019      1    1  Sunday/Holiday\n",
      "1  2019      1    2         Weekday\n",
      "2  2019      1    3         Weekday\n",
      "3  2019      1    4         Weekday\n",
      "4  2019      1    5        Saturday\n",
      "  station_id  year  month  day  rides\n",
      "0      40010  2019      1    1    576\n",
      "1      40010  2019      1    2   1457\n",
      "2      40010  2019      1    3   1543\n",
      "3      40010  2019      1    4   1621\n",
      "4      40010  2019      1    5    719\n",
      "  station_id        station_name                 location\n",
      "0      40010  Austin-Forest Park  (41.870851, -87.776812)\n",
      "1      40020         Harlem-Lake  (41.886848, -87.803176)\n",
      "2      40030        Pulaski-Lake  (41.885412, -87.725404)\n",
      "3      40040        Quincy/Wells   (41.878723, -87.63374)\n",
      "4      40050               Davis   (42.04771, -87.683543)\n"
     ]
    }
   ],
   "source": [
    "print(cal.head())\n",
    "print(ridership.head())\n",
    "print(stations.head())"
   ]
  },
  {
   "cell_type": "code",
   "execution_count": 35,
   "metadata": {
    "colab": {
     "base_uri": "https://localhost:8080/"
    },
    "id": "T5Lal_yq2Btb",
    "outputId": "c3ed83d7-a8e4-49a9-caee-29ab21b33b53"
   },
   "outputs": [
    {
     "name": "stdout",
     "output_type": "stream",
     "text": [
      "     station_id  year  month  day  rides        day_type        station_name  \\\n",
      "0         40010  2019      1    1    576  Sunday/Holiday  Austin-Forest Park   \n",
      "1         40010  2019      1    2   1457         Weekday  Austin-Forest Park   \n",
      "2         40010  2019      1    3   1543         Weekday  Austin-Forest Park   \n",
      "3         40010  2019      1    4   1621         Weekday  Austin-Forest Park   \n",
      "4         40010  2019      1    5    719        Saturday  Austin-Forest Park   \n",
      "...         ...   ...    ...  ...    ...             ...                 ...   \n",
      "3280      41660  2019     12   27  13898         Weekday          Lake/State   \n",
      "3281      41660  2019     12   28   9485        Saturday          Lake/State   \n",
      "3282      41660  2019     12   29   7581  Sunday/Holiday          Lake/State   \n",
      "3283      41660  2019     12   30  15332         Weekday          Lake/State   \n",
      "3284      41660  2019     12   31  13430         Weekday          Lake/State   \n",
      "\n",
      "                     location  \n",
      "0     (41.870851, -87.776812)  \n",
      "1     (41.870851, -87.776812)  \n",
      "2     (41.870851, -87.776812)  \n",
      "3     (41.870851, -87.776812)  \n",
      "4     (41.870851, -87.776812)  \n",
      "...                       ...  \n",
      "3280  (41.884809, -87.627813)  \n",
      "3281  (41.884809, -87.627813)  \n",
      "3282  (41.884809, -87.627813)  \n",
      "3283  (41.884809, -87.627813)  \n",
      "3284  (41.884809, -87.627813)  \n",
      "\n",
      "[3285 rows x 8 columns]\n"
     ]
    }
   ],
   "source": [
    "#ridership_cal=ridership.merge(cal)\n",
    "\n",
    "#merging the ridersip ,cal and stations tables\n",
    "ridership_cal_stations=ridership.merge(cal,on=[\"year\",\"month\",\"day\"]).merge(stations)\n",
    "print(ridership_cal_stations)"
   ]
  },
  {
   "cell_type": "code",
   "execution_count": 36,
   "metadata": {
    "colab": {
     "base_uri": "https://localhost:8080/"
    },
    "id": "f6rFZn2V3IgW",
    "outputId": "c7855963-a85f-4955-ba6d-7c888f907a30"
   },
   "outputs": [
    {
     "name": "stdout",
     "output_type": "stream",
     "text": [
      "     station_id  year  month  day  rides        day_type        station_name  \\\n",
      "0         40010  2019      1    1    576  Sunday/Holiday  Austin-Forest Park   \n",
      "1         40010  2019      1    2   1457         Weekday  Austin-Forest Park   \n",
      "2         40010  2019      1    3   1543         Weekday  Austin-Forest Park   \n",
      "3         40010  2019      1    4   1621         Weekday  Austin-Forest Park   \n",
      "4         40010  2019      1    5    719        Saturday  Austin-Forest Park   \n",
      "...         ...   ...    ...  ...    ...             ...                 ...   \n",
      "3280      41660  2019     12   27  13898         Weekday          Lake/State   \n",
      "3281      41660  2019     12   28   9485        Saturday          Lake/State   \n",
      "3282      41660  2019     12   29   7581  Sunday/Holiday          Lake/State   \n",
      "3283      41660  2019     12   30  15332         Weekday          Lake/State   \n",
      "3284      41660  2019     12   31  13430         Weekday          Lake/State   \n",
      "\n",
      "                     location  \n",
      "0     (41.870851, -87.776812)  \n",
      "1     (41.870851, -87.776812)  \n",
      "2     (41.870851, -87.776812)  \n",
      "3     (41.870851, -87.776812)  \n",
      "4     (41.870851, -87.776812)  \n",
      "...                       ...  \n",
      "3280  (41.884809, -87.627813)  \n",
      "3281  (41.884809, -87.627813)  \n",
      "3282  (41.884809, -87.627813)  \n",
      "3283  (41.884809, -87.627813)  \n",
      "3284  (41.884809, -87.627813)  \n",
      "\n",
      "[3285 rows x 8 columns]\n"
     ]
    }
   ],
   "source": [
    "\n",
    "ridership_cal_stations=ridership.merge(cal,on=[\"year\",\"month\",\"day\"]).merge(stations,on=\"station_id\")\n",
    "print(ridership_cal_stations)"
   ]
  },
  {
   "cell_type": "code",
   "execution_count": 37,
   "metadata": {
    "colab": {
     "base_uri": "https://localhost:8080/"
    },
    "id": "0tR7YrWV3e4y",
    "outputId": "b5f5d50f-a486-4fcd-d71c-22268d4c4ba9"
   },
   "outputs": [
    {
     "name": "stdout",
     "output_type": "stream",
     "text": [
      "140005\n"
     ]
    }
   ],
   "source": [
    "filter_criteria=((ridership_cal_stations[\"month\"]==7)\n",
    "                  &(ridership_cal_stations[\"day_type\"]==\"Weekday\")\n",
    "                  &(ridership_cal_stations[\"station_name\"]==\"Wilson\"))\n",
    "##############caution########################case / name senstitice\n",
    "print(ridership_cal_stations.loc[filter_criteria,\"rides\"].sum())"
   ]
  },
  {
   "cell_type": "markdown",
   "metadata": {
    "id": "6In87taD4mKZ"
   },
   "source": [
    "5.\t**Complete the following tasks.\n",
    "•\tStarting with the licenses table, merge to it the zip_demo table on the zip column. Then merge the resulting table to the wards table on the ward column. Save result of the three merged tables to a variable named licenses_zip_ward.\n",
    "•\tGroup the results of the three merged tables by the column alderman and find the median income (agg({'income':'median'}).**\n"
   ]
  },
  {
   "cell_type": "code",
   "execution_count": 38,
   "metadata": {
    "id": "xzx1jm5F4lho"
   },
   "outputs": [],
   "source": [
    "lincenses=pd.read_pickle(\"licenses.p\")\n",
    "wards=pd.read_pickle(\"ward.p\")\n",
    "zip_demo=pd.read_pickle(\"zip_demo.p\")\n"
   ]
  },
  {
   "cell_type": "code",
   "execution_count": 39,
   "metadata": {
    "colab": {
     "base_uri": "https://localhost:8080/"
    },
    "id": "kZYQ_c7r5WEA",
    "outputId": "d0751d8b-8882-41fc-89ff-dbff3f75d128"
   },
   "outputs": [
    {
     "name": "stdout",
     "output_type": "stream",
     "text": [
      "  account ward  aid                   business               address    zip\n",
      "0  307071    3  743       REGGIE'S BAR & GRILL       2105 S STATE ST  60616\n",
      "1      10   10  829                 HONEYBEERS   13200 S HOUSTON AVE  60633\n",
      "2   10002   14  775                CELINA DELI     5089 S ARCHER AVE  60632\n",
      "3   10005   12  NaN  KRAFT FOODS NORTH AMERICA        2005 W 43RD ST  60609\n",
      "4   10044   44  638  NEYBOUR'S TAVERN & GRILLE  3651 N SOUTHPORT AVE  60613\n",
      "  ward            alderman                          address    zip\n",
      "0    1  Proco \"Joe\" Moreno        2058 NORTH WESTERN AVENUE  60647\n",
      "1    2       Brian Hopkins       1400 NORTH  ASHLAND AVENUE  60622\n",
      "2    3          Pat Dowell          5046 SOUTH STATE STREET  60609\n",
      "3    4    William D. Burns  435 EAST 35TH STREET, 1ST FLOOR  60616\n",
      "4    5  Leslie A. Hairston            2325 EAST 71ST STREET  60649\n",
      "     zip  income\n",
      "0  60630   70122\n",
      "1  60640   50488\n",
      "2  60622   87143\n",
      "3  60614  100116\n",
      "4  60608   41226\n"
     ]
    }
   ],
   "source": [
    "print(lincenses.head())\n",
    "print(wards.head())\n",
    "print(zip_demo.head())"
   ]
  },
  {
   "cell_type": "code",
   "execution_count": 40,
   "metadata": {
    "colab": {
     "base_uri": "https://localhost:8080/"
    },
    "id": "DUTQRLF_4ld5",
    "outputId": "542dc506-fee9-4d8d-8f28-81bb3ba5a6dc"
   },
   "outputs": [
    {
     "name": "stdout",
     "output_type": "stream",
     "text": [
      "     account ward  aid                   business                address_x  \\\n",
      "0     307071    3  743       REGGIE'S BAR & GRILL          2105 S STATE ST   \n",
      "1      11280    3  763                  PRIME WAY      2251 S STATE ST 1ST   \n",
      "2      15015    3  NaN      SOUTHVIEW MANOR, INC.      3311 S MICHIGAN AVE   \n",
      "3      19168    3  666                   BP AMOCO  3101 S MICHIGAN AVE 1ST   \n",
      "4     205980    3  763      J & J  FISH & CHICKEN            8 E CERMAK RD   \n",
      "...      ...  ...  ...                        ...                      ...   \n",
      "9989  278535   18  NaN       LOOP DEVELOPMENT PTR           3135 W 71ST ST   \n",
      "9990   35801   18  NaN    MOTHER'S TOUCH DAY CARE       2501 W 71ST ST 1ST   \n",
      "9991  395464   18  894      Brother's Barber Shop         2445 W 71ST ST 1   \n",
      "9992   42012   18  NaN               WINSTON LOTT       2957 W 71ST ST 1ST   \n",
      "9993   85634   18  NaN  KIDS \"R\" US OUTLET CENTER     7455 S CICERO AVE  1   \n",
      "\n",
      "      zip_x  income           alderman                address_y  zip_y  \n",
      "0     60616   46340         Pat Dowell  5046 SOUTH STATE STREET  60609  \n",
      "1     60616   46340         Pat Dowell  5046 SOUTH STATE STREET  60609  \n",
      "2     60616   46340         Pat Dowell  5046 SOUTH STATE STREET  60609  \n",
      "3     60616   46340         Pat Dowell  5046 SOUTH STATE STREET  60609  \n",
      "4     60616   46340         Pat Dowell  5046 SOUTH STATE STREET  60609  \n",
      "...     ...     ...                ...                      ...    ...  \n",
      "9989  60629   41856  Derrick G. Curtis  8359 SOUTH PULASKI ROAD  60652  \n",
      "9990  60629   41856  Derrick G. Curtis  8359 SOUTH PULASKI ROAD  60652  \n",
      "9991  60629   41856  Derrick G. Curtis  8359 SOUTH PULASKI ROAD  60652  \n",
      "9992  60629   41856  Derrick G. Curtis  8359 SOUTH PULASKI ROAD  60652  \n",
      "9993  60629   41856  Derrick G. Curtis  8359 SOUTH PULASKI ROAD  60652  \n",
      "\n",
      "[9994 rows x 10 columns]\n"
     ]
    }
   ],
   "source": [
    "lincenses_zip_wards=lincenses.merge(zip_demo,on=\"zip\").merge(wards,on=\"ward\")\n",
    "print(lincenses_zip_wards)"
   ]
  },
  {
   "cell_type": "code",
   "execution_count": 41,
   "metadata": {
    "colab": {
     "base_uri": "https://localhost:8080/"
    },
    "id": "Gw4dU5Ls6soq",
    "outputId": "a5aea66e-88da-44f3-b36c-7a525c0723da"
   },
   "outputs": [
    {
     "data": {
      "text/plain": [
       "0              Pat Dowell\n",
       "1              Pat Dowell\n",
       "2              Pat Dowell\n",
       "3              Pat Dowell\n",
       "4              Pat Dowell\n",
       "              ...        \n",
       "9989    Derrick G. Curtis\n",
       "9990    Derrick G. Curtis\n",
       "9991    Derrick G. Curtis\n",
       "9992    Derrick G. Curtis\n",
       "9993    Derrick G. Curtis\n",
       "Name: alderman, Length: 9994, dtype: object"
      ]
     },
     "execution_count": 41,
     "metadata": {},
     "output_type": "execute_result"
    }
   ],
   "source": [
    "lincenses_zip_wards[\"alderman\"]\n"
   ]
  },
  {
   "cell_type": "markdown",
   "metadata": {
    "id": "H68N1Lop9370"
   },
   "source": [
    "6.\t**Complete the following tasks.\n",
    "•\tWhat column is likely the best column to merge the two tables on?\n",
    "•\tMerge the movies table, as the left table, with the financials table using a left join, and save the result to movies_financials.\n",
    "•\tCount the number of rows in movies_financials with a null value in the budget column**"
   ]
  },
  {
   "cell_type": "code",
   "execution_count": 42,
   "metadata": {
    "colab": {
     "base_uri": "https://localhost:8080/"
    },
    "id": "dDqYJRXM-RUT",
    "outputId": "efa36791-4f03-48df-b4fb-56783b66b705"
   },
   "outputs": [
    {
     "name": "stdout",
     "output_type": "stream",
     "text": [
      "      id                 title  popularity release_date\n",
      "0    257          Oliver Twist   20.415572   2005-09-23\n",
      "1  14290  Better Luck Tomorrow    3.877036   2002-01-12\n",
      "2  38365             Grown Ups   38.864027   2010-06-24\n",
      "3   9672              Infamous    3.680896   2006-11-16\n",
      "4  12819       Alpha and Omega   12.300789   2010-09-17\n",
      "       id     budget       revenue\n",
      "0   19995  237000000  2.787965e+09\n",
      "1     285  300000000  9.610000e+08\n",
      "2  206647  245000000  8.806746e+08\n",
      "3   49026  250000000  1.084939e+09\n",
      "4   49529  260000000  2.841391e+08\n"
     ]
    }
   ],
   "source": [
    "movies=pd.read_pickle(\"movies.p\")\n",
    "finicials=pd.read_pickle(\"financials.p\")\n",
    "print(movies.head())\n",
    "print(finicials.head())"
   ]
  },
  {
   "cell_type": "code",
   "execution_count": 43,
   "metadata": {
    "colab": {
     "base_uri": "https://localhost:8080/"
    },
    "id": "d3nXrYAN-xTM",
    "outputId": "9f091889-e84f-4691-c78c-0909f95b70a8"
   },
   "outputs": [
    {
     "name": "stdout",
     "output_type": "stream",
     "text": [
      "         id                 title  popularity release_date      budget  \\\n",
      "0       257          Oliver Twist   20.415572   2005-09-23  50000000.0   \n",
      "1     14290  Better Luck Tomorrow    3.877036   2002-01-12         NaN   \n",
      "2     38365             Grown Ups   38.864027   2010-06-24  80000000.0   \n",
      "3      9672              Infamous    3.680896   2006-11-16  13000000.0   \n",
      "4     12819       Alpha and Omega   12.300789   2010-09-17  20000000.0   \n",
      "...     ...                   ...         ...          ...         ...   \n",
      "4798   3089             Red River    5.344815   1948-08-26   3000000.0   \n",
      "4799  11934   The Hudsucker Proxy   14.188982   1994-03-11         NaN   \n",
      "4800  13807                Exiled    8.486390   2006-09-06         NaN   \n",
      "4801  73873          Albert Nobbs    7.802245   2011-12-21   8000000.0   \n",
      "4802  11622   Blast from the Past    8.737058   1999-02-12  35000000.0   \n",
      "\n",
      "          revenue  \n",
      "0      42093706.0  \n",
      "1             NaN  \n",
      "2     271430189.0  \n",
      "3       1151330.0  \n",
      "4      39300000.0  \n",
      "...           ...  \n",
      "4798    9012000.0  \n",
      "4799          NaN  \n",
      "4800          NaN  \n",
      "4801    5634828.0  \n",
      "4802   40263020.0  \n",
      "\n",
      "[4803 rows x 6 columns]\n"
     ]
    }
   ],
   "source": [
    "movies_finicial=movies.merge(finicials,on=\"id\",how=\"left\")\n",
    "#merging movies and finicials with a left join\n",
    "print(movies_finicial)"
   ]
  },
  {
   "cell_type": "code",
   "execution_count": 44,
   "metadata": {
    "colab": {
     "base_uri": "https://localhost:8080/"
    },
    "id": "9Cket7Ti_GV6",
    "outputId": "8f3b829d-7b75-4410-fee9-67991ea89fe0"
   },
   "outputs": [
    {
     "name": "stdout",
     "output_type": "stream",
     "text": [
      "1574\n"
     ]
    }
   ],
   "source": [
    "number_of_missing_vals=movies_finicial[\"budget\"].isna().sum()\n",
    "print(number_of_missing_vals)"
   ]
  },
  {
   "cell_type": "code",
   "execution_count": null,
   "metadata": {},
   "outputs": [],
   "source": []
  }
 ],
 "metadata": {
  "colab": {
   "provenance": []
  },
  "kernelspec": {
   "display_name": "Python 3 (ipykernel)",
   "language": "python",
   "name": "python3"
  },
  "language_info": {
   "codemirror_mode": {
    "name": "ipython",
    "version": 3
   },
   "file_extension": ".py",
   "mimetype": "text/x-python",
   "name": "python",
   "nbconvert_exporter": "python",
   "pygments_lexer": "ipython3",
   "version": "3.9.13"
  }
 },
 "nbformat": 4,
 "nbformat_minor": 1
}
