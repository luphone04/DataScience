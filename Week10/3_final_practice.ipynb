{
 "cells": [
  {
   "cell_type": "code",
   "execution_count": 319,
   "id": "b04a1abf",
   "metadata": {},
   "outputs": [
    {
     "ename": "ModuleNotFoundError",
     "evalue": "No module named 'sklearn.module'",
     "output_type": "error",
     "traceback": [
      "\u001b[0;31m---------------------------------------------------------------------------\u001b[0m",
      "\u001b[0;31mModuleNotFoundError\u001b[0m                       Traceback (most recent call last)",
      "\u001b[0;32m/var/folders/4j/bnvctt7152z6l5l6szd4m7wh0000gn/T/ipykernel_52961/873984391.py\u001b[0m in \u001b[0;36m<module>\u001b[0;34m\u001b[0m\n\u001b[0;32m----> 1\u001b[0;31m \u001b[0;32mfrom\u001b[0m \u001b[0msklearn\u001b[0m\u001b[0;34m.\u001b[0m\u001b[0mmodule\u001b[0m \u001b[0;32mimport\u001b[0m \u001b[0mModel\u001b[0m\u001b[0;34m\u001b[0m\u001b[0;34m\u001b[0m\u001b[0m\n\u001b[0m\u001b[1;32m      2\u001b[0m \u001b[0mmodel\u001b[0m \u001b[0;34m=\u001b[0m \u001b[0mModel\u001b[0m\u001b[0;34m(\u001b[0m\u001b[0;34m)\u001b[0m\u001b[0;34m\u001b[0m\u001b[0;34m\u001b[0m\u001b[0m\n\u001b[1;32m      3\u001b[0m \u001b[0mmodel\u001b[0m\u001b[0;34m.\u001b[0m\u001b[0mfit\u001b[0m\u001b[0;34m(\u001b[0m\u001b[0mX\u001b[0m \u001b[0;34m,\u001b[0m \u001b[0my\u001b[0m\u001b[0;34m)\u001b[0m\u001b[0;34m\u001b[0m\u001b[0;34m\u001b[0m\u001b[0m\n\u001b[1;32m      4\u001b[0m \u001b[0mpredictions\u001b[0m \u001b[0;34m=\u001b[0m \u001b[0mmodel\u001b[0m\u001b[0;34m.\u001b[0m\u001b[0mpredict\u001b[0m\u001b[0;34m(\u001b[0m\u001b[0mX_new\u001b[0m\u001b[0;34m)\u001b[0m\u001b[0;34m\u001b[0m\u001b[0;34m\u001b[0m\u001b[0m\n\u001b[1;32m      5\u001b[0m \u001b[0mprint\u001b[0m\u001b[0;34m(\u001b[0m\u001b[0mpredictions\u001b[0m\u001b[0;34m)\u001b[0m\u001b[0;34m\u001b[0m\u001b[0;34m\u001b[0m\u001b[0m\n",
      "\u001b[0;31mModuleNotFoundError\u001b[0m: No module named 'sklearn.module'"
     ]
    }
   ],
   "source": [
    "from sklearn.module import Model\n",
    "model = Model()\n",
    "model.fit(X , y)\n",
    "predictions = model.predict(X_new)\n",
    "print(predictions)"
   ]
  },
  {
   "cell_type": "code",
   "execution_count": 320,
   "id": "6e47e254",
   "metadata": {},
   "outputs": [
    {
     "name": "stdout",
     "output_type": "stream",
     "text": [
      "(3, 2)\n"
     ]
    },
    {
     "name": "stderr",
     "output_type": "stream",
     "text": [
      "/Users/richard/opt/anaconda3/lib/python3.9/site-packages/sklearn/base.py:439: UserWarning: X does not have valid feature names, but KNeighborsClassifier was fitted with feature names\n",
      "  warnings.warn(\n"
     ]
    },
    {
     "ename": "ValueError",
     "evalue": "X has 2 features, but KNeighborsClassifier is expecting 3 features as input.",
     "output_type": "error",
     "traceback": [
      "\u001b[0;31m---------------------------------------------------------------------------\u001b[0m",
      "\u001b[0;31mValueError\u001b[0m                                Traceback (most recent call last)",
      "\u001b[0;32m/var/folders/4j/bnvctt7152z6l5l6szd4m7wh0000gn/T/ipykernel_52961/364942278.py\u001b[0m in \u001b[0;36m<module>\u001b[0;34m\u001b[0m\n\u001b[1;32m      3\u001b[0m \u001b[0mX_new\u001b[0m \u001b[0;34m=\u001b[0m \u001b[0mnp\u001b[0m\u001b[0;34m.\u001b[0m\u001b[0marray\u001b[0m\u001b[0;34m(\u001b[0m\u001b[0;34m[\u001b[0m\u001b[0;34m[\u001b[0m\u001b[0;36m56.8\u001b[0m\u001b[0;34m,\u001b[0m \u001b[0;36m17.5\u001b[0m\u001b[0;34m]\u001b[0m\u001b[0;34m,\u001b[0m\u001b[0;34m[\u001b[0m\u001b[0;36m24.4\u001b[0m\u001b[0;34m,\u001b[0m \u001b[0;36m24.11\u001b[0m\u001b[0;34m]\u001b[0m\u001b[0;34m,\u001b[0m\u001b[0;34m[\u001b[0m\u001b[0;36m50.1\u001b[0m\u001b[0;34m,\u001b[0m \u001b[0;36m10.9\u001b[0m\u001b[0;34m]\u001b[0m\u001b[0;34m]\u001b[0m\u001b[0;34m)\u001b[0m\u001b[0;34m\u001b[0m\u001b[0;34m\u001b[0m\u001b[0m\n\u001b[1;32m      4\u001b[0m \u001b[0mprint\u001b[0m \u001b[0;34m(\u001b[0m\u001b[0mX_new\u001b[0m\u001b[0;34m.\u001b[0m\u001b[0mshape\u001b[0m\u001b[0;34m)\u001b[0m \u001b[0;31m#(3, 2)\u001b[0m\u001b[0;34m\u001b[0m\u001b[0;34m\u001b[0m\u001b[0m\n\u001b[0;32m----> 5\u001b[0;31m \u001b[0mpredictions\u001b[0m \u001b[0;34m=\u001b[0m \u001b[0mknn\u001b[0m\u001b[0;34m.\u001b[0m\u001b[0mpredict\u001b[0m\u001b[0;34m(\u001b[0m\u001b[0mX_new\u001b[0m\u001b[0;34m)\u001b[0m\u001b[0;34m\u001b[0m\u001b[0;34m\u001b[0m\u001b[0m\n\u001b[0m\u001b[1;32m      6\u001b[0m \u001b[0mprint\u001b[0m \u001b[0;34m(\u001b[0m\u001b[0;34m'Predictions: {}'\u001b[0m\u001b[0;34m.\u001b[0m\u001b[0mformat\u001b[0m \u001b[0;34m(\u001b[0m\u001b[0mpredictions\u001b[0m\u001b[0;34m)\u001b[0m\u001b[0;34m)\u001b[0m \u001b[0;31m#Predictions: [1 0 0]\u001b[0m\u001b[0;34m\u001b[0m\u001b[0;34m\u001b[0m\u001b[0m\n",
      "\u001b[0;32m~/opt/anaconda3/lib/python3.9/site-packages/sklearn/neighbors/_classification.py\u001b[0m in \u001b[0;36mpredict\u001b[0;34m(self, X)\u001b[0m\n\u001b[1;32m    232\u001b[0m             \u001b[0;31m# In that case, we do not need the distances to perform\u001b[0m\u001b[0;34m\u001b[0m\u001b[0;34m\u001b[0m\u001b[0m\n\u001b[1;32m    233\u001b[0m             \u001b[0;31m# the weighting so we do not compute them.\u001b[0m\u001b[0;34m\u001b[0m\u001b[0;34m\u001b[0m\u001b[0m\n\u001b[0;32m--> 234\u001b[0;31m             \u001b[0mneigh_ind\u001b[0m \u001b[0;34m=\u001b[0m \u001b[0mself\u001b[0m\u001b[0;34m.\u001b[0m\u001b[0mkneighbors\u001b[0m\u001b[0;34m(\u001b[0m\u001b[0mX\u001b[0m\u001b[0;34m,\u001b[0m \u001b[0mreturn_distance\u001b[0m\u001b[0;34m=\u001b[0m\u001b[0;32mFalse\u001b[0m\u001b[0;34m)\u001b[0m\u001b[0;34m\u001b[0m\u001b[0;34m\u001b[0m\u001b[0m\n\u001b[0m\u001b[1;32m    235\u001b[0m             \u001b[0mneigh_dist\u001b[0m \u001b[0;34m=\u001b[0m \u001b[0;32mNone\u001b[0m\u001b[0;34m\u001b[0m\u001b[0;34m\u001b[0m\u001b[0m\n\u001b[1;32m    236\u001b[0m         \u001b[0;32melse\u001b[0m\u001b[0;34m:\u001b[0m\u001b[0;34m\u001b[0m\u001b[0;34m\u001b[0m\u001b[0m\n",
      "\u001b[0;32m~/opt/anaconda3/lib/python3.9/site-packages/sklearn/neighbors/_base.py\u001b[0m in \u001b[0;36mkneighbors\u001b[0;34m(self, X, n_neighbors, return_distance)\u001b[0m\n\u001b[1;32m    804\u001b[0m                 \u001b[0mX\u001b[0m \u001b[0;34m=\u001b[0m \u001b[0m_check_precomputed\u001b[0m\u001b[0;34m(\u001b[0m\u001b[0mX\u001b[0m\u001b[0;34m)\u001b[0m\u001b[0;34m\u001b[0m\u001b[0;34m\u001b[0m\u001b[0m\n\u001b[1;32m    805\u001b[0m             \u001b[0;32melse\u001b[0m\u001b[0;34m:\u001b[0m\u001b[0;34m\u001b[0m\u001b[0;34m\u001b[0m\u001b[0m\n\u001b[0;32m--> 806\u001b[0;31m                 \u001b[0mX\u001b[0m \u001b[0;34m=\u001b[0m \u001b[0mself\u001b[0m\u001b[0;34m.\u001b[0m\u001b[0m_validate_data\u001b[0m\u001b[0;34m(\u001b[0m\u001b[0mX\u001b[0m\u001b[0;34m,\u001b[0m \u001b[0maccept_sparse\u001b[0m\u001b[0;34m=\u001b[0m\u001b[0;34m\"csr\"\u001b[0m\u001b[0;34m,\u001b[0m \u001b[0mreset\u001b[0m\u001b[0;34m=\u001b[0m\u001b[0;32mFalse\u001b[0m\u001b[0;34m,\u001b[0m \u001b[0morder\u001b[0m\u001b[0;34m=\u001b[0m\u001b[0;34m\"C\"\u001b[0m\u001b[0;34m)\u001b[0m\u001b[0;34m\u001b[0m\u001b[0;34m\u001b[0m\u001b[0m\n\u001b[0m\u001b[1;32m    807\u001b[0m \u001b[0;34m\u001b[0m\u001b[0m\n\u001b[1;32m    808\u001b[0m         \u001b[0mn_samples_fit\u001b[0m \u001b[0;34m=\u001b[0m \u001b[0mself\u001b[0m\u001b[0;34m.\u001b[0m\u001b[0mn_samples_fit_\u001b[0m\u001b[0;34m\u001b[0m\u001b[0;34m\u001b[0m\u001b[0m\n",
      "\u001b[0;32m~/opt/anaconda3/lib/python3.9/site-packages/sklearn/base.py\u001b[0m in \u001b[0;36m_validate_data\u001b[0;34m(self, X, y, reset, validate_separately, **check_params)\u001b[0m\n\u001b[1;32m    586\u001b[0m \u001b[0;34m\u001b[0m\u001b[0m\n\u001b[1;32m    587\u001b[0m         \u001b[0;32mif\u001b[0m \u001b[0;32mnot\u001b[0m \u001b[0mno_val_X\u001b[0m \u001b[0;32mand\u001b[0m \u001b[0mcheck_params\u001b[0m\u001b[0;34m.\u001b[0m\u001b[0mget\u001b[0m\u001b[0;34m(\u001b[0m\u001b[0;34m\"ensure_2d\"\u001b[0m\u001b[0;34m,\u001b[0m \u001b[0;32mTrue\u001b[0m\u001b[0;34m)\u001b[0m\u001b[0;34m:\u001b[0m\u001b[0;34m\u001b[0m\u001b[0;34m\u001b[0m\u001b[0m\n\u001b[0;32m--> 588\u001b[0;31m             \u001b[0mself\u001b[0m\u001b[0;34m.\u001b[0m\u001b[0m_check_n_features\u001b[0m\u001b[0;34m(\u001b[0m\u001b[0mX\u001b[0m\u001b[0;34m,\u001b[0m \u001b[0mreset\u001b[0m\u001b[0;34m=\u001b[0m\u001b[0mreset\u001b[0m\u001b[0;34m)\u001b[0m\u001b[0;34m\u001b[0m\u001b[0;34m\u001b[0m\u001b[0m\n\u001b[0m\u001b[1;32m    589\u001b[0m \u001b[0;34m\u001b[0m\u001b[0m\n\u001b[1;32m    590\u001b[0m         \u001b[0;32mreturn\u001b[0m \u001b[0mout\u001b[0m\u001b[0;34m\u001b[0m\u001b[0;34m\u001b[0m\u001b[0m\n",
      "\u001b[0;32m~/opt/anaconda3/lib/python3.9/site-packages/sklearn/base.py\u001b[0m in \u001b[0;36m_check_n_features\u001b[0;34m(self, X, reset)\u001b[0m\n\u001b[1;32m    387\u001b[0m \u001b[0;34m\u001b[0m\u001b[0m\n\u001b[1;32m    388\u001b[0m         \u001b[0;32mif\u001b[0m \u001b[0mn_features\u001b[0m \u001b[0;34m!=\u001b[0m \u001b[0mself\u001b[0m\u001b[0;34m.\u001b[0m\u001b[0mn_features_in_\u001b[0m\u001b[0;34m:\u001b[0m\u001b[0;34m\u001b[0m\u001b[0;34m\u001b[0m\u001b[0m\n\u001b[0;32m--> 389\u001b[0;31m             raise ValueError(\n\u001b[0m\u001b[1;32m    390\u001b[0m                 \u001b[0;34mf\"X has {n_features} features, but {self.__class__.__name__} \"\u001b[0m\u001b[0;34m\u001b[0m\u001b[0;34m\u001b[0m\u001b[0m\n\u001b[1;32m    391\u001b[0m                 \u001b[0;34mf\"is expecting {self.n_features_in_} features as input.\"\u001b[0m\u001b[0;34m\u001b[0m\u001b[0;34m\u001b[0m\u001b[0m\n",
      "\u001b[0;31mValueError\u001b[0m: X has 2 features, but KNeighborsClassifier is expecting 3 features as input."
     ]
    }
   ],
   "source": [
    "import numpy as np\n",
    "from sklearn.neighbors import KNeighborsClassifier\n",
    "X_new = np.array([[56.8, 17.5],[24.4, 24.11],[50.1, 10.9]])\n",
    "print (X_new.shape) #(3, 2)\n",
    "predictions = knn.predict(X_new)\n",
    "print ('Predictions: {}'.format (predictions)) #Predictions: [1 0 0]"
   ]
  },
  {
   "cell_type": "markdown",
   "id": "3b39b1b7",
   "metadata": {},
   "source": [
    "# K- NEAREST NEIGHBORS: FIT"
   ]
  },
  {
   "cell_type": "code",
   "execution_count": 321,
   "id": "cd59eb87",
   "metadata": {},
   "outputs": [
    {
     "name": "stdout",
     "output_type": "stream",
     "text": [
      "X:  [[45.85 17.65]\n",
      " [22.3   9.05]\n",
      " [24.62 17.53]\n",
      " ...\n",
      " [42.47 20.6 ]\n",
      " [46.48 13.09]\n",
      " [27.2  15.68]]\n",
      "y:  [1 0 0 ... 1 0 0]\n",
      "............................................................................\n",
      "............................................................................\n",
      "............................................................................\n",
      "............................................................................\n",
      "............................................................................\n",
      "(3333, 2) (3333,)\n"
     ]
    }
   ],
   "source": [
    "from sklearn.neighbors import KNeighborsClassifier\n",
    "import pandas as pd\n",
    "churn_df = pd.read_csv(\"churn_df.csv\")\n",
    "\n",
    "#used to extract the underlying data as a NumPy array.\n",
    "X = churn_df[['total_day_charge',  'total_eve_charge']].values \n",
    "y = churn_df['churn'].values\n",
    "\n",
    "print(\"X: \", X)\n",
    "print(\"y: \",y)\n",
    "#determine the dimensions (i.e., the number of rows and columns) of the array or DataFrame. \n",
    "#It returns a tuple representing the shape of the data structure.\n",
    "print(\"............................................................................\")\n",
    "print(\"............................................................................\")\n",
    "print(\"............................................................................\")\n",
    "print(\"............................................................................\")\n",
    "print(\"............................................................................\")\n",
    "print(X.shape, y.shape)"
   ]
  },
  {
   "cell_type": "code",
   "execution_count": 322,
   "id": "170fece6",
   "metadata": {},
   "outputs": [
    {
     "data": {
      "text/html": [
       "<style>#sk-container-id-14 {color: black;background-color: white;}#sk-container-id-14 pre{padding: 0;}#sk-container-id-14 div.sk-toggleable {background-color: white;}#sk-container-id-14 label.sk-toggleable__label {cursor: pointer;display: block;width: 100%;margin-bottom: 0;padding: 0.3em;box-sizing: border-box;text-align: center;}#sk-container-id-14 label.sk-toggleable__label-arrow:before {content: \"▸\";float: left;margin-right: 0.25em;color: #696969;}#sk-container-id-14 label.sk-toggleable__label-arrow:hover:before {color: black;}#sk-container-id-14 div.sk-estimator:hover label.sk-toggleable__label-arrow:before {color: black;}#sk-container-id-14 div.sk-toggleable__content {max-height: 0;max-width: 0;overflow: hidden;text-align: left;background-color: #f0f8ff;}#sk-container-id-14 div.sk-toggleable__content pre {margin: 0.2em;color: black;border-radius: 0.25em;background-color: #f0f8ff;}#sk-container-id-14 input.sk-toggleable__control:checked~div.sk-toggleable__content {max-height: 200px;max-width: 100%;overflow: auto;}#sk-container-id-14 input.sk-toggleable__control:checked~label.sk-toggleable__label-arrow:before {content: \"▾\";}#sk-container-id-14 div.sk-estimator input.sk-toggleable__control:checked~label.sk-toggleable__label {background-color: #d4ebff;}#sk-container-id-14 div.sk-label input.sk-toggleable__control:checked~label.sk-toggleable__label {background-color: #d4ebff;}#sk-container-id-14 input.sk-hidden--visually {border: 0;clip: rect(1px 1px 1px 1px);clip: rect(1px, 1px, 1px, 1px);height: 1px;margin: -1px;overflow: hidden;padding: 0;position: absolute;width: 1px;}#sk-container-id-14 div.sk-estimator {font-family: monospace;background-color: #f0f8ff;border: 1px dotted black;border-radius: 0.25em;box-sizing: border-box;margin-bottom: 0.5em;}#sk-container-id-14 div.sk-estimator:hover {background-color: #d4ebff;}#sk-container-id-14 div.sk-parallel-item::after {content: \"\";width: 100%;border-bottom: 1px solid gray;flex-grow: 1;}#sk-container-id-14 div.sk-label:hover label.sk-toggleable__label {background-color: #d4ebff;}#sk-container-id-14 div.sk-serial::before {content: \"\";position: absolute;border-left: 1px solid gray;box-sizing: border-box;top: 0;bottom: 0;left: 50%;z-index: 0;}#sk-container-id-14 div.sk-serial {display: flex;flex-direction: column;align-items: center;background-color: white;padding-right: 0.2em;padding-left: 0.2em;position: relative;}#sk-container-id-14 div.sk-item {position: relative;z-index: 1;}#sk-container-id-14 div.sk-parallel {display: flex;align-items: stretch;justify-content: center;background-color: white;position: relative;}#sk-container-id-14 div.sk-item::before, #sk-container-id-14 div.sk-parallel-item::before {content: \"\";position: absolute;border-left: 1px solid gray;box-sizing: border-box;top: 0;bottom: 0;left: 50%;z-index: -1;}#sk-container-id-14 div.sk-parallel-item {display: flex;flex-direction: column;z-index: 1;position: relative;background-color: white;}#sk-container-id-14 div.sk-parallel-item:first-child::after {align-self: flex-end;width: 50%;}#sk-container-id-14 div.sk-parallel-item:last-child::after {align-self: flex-start;width: 50%;}#sk-container-id-14 div.sk-parallel-item:only-child::after {width: 0;}#sk-container-id-14 div.sk-dashed-wrapped {border: 1px dashed gray;margin: 0 0.4em 0.5em 0.4em;box-sizing: border-box;padding-bottom: 0.4em;background-color: white;}#sk-container-id-14 div.sk-label label {font-family: monospace;font-weight: bold;display: inline-block;line-height: 1.2em;}#sk-container-id-14 div.sk-label-container {text-align: center;}#sk-container-id-14 div.sk-container {/* jupyter's `normalize.less` sets `[hidden] { display: none; }` but bootstrap.min.css set `[hidden] { display: none !important; }` so we also need the `!important` here to be able to override the default hidden behavior on the sphinx rendered scikit-learn.org. See: https://github.com/scikit-learn/scikit-learn/issues/21755 */display: inline-block !important;position: relative;}#sk-container-id-14 div.sk-text-repr-fallback {display: none;}</style><div id=\"sk-container-id-14\" class=\"sk-top-container\"><div class=\"sk-text-repr-fallback\"><pre>KNeighborsClassifier(n_neighbors=15)</pre><b>In a Jupyter environment, please rerun this cell to show the HTML representation or trust the notebook. <br />On GitHub, the HTML representation is unable to render, please try loading this page with nbviewer.org.</b></div><div class=\"sk-container\" hidden><div class=\"sk-item\"><div class=\"sk-estimator sk-toggleable\"><input class=\"sk-toggleable__control sk-hidden--visually\" id=\"sk-estimator-id-14\" type=\"checkbox\" checked><label for=\"sk-estimator-id-14\" class=\"sk-toggleable__label sk-toggleable__label-arrow\">KNeighborsClassifier</label><div class=\"sk-toggleable__content\"><pre>KNeighborsClassifier(n_neighbors=15)</pre></div></div></div></div></div>"
      ],
      "text/plain": [
       "KNeighborsClassifier(n_neighbors=15)"
      ]
     },
     "execution_count": 322,
     "metadata": {},
     "output_type": "execute_result"
    }
   ],
   "source": [
    "# specify the hyperparameter n_neighbors as 15,\n",
    "#which means the algorithm will consider the 15 nearest neighbors when making predictions.\n",
    "knn = KNeighborsClassifier(n_neighbors = 15)\n",
    "\n",
    "\n",
    "# .fit() method to train the model.\n",
    "#represents the FEATURE DATA/ x (often called the independent variables) that you want the model to learn from. \n",
    "#X should be a 2D array or DataFrame where each row corresponds to a data point, and each column \n",
    "#represents a feature.\n",
    "\n",
    "#represents the TARGET VARIABLE/ y (often called the dependent variable) that the model is trying to predict. \n",
    "#y should be a 1D array or Series containing the target values corresponding to each data point in X.\n",
    "\n",
    "#input and trains the KNN CLASSIFIER using the provided data. \n",
    "#The classifier learns to make predictions based on the patterns and relationships it finds in the training data.\n",
    "\n",
    "#knn will be a trained KNN CLASSIFIER that can be used to make predictions on new, unseen data \n",
    "knn.fit(X ,y)"
   ]
  },
  {
   "cell_type": "code",
   "execution_count": 323,
   "id": "13f03f9d",
   "metadata": {},
   "outputs": [
    {
     "name": "stdout",
     "output_type": "stream",
     "text": [
      "(3, 2)\n"
     ]
    }
   ],
   "source": [
    "X_new = np.array([[56.8, 17.5] , [24.4,24.1], [50.1,10.9]])\n",
    "print(X_new.shape)"
   ]
  },
  {
   "cell_type": "markdown",
   "id": "672d4236",
   "metadata": {},
   "source": [
    "# k-Nearest Neighbors: Predict"
   ]
  },
  {
   "cell_type": "markdown",
   "id": "2060a259",
   "metadata": {},
   "source": [
    "\n",
    "\n",
    "Now you have fit a KNN classifier, you can use it to predict the label of new data points. All available data was used for training, however, fortunately, there are new observations available, X_new.\n",
    "\n",
    "The model knn, which you created and fit the data in the last exercise, will be used. You will use your classifier to predict the labels of a set of new data points:\n",
    "\n",
    "X_new = np.array([[30.0, 17.5], [107.0, 24.1],[213.0, 10.9]])\n",
    "\n",
    "Instructions\n",
    "\n",
    "• Create y_pred by predicting the target values of the unseen features\n",
    "X_new.\n",
    "\n",
    "• Print the predicted labels for the set of predictions."
   ]
  },
  {
   "cell_type": "code",
   "execution_count": 324,
   "id": "d85f1962",
   "metadata": {},
   "outputs": [
    {
     "name": "stdout",
     "output_type": "stream",
     "text": [
      "Predictions: [0 1 1]\n"
     ]
    }
   ],
   "source": [
    "X_new = np.array([[30.0, 17.5], [107.0, 24.1],[213.0, 10.9]])\n",
    "predictions = knn.predict(X_new)\n",
    "print(f'Predictions: {predictions}')"
   ]
  },
  {
   "cell_type": "code",
   "execution_count": 325,
   "id": "96329d65",
   "metadata": {},
   "outputs": [
    {
     "name": "stdout",
     "output_type": "stream",
     "text": [
      "(3333, 2) (3333,)\n",
      "(3, 2)\n",
      "Predictions: [0 1 0]\n"
     ]
    }
   ],
   "source": [
    "X = churn_df[[\"account_length\" , \"customer_service_calls\"]].values\n",
    "y = churn_df[\"churn\"].values\n",
    "print(X.shape , y.shape)\n",
    "knn = KNeighborsClassifier(n_neighbors = 6)\n",
    "knn.fit(X , y)\n",
    "X_new = np.array([[30.0, 17.5], [107.0, 24.1],[213.0, 10.9]])\n",
    "\n",
    "print(X_new.shape)\n",
    "predictions = knn.predict(X_new)\n",
    "print('Predictions: {}'.format(predictions))"
   ]
  },
  {
   "cell_type": "markdown",
   "id": "4fb157b7",
   "metadata": {},
   "source": [
    "# MEASURING MODEL PERFORMANCE"
   ]
  },
  {
   "cell_type": "code",
   "execution_count": 326,
   "id": "3423c553",
   "metadata": {},
   "outputs": [
    {
     "name": "stdout",
     "output_type": "stream",
     "text": [
      "0.858\n"
     ]
    }
   ],
   "source": [
    "from sklearn.model_selection import train_test_split\n",
    "\n",
    "#reserves 30% of the data for testing /  30% of the data will be reserved for testing / 70% will be used for training.\n",
    "\n",
    "#ensures that the data is split consistently by setting the random seed/ serves as a random seed for the \n",
    "#data splitting process. It ensures that the data split is reproducible. When you set random_state to a \n",
    "#specific integer (e.g., 21), the data will be split in the same way every time you run the code,\n",
    "\n",
    "#ensure that the class distribution is preserved in both the training and testing sets.\n",
    "# ensures that the class distribution in the target variable (y) is preserved in both the training and \n",
    "#testing sets. In other words, each class in the target variable will be represented in roughly the same \n",
    "#proportion in both sets as it is in the original dataset. \n",
    "X_train, X_test, y_train, y_test = train_test_split(X , y , test_size = 0.3, random_state = 21, stratify = y)\n",
    "\n",
    "#create a k-NN classifier with n_neighbors=6, meaning it will consider the 6 nearest neighbors when making predictions.\n",
    "knn = KNeighborsClassifier(n_neighbors = 6)\n",
    "\n",
    "# k-NN classifier using the training data (X_train and y_train).\n",
    "knn.fit(X_train, y_train)\n",
    "\n",
    "#computes the accuracy score of the k-NN classifier on the testing data (X_test and y_test) to assess \n",
    "#its performance. The accuracy score is a measure of HOW MANY MODEL OF THE PREDICTIONS are correct.\n",
    "print(knn.score(X_test, y_test))"
   ]
  },
  {
   "cell_type": "markdown",
   "id": "52c9885d",
   "metadata": {},
   "source": [
    "Exercise\n",
    "\n",
    "NumPy arrays have been created for you containing the features as X and the target variable as y. You will split them into training and test sets, fit a KNN classifier to the training data, and then compute its accuracy on the test data using the .score() method.\n",
    "\n",
    "Instructions:\n",
    "\n",
    "• Import train_test_split from sklearn.model_selection.\n",
    "• Create Numpy arrays having all columns, except churn, as features X, and target variable, churn, as target variable y\n",
    "\n",
    "• Split X and y into training and test sets, setting test_size equal to 20%, random_state to 42, and ensuring the target label\n",
    "proportions reflect that of the original dataset.\n",
    "\n",
    "• Fit the knn model to the training data.\n",
    "\n",
    "• Compute and print the model's accuracy for the test data.\n",
    "\n",
    "#Import the module\n",
    "\n",
    "from sklearn.model_selection import train_test_split\n",
    "\n",
    "X = churn_df.drop(\"churn\", axis=1).values y = churn_df[\"churn\"].values"
   ]
  },
  {
   "cell_type": "code",
   "execution_count": 329,
   "id": "e428f183",
   "metadata": {},
   "outputs": [
    {
     "data": {
      "text/plain": [
       "{1: 0.861551650235748,\n",
       " 2: 0.8731247321045864,\n",
       " 3: 0.8731247321045864,\n",
       " 4: 0.866695242177454,\n",
       " 5: 0.866695242177454,\n",
       " 6: 0.8636948135447922,\n",
       " 7: 0.8645520788684098,\n",
       " 8: 0.8594084869267038,\n",
       " 9: 0.8611230175739392,\n",
       " 10: 0.8572653236176596,\n",
       " 11: 0.8576939562794685,\n",
       " 12: 0.856408058294042,\n",
       " 13: 0.8585512216030862,\n",
       " 14: 0.8555507929704244,\n",
       " 15: 0.8568366909558508,\n",
       " 16: 0.8572653236176596,\n",
       " 17: 0.8576939562794685,\n",
       " 18: 0.8551221603086155,\n",
       " 19: 0.8555507929704244,\n",
       " 20: 0.8551221603086155,\n",
       " 21: 0.8555507929704244,\n",
       " 22: 0.8551221603086155,\n",
       " 23: 0.8551221603086155,\n",
       " 24: 0.8551221603086155,\n",
       " 25: 0.8551221603086155}"
      ]
     },
     "execution_count": 329,
     "metadata": {},
     "output_type": "execute_result"
    }
   ],
   "source": [
    "train_accuracies"
   ]
  },
  {
   "cell_type": "code",
   "execution_count": 330,
   "id": "4f9e2dd3",
   "metadata": {},
   "outputs": [
    {
     "data": {
      "text/plain": [
       "{1: 0.777,\n",
       " 2: 0.847,\n",
       " 3: 0.836,\n",
       " 4: 0.857,\n",
       " 5: 0.854,\n",
       " 6: 0.858,\n",
       " 7: 0.856,\n",
       " 8: 0.851,\n",
       " 9: 0.852,\n",
       " 10: 0.854,\n",
       " 11: 0.854,\n",
       " 12: 0.854,\n",
       " 13: 0.854,\n",
       " 14: 0.854,\n",
       " 15: 0.855,\n",
       " 16: 0.854,\n",
       " 17: 0.855,\n",
       " 18: 0.855,\n",
       " 19: 0.855,\n",
       " 20: 0.855,\n",
       " 21: 0.855,\n",
       " 22: 0.855,\n",
       " 23: 0.855,\n",
       " 24: 0.855,\n",
       " 25: 0.855}"
      ]
     },
     "execution_count": 330,
     "metadata": {},
     "output_type": "execute_result"
    }
   ],
   "source": [
    "test_accuracies"
   ]
  },
  {
   "cell_type": "code",
   "execution_count": 328,
   "id": "5b70997a",
   "metadata": {},
   "outputs": [
    {
     "name": "stdout",
     "output_type": "stream",
     "text": [
      "Accuracy of the KNN classifier on test data: 84.56%\n"
     ]
    }
   ],
   "source": [
    "# from sklearn.model_selection import train_test_split\n",
    "# X = churn_df.drop(\"churn\", axis = 1).values\n",
    "# y = churn_df[\"churn\"].values\n",
    "# X_train, X_test, y_train, y_test = train_test_split(X , y , test_size = 0.2, random_state = 42, stratify = y)\n",
    "# knn = KNeighborsClassifier()\n",
    "# knn.fit(X_train , y_train)\n",
    "# accuracy = knn.score(X_test, y_test)\n",
    "# print(\"Accuracy of the KNN classifier on test data: {:.2f}%\".format(accuracy * 100))\n",
    "\n",
    "# Create Numpy arrays for features (X) and target variable (y)\n",
    "churn_df = pd.read_csv(\"churn_df.csv\")\n",
    "X = churn_df.drop(\"churn\", axis=1).values\n",
    "y = churn_df[\"churn\"].values\n",
    "\n",
    "# Split the data into training and test sets\n",
    "X_train, X_test, y_train, y_test = train_test_split(X, y, test_size=0.20, random_state=42, stratify=y)\n",
    "\n",
    "# Initialize and fit the KNN classifier\n",
    "knn = KNeighborsClassifier()\n",
    "knn.fit(X_train, y_train)\n",
    "\n",
    "# Compute and print the model's accuracy on the test data\n",
    "accuracy = knn.score(X_test, y_test)\n",
    "print(\"Accuracy of the KNN classifier on test data: {:.2f}%\".format(accuracy * 100))"
   ]
  },
  {
   "cell_type": "markdown",
   "id": "0bb4a89e",
   "metadata": {},
   "source": [
    "# OVERFITTING AND UNDERFITTING"
   ]
  },
  {
   "cell_type": "code",
   "execution_count": 259,
   "id": "05f4bdfb",
   "metadata": {},
   "outputs": [
    {
     "data": {
      "image/png": "[encoded data removed]",
      "text/plain": [
       "<Figure size 1000x600 with 1 Axes>"
      ]
     },
     "metadata": {},
     "output_type": "display_data"
    }
   ],
   "source": [
    "# neighbors = np.arange(1,13)\n",
    "# train_accuracies = {}\n",
    "# test_accuracies = {}\n",
    "# for neighbor in neighbors:\n",
    "#     knn = KNeighborsClassifier(n_neighbors = neighbor)\n",
    "#     knn.fit(X_train, y_train)\n",
    "#     train_accuracy = knn.score(X_train, y_train)\n",
    "#     test_accuracy = knn.score(X_test, y_test)\n",
    "    \n",
    "#     # Store the accuracy scores in dictionaries\n",
    "#     train_accuracies[neighbor] = train_accuracy\n",
    "#     test_accuracies[neighbor] = test_accuracy\n",
    "# plt.figure(figsize=(10, 6))\n",
    "# plt.plot(neighbors, list(train_accuracies.values()) , label = \"Training Accuracy\")\n",
    "# plt.plot(neighbors, list(test_accuracies.values()), label = \"Testing Accuracy\")\n",
    "# plt.title('KNN: Varying Number of Neighbours')\n",
    "# plt.xlabel('Number of Neighbors')\n",
    "# plt.ylabel('Accuracy')\n",
    "# plt.legend()\n",
    "# plt.show()\n",
    "\n",
    "# Create an array of values from 1 to 12 for the number of neighbors\n",
    "neighbors = np.arange(1, 13)\n",
    "\n",
    "# Create empty dictionaries to store the accuracy scores\n",
    "train_accuracies = {}\n",
    "test_accuracies = {}\n",
    "\n",
    "# Iterate through different values of neighbors\n",
    "for n in neighbors:\n",
    "    # Instantiate a KNN classifier with n_neighbors=n\n",
    "    knn = KNeighborsClassifier(n_neighbors=n)\n",
    "    \n",
    "    # Fit the model to the training data\n",
    "    knn.fit(X_train, y_train)\n",
    "    \n",
    "    # Calculate accuracy scores for training and test sets\n",
    "    train_accuracy = knn.score(X_train, y_train)\n",
    "    test_accuracy = knn.score(X_test, y_test)\n",
    "    \n",
    "    # Store the accuracy scores in dictionaries\n",
    "    train_accuracies[n] = train_accuracy\n",
    "    test_accuracies[n] = test_accuracy\n",
    "\n",
    "# Plot the accuracy scores for training and test sets\n",
    "plt.figure(figsize=(10, 6))\n",
    "plt.plot(neighbors, list(train_accuracies.values()), label='Training Accuracy')\n",
    "plt.plot(neighbors, list(test_accuracies.values()), label='Test Accuracy')\n",
    "plt.title('KNN: Varying Number of Neighbours')\n",
    "plt.xlabel('Number of Neighbors')\n",
    "plt.ylabel('Accuracy')\n",
    "plt.legend()\n",
    "plt.show()"
   ]
  },
  {
   "cell_type": "code",
   "execution_count": 260,
   "id": "690ff932",
   "metadata": {},
   "outputs": [
    {
     "data": {
      "text/plain": [
       "{1: 1.0,\n",
       " 2: 0.8758439609902475,\n",
       " 3: 0.881470367591898,\n",
       " 4: 0.8649662415603901,\n",
       " 5: 0.8675918979744937,\n",
       " 6: 0.8593398349587397,\n",
       " 7: 0.8612153038259565,\n",
       " 8: 0.8552138034508627,\n",
       " 9: 0.8563390847711928,\n",
       " 10: 0.8552138034508627,\n",
       " 11: 0.8548387096774194,\n",
       " 12: 0.8552138034508627}"
      ]
     },
     "execution_count": 260,
     "metadata": {},
     "output_type": "execute_result"
    }
   ],
   "source": [
    "train_accuracies"
   ]
  },
  {
   "cell_type": "code",
   "execution_count": 261,
   "id": "e43fb183",
   "metadata": {},
   "outputs": [
    {
     "data": {
      "text/plain": [
       "{1: 0.7796101949025487,\n",
       " 2: 0.848575712143928,\n",
       " 3: 0.8350824587706147,\n",
       " 4: 0.8470764617691154,\n",
       " 5: 0.8455772113943029,\n",
       " 6: 0.8530734632683659,\n",
       " 7: 0.8530734632683659,\n",
       " 8: 0.8545727136431784,\n",
       " 9: 0.8530734632683659,\n",
       " 10: 0.8545727136431784,\n",
       " 11: 0.8545727136431784,\n",
       " 12: 0.8545727136431784}"
      ]
     },
     "execution_count": 261,
     "metadata": {},
     "output_type": "execute_result"
    }
   ],
   "source": [
    "test_accuracies"
   ]
  },
  {
   "cell_type": "code",
   "execution_count": 262,
   "id": "f773d3e5",
   "metadata": {},
   "outputs": [
    {
     "name": "stdout",
     "output_type": "stream",
     "text": [
      "[ 1  2  3  4  5  6  7  8  9 10 11 12]\n",
      "{1: 1.0, 2: 0.8758439609902475, 3: 0.881470367591898, 4: 0.8649662415603901, 5: 0.8675918979744937, 6: 0.8593398349587397, 7: 0.8612153038259565, 8: 0.8552138034508627, 9: 0.8563390847711928, 10: 0.8552138034508627, 11: 0.8548387096774194, 12: 0.8552138034508627}\n",
      "{1: 0.7796101949025487, 2: 0.848575712143928, 3: 0.8350824587706147, 4: 0.8470764617691154, 5: 0.8455772113943029, 6: 0.8530734632683659, 7: 0.8530734632683659, 8: 0.8545727136431784, 9: 0.8530734632683659, 10: 0.8545727136431784, 11: 0.8545727136431784, 12: 0.8545727136431784}\n"
     ]
    }
   ],
   "source": [
    "print(neighbors)\n",
    "print(train_accuracies)\n",
    "print(test_accuracies)"
   ]
  },
  {
   "cell_type": "markdown",
   "id": "951c7718",
   "metadata": {},
   "source": [
    "# REGRESSION WITH SCIKIT LEARN"
   ]
  },
  {
   "cell_type": "code",
   "execution_count": 263,
   "id": "5a8f6a92",
   "metadata": {},
   "outputs": [
    {
     "name": "stdout",
     "output_type": "stream",
     "text": [
      "   pregnancies  glucose  triceps  insulin   bmi  age  diabetes\n",
      "0            6      148       35        0  33.6   50         1\n",
      "1            1       85       29        0  26.6   31         0\n",
      "2            8      183        0        0  23.3   32         1\n",
      "3            1       89       23       94  28.1   21         0\n",
      "4            0      137       35      168  43.1   33         1\n"
     ]
    }
   ],
   "source": [
    "import pandas as pd\n",
    "diabetes_df = pd.read_csv(\"diabetes.csv\", index_col = 0)\n",
    "print(diabetes_df.head())"
   ]
  },
  {
   "cell_type": "markdown",
   "id": "8c536035",
   "metadata": {},
   "source": [
    "# CREATING FEATURE AND TARGET ARRAYS"
   ]
  },
  {
   "cell_type": "code",
   "execution_count": 264,
   "id": "849b4328",
   "metadata": {},
   "outputs": [
    {
     "name": "stdout",
     "output_type": "stream",
     "text": [
      "(768, 7)\n"
     ]
    }
   ],
   "source": [
    "diabetes_df = pd.read_csv('diabetes.csv', index_col = 0)\n",
    "print(diabetes_df.shape)"
   ]
  },
  {
   "cell_type": "code",
   "execution_count": 265,
   "id": "a73df89f",
   "metadata": {},
   "outputs": [
    {
     "name": "stdout",
     "output_type": "stream",
     "text": [
      "(768, 7)\n",
      "(757, 7)\n",
      "(752, 7)\n"
     ]
    },
    {
     "data": {
      "text/html": [
       "<div>\n",
       "<style scoped>\n",
       "    .dataframe tbody tr th:only-of-type {\n",
       "        vertical-align: middle;\n",
       "    }\n",
       "\n",
       "    .dataframe tbody tr th {\n",
       "        vertical-align: top;\n",
       "    }\n",
       "\n",
       "    .dataframe thead th {\n",
       "        text-align: right;\n",
       "    }\n",
       "</style>\n",
       "<table border=\"1\" class=\"dataframe\">\n",
       "  <thead>\n",
       "    <tr style=\"text-align: right;\">\n",
       "      <th></th>\n",
       "      <th>pregnancies</th>\n",
       "      <th>glucose</th>\n",
       "      <th>triceps</th>\n",
       "      <th>insulin</th>\n",
       "      <th>bmi</th>\n",
       "      <th>age</th>\n",
       "      <th>diabetes</th>\n",
       "    </tr>\n",
       "  </thead>\n",
       "  <tbody>\n",
       "    <tr>\n",
       "      <th>0</th>\n",
       "      <td>6</td>\n",
       "      <td>148</td>\n",
       "      <td>35</td>\n",
       "      <td>0</td>\n",
       "      <td>33.6</td>\n",
       "      <td>50</td>\n",
       "      <td>1</td>\n",
       "    </tr>\n",
       "    <tr>\n",
       "      <th>1</th>\n",
       "      <td>1</td>\n",
       "      <td>85</td>\n",
       "      <td>29</td>\n",
       "      <td>0</td>\n",
       "      <td>26.6</td>\n",
       "      <td>31</td>\n",
       "      <td>0</td>\n",
       "    </tr>\n",
       "    <tr>\n",
       "      <th>2</th>\n",
       "      <td>8</td>\n",
       "      <td>183</td>\n",
       "      <td>0</td>\n",
       "      <td>0</td>\n",
       "      <td>23.3</td>\n",
       "      <td>32</td>\n",
       "      <td>1</td>\n",
       "    </tr>\n",
       "    <tr>\n",
       "      <th>3</th>\n",
       "      <td>1</td>\n",
       "      <td>89</td>\n",
       "      <td>23</td>\n",
       "      <td>94</td>\n",
       "      <td>28.1</td>\n",
       "      <td>21</td>\n",
       "      <td>0</td>\n",
       "    </tr>\n",
       "    <tr>\n",
       "      <th>4</th>\n",
       "      <td>0</td>\n",
       "      <td>137</td>\n",
       "      <td>35</td>\n",
       "      <td>168</td>\n",
       "      <td>43.1</td>\n",
       "      <td>33</td>\n",
       "      <td>1</td>\n",
       "    </tr>\n",
       "  </tbody>\n",
       "</table>\n",
       "</div>"
      ],
      "text/plain": [
       "   pregnancies  glucose  triceps  insulin   bmi  age  diabetes\n",
       "0            6      148       35        0  33.6   50         1\n",
       "1            1       85       29        0  26.6   31         0\n",
       "2            8      183        0        0  23.3   32         1\n",
       "3            1       89       23       94  28.1   21         0\n",
       "4            0      137       35      168  43.1   33         1"
      ]
     },
     "execution_count": 265,
     "metadata": {},
     "output_type": "execute_result"
    }
   ],
   "source": [
    "diabetes_df = pd.read_csv('diabetes.csv', index_col = 0) \n",
    "print(diabetes_df.shape)\n",
    "#subset row for bmi not equal to 0 \n",
    "diabetes_df = diabetes_df[diabetes_df['bmi'] != 0]\n",
    "print(diabetes_df.shape)\n",
    "#subset for glucose not equal to 0 \n",
    "diabetes_df = diabetes_df[diabetes_df['glucose'] != 0]\n",
    "print(diabetes_df.shape)\n",
    "diabetes_df.head()"
   ]
  },
  {
   "cell_type": "code",
   "execution_count": 266,
   "id": "5bc98532",
   "metadata": {},
   "outputs": [
    {
     "name": "stdout",
     "output_type": "stream",
     "text": [
      "<class 'numpy.ndarray'> <class 'numpy.ndarray'>\n"
     ]
    }
   ],
   "source": [
    "X = diabetes_df.drop(\"glucose\", axis = 1).values\n",
    "y = diabetes_df[\"glucose\"].values\n",
    "print(type(X), type(y))\n"
   ]
  },
  {
   "cell_type": "code",
   "execution_count": 267,
   "id": "a23110e1",
   "metadata": {},
   "outputs": [
    {
     "name": "stdout",
     "output_type": "stream",
     "text": [
      "[[  6.   35.    0.   33.6  50.    1. ]\n",
      " [  1.   29.    0.   26.6  31.    0. ]\n",
      " [  8.    0.    0.   23.3  32.    1. ]\n",
      " ...\n",
      " [  5.   23.  112.   26.2  30.    0. ]\n",
      " [  1.    0.    0.   30.1  47.    1. ]\n",
      " [  1.   31.    0.   30.4  23.    0. ]]\n"
     ]
    }
   ],
   "source": [
    "print(X)"
   ]
  },
  {
   "cell_type": "code",
   "execution_count": 268,
   "id": "0e9aaccb",
   "metadata": {},
   "outputs": [
    {
     "name": "stdout",
     "output_type": "stream",
     "text": [
      "[148  85 183  89 137 116  78 115 197 110 168 139 189 166 100 118 107 103\n",
      " 115 126  99 196 119 143 125 147  97 145 117 109 158  88  92 122 103 138\n",
      " 102  90 111 180 133 106 171 159 180 146  71 103 103 101  88 176 150  73\n",
      " 187 100 146 105 133  44 141 114  99 109 109  95 146 100 139 126 129  79\n",
      "  62  95 131 112 113  83 101 137 110 106 100 136 107  80 123  81 134 142\n",
      " 144  92  71  93 122 163 151 125  81  85 126  96 144  83  95 171 155  89\n",
      "  76 160 146 124  78  97  99 162 111 107 132 113  88 120 118 117 105 173\n",
      " 122 170  84  96 125 100  93 129 105 128 106 108 108 154  57 106 147  90\n",
      " 136 114 156 153 188 152  99 109  88 163 151 102 114 100 131 104 148 120\n",
      " 110 111 102 134  87  79  75 179  85 129 143 130  87 119  73 141 194 181\n",
      " 128 109 139 111 123 159 135  85 158 105 107 109 148 113 138 108  99 103\n",
      " 111 196 162  96 184  81 147 179 140 112 151 109 125  85 112 177 158 119\n",
      " 142 100  87 101 162 197 117 142 134  79 122  74 171 181 179 164 104  91\n",
      "  91 139 119 146 184 122 165 124 111 106 129  90  86  92 113 111 114 193\n",
      " 155 191 141  95 142 123  96 138 128 102 146 101 108 122  71 106 100 106\n",
      " 104 114 108 146 129 133 161 108 136 155 119  96 108  78 107 128 128 161\n",
      " 151 146 126 100 112 167 144  77 115 150 120 161 137 128 124  80 106 155\n",
      " 113 109 112  99 182 115 194 129 112 124 152 112 157 122 179 102 105 118\n",
      "  87 180 106  95 165 117 115 152 178 130  95 122  95 126 139 116  99  92\n",
      " 137  61  90  90 165 125 129  88 196 189 158 103 146 147  99 124 101  81\n",
      " 133 173  84 105 122 140  98  87 156  93 107 105 109  90 125 119 116 105\n",
      " 144 100 100 166 131 116 158 127  96 131  82 193  95 137 136  72 168 123\n",
      " 115 101 197 172 102 112 143 143 138 173  97 144  83 129 119  94 102 115\n",
      " 151 184 181 135  95  99  89  80 139  90 141 140 147  97 107 189  83 117\n",
      " 108 117 180 100  95 104 120  82 134  91 119 100 175 135  86 148 134 120\n",
      "  71  74  88 115 124  74  97 120 154 144 137 119 136 114 137 105 114 126\n",
      " 132 158 123  85  84 145 135 139 173  99 194  83  89  99 125 166 110  81\n",
      " 195 154 117  84  94  96  75 180 130  84 120  84 139  91  91  99 163 145\n",
      " 125  76 129  68 124 130 125  87  97 116 117 111 122 107  86  91  77 132\n",
      " 105  57 127 129 100 128  90  84  88 186 187 131 164 189 116  84 114  88\n",
      "  84 124  97 110 103  85 125 198  87  99  91  95  99  92 154 121  78 130\n",
      " 111  98 143 119 108 118 133 197 151 109 121 100 124  93 143 103 176  73\n",
      " 111 112 132  82 123 188  67  89 173 109 108  96 124 150 183 124 181  92\n",
      " 152 111 106 174 168 105 138 106 117  68 112 119 112  92 183  94 108  90\n",
      " 125 132 128  94 114 102 111 128  92 104 104  94  97 100 102 128 147  90\n",
      " 103 157 167 179 136 107  91 117 123 120 106 155 101 120 127  80 162 199\n",
      " 167 145 115 112 145 111  98 154 165  99  68 123  91 195 156  93 121 101\n",
      "  56 162  95 125 129 130 107 140 144 107 158 121 129  90 142 169  99 127\n",
      " 118 122 125 168 129 110  80 127 164  93 158 126 129 134 102 187 173  94\n",
      " 108  97  83 114 149 117 111 112 116 141 175  92 130 120 174 106 105  95\n",
      " 126  65  99 102 120 102 109 140 153 100 147  81 187 162 136 121 108 181\n",
      " 154 128 137 123 106 190  88 170  89 101 122 121 126  93]\n"
     ]
    }
   ],
   "source": [
    "print(y)"
   ]
  },
  {
   "cell_type": "markdown",
   "id": "5840d4bc",
   "metadata": {},
   "source": [
    "# Making predictions from a single feature"
   ]
  },
  {
   "cell_type": "code",
   "execution_count": 331,
   "id": "c99c826f",
   "metadata": {},
   "outputs": [
    {
     "name": "stdout",
     "output_type": "stream",
     "text": [
      "[17.65  9.05 17.53 ... 20.6  13.09 15.68]\n"
     ]
    }
   ],
   "source": [
    "#denotes that you want to include all rows, and 3 specifies that you want the fourth column \n",
    "#(since Python uses zero-based indexing).\n",
    "X_bmi = X[:, 3]\n",
    "print(X_bmi)"
   ]
  },
  {
   "cell_type": "code",
   "execution_count": 270,
   "id": "2555d52e",
   "metadata": {},
   "outputs": [
    {
     "name": "stdout",
     "output_type": "stream",
     "text": [
      "(752,) (752,)\n"
     ]
    }
   ],
   "source": [
    "print(y.shape, X_bmi.shape)"
   ]
  },
  {
   "cell_type": "code",
   "execution_count": 271,
   "id": "1d241f03",
   "metadata": {},
   "outputs": [
    {
     "name": "stdout",
     "output_type": "stream",
     "text": [
      "(752, 1)\n"
     ]
    }
   ],
   "source": [
    "X_bmi = X_bmi.reshape(-1 , 1)\n",
    "print(X_bmi.shape)"
   ]
  },
  {
   "cell_type": "code",
   "execution_count": 272,
   "id": "d7898c94",
   "metadata": {},
   "outputs": [
    {
     "name": "stdout",
     "output_type": "stream",
     "text": [
      "[[33.6]\n",
      " [26.6]\n",
      " [23.3]\n",
      " [28.1]\n",
      " [43.1]\n",
      " [25.6]\n",
      " [31. ]\n",
      " [35.3]\n",
      " [30.5]\n",
      " [37.6]\n",
      " [38. ]\n",
      " [27.1]\n",
      " [30.1]\n",
      " [25.8]\n",
      " [30. ]\n",
      " [45.8]\n",
      " [29.6]\n",
      " [43.3]\n",
      " [34.6]\n",
      " [39.3]\n",
      " [35.4]\n",
      " [39.8]\n",
      " [29. ]\n",
      " [36.6]\n",
      " [31.1]\n",
      " [39.4]\n",
      " [23.2]\n",
      " [22.2]\n",
      " [34.1]\n",
      " [36. ]\n",
      " [31.6]\n",
      " [24.8]\n",
      " [19.9]\n",
      " [27.6]\n",
      " [24. ]\n",
      " [33.2]\n",
      " [32.9]\n",
      " [38.2]\n",
      " [37.1]\n",
      " [34. ]\n",
      " [40.2]\n",
      " [22.7]\n",
      " [45.4]\n",
      " [27.4]\n",
      " [42. ]\n",
      " [29.7]\n",
      " [28. ]\n",
      " [39.1]\n",
      " [19.4]\n",
      " [24.2]\n",
      " [24.4]\n",
      " [33.7]\n",
      " [34.7]\n",
      " [23. ]\n",
      " [37.7]\n",
      " [46.8]\n",
      " [40.5]\n",
      " [41.5]\n",
      " [32.9]\n",
      " [25. ]\n",
      " [25.4]\n",
      " [32.8]\n",
      " [29. ]\n",
      " [32.5]\n",
      " [42.7]\n",
      " [19.6]\n",
      " [28.9]\n",
      " [32.9]\n",
      " [28.6]\n",
      " [43.4]\n",
      " [35.1]\n",
      " [32. ]\n",
      " [32.6]\n",
      " [37.7]\n",
      " [43.2]\n",
      " [25. ]\n",
      " [22.4]\n",
      " [29.3]\n",
      " [24.6]\n",
      " [48.8]\n",
      " [32.4]\n",
      " [36.6]\n",
      " [38.5]\n",
      " [37.1]\n",
      " [26.5]\n",
      " [19.1]\n",
      " [32. ]\n",
      " [46.7]\n",
      " [23.8]\n",
      " [24.7]\n",
      " [33.9]\n",
      " [31.6]\n",
      " [20.4]\n",
      " [28.7]\n",
      " [49.7]\n",
      " [39. ]\n",
      " [26.1]\n",
      " [22.5]\n",
      " [26.6]\n",
      " [39.6]\n",
      " [28.7]\n",
      " [22.4]\n",
      " [29.5]\n",
      " [34.3]\n",
      " [37.4]\n",
      " [33.3]\n",
      " [34. ]\n",
      " [31.2]\n",
      " [34. ]\n",
      " [30.5]\n",
      " [31.2]\n",
      " [34. ]\n",
      " [33.7]\n",
      " [28.2]\n",
      " [23.2]\n",
      " [53.2]\n",
      " [34.2]\n",
      " [33.6]\n",
      " [26.8]\n",
      " [33.3]\n",
      " [55. ]\n",
      " [42.9]\n",
      " [33.3]\n",
      " [34.5]\n",
      " [27.9]\n",
      " [29.7]\n",
      " [33.3]\n",
      " [34.5]\n",
      " [38.3]\n",
      " [21.1]\n",
      " [33.8]\n",
      " [30.8]\n",
      " [28.7]\n",
      " [31.2]\n",
      " [36.9]\n",
      " [21.1]\n",
      " [39.5]\n",
      " [32.5]\n",
      " [32.4]\n",
      " [32.8]\n",
      " [32.8]\n",
      " [30.5]\n",
      " [33.7]\n",
      " [27.3]\n",
      " [37.4]\n",
      " [21.9]\n",
      " [34.3]\n",
      " [40.6]\n",
      " [47.9]\n",
      " [50. ]\n",
      " [24.6]\n",
      " [25.2]\n",
      " [29. ]\n",
      " [40.9]\n",
      " [29.7]\n",
      " [37.2]\n",
      " [44.2]\n",
      " [29.7]\n",
      " [31.6]\n",
      " [29.9]\n",
      " [32.5]\n",
      " [29.6]\n",
      " [31.9]\n",
      " [28.4]\n",
      " [30.8]\n",
      " [35.4]\n",
      " [28.9]\n",
      " [43.5]\n",
      " [29.7]\n",
      " [32.7]\n",
      " [31.2]\n",
      " [67.1]\n",
      " [45. ]\n",
      " [39.1]\n",
      " [23.2]\n",
      " [34.9]\n",
      " [26.8]\n",
      " [27.6]\n",
      " [35.9]\n",
      " [30.1]\n",
      " [32. ]\n",
      " [27.9]\n",
      " [31.6]\n",
      " [22.6]\n",
      " [33.1]\n",
      " [30.4]\n",
      " [52.3]\n",
      " [24.4]\n",
      " [39.4]\n",
      " [24.3]\n",
      " [22.9]\n",
      " [34.8]\n",
      " [30.9]\n",
      " [31. ]\n",
      " [40.1]\n",
      " [27.3]\n",
      " [20.4]\n",
      " [37.7]\n",
      " [23.9]\n",
      " [37.5]\n",
      " [37.7]\n",
      " [33.2]\n",
      " [35.5]\n",
      " [27.7]\n",
      " [42.8]\n",
      " [34.2]\n",
      " [42.6]\n",
      " [34.2]\n",
      " [41.8]\n",
      " [35.8]\n",
      " [30. ]\n",
      " [29. ]\n",
      " [37.8]\n",
      " [34.6]\n",
      " [31.6]\n",
      " [25.2]\n",
      " [28.8]\n",
      " [23.6]\n",
      " [34.6]\n",
      " [35.7]\n",
      " [37.2]\n",
      " [36.7]\n",
      " [45.2]\n",
      " [44. ]\n",
      " [46.2]\n",
      " [25.4]\n",
      " [35. ]\n",
      " [29.7]\n",
      " [43.6]\n",
      " [35.9]\n",
      " [44.1]\n",
      " [30.8]\n",
      " [18.4]\n",
      " [29.2]\n",
      " [33.1]\n",
      " [25.6]\n",
      " [27.1]\n",
      " [38.2]\n",
      " [30. ]\n",
      " [31.2]\n",
      " [52.3]\n",
      " [35.4]\n",
      " [30.1]\n",
      " [31.2]\n",
      " [28. ]\n",
      " [24.4]\n",
      " [35.8]\n",
      " [27.6]\n",
      " [33.6]\n",
      " [30.1]\n",
      " [28.7]\n",
      " [25.9]\n",
      " [33.3]\n",
      " [30.9]\n",
      " [30. ]\n",
      " [32.1]\n",
      " [32.4]\n",
      " [32. ]\n",
      " [33.6]\n",
      " [36.3]\n",
      " [40. ]\n",
      " [25.1]\n",
      " [27.5]\n",
      " [45.6]\n",
      " [25.2]\n",
      " [23. ]\n",
      " [33.2]\n",
      " [34.2]\n",
      " [40.5]\n",
      " [26.5]\n",
      " [27.8]\n",
      " [24.9]\n",
      " [25.3]\n",
      " [37.9]\n",
      " [35.9]\n",
      " [32.4]\n",
      " [30.4]\n",
      " [27. ]\n",
      " [26. ]\n",
      " [38.7]\n",
      " [45.6]\n",
      " [20.8]\n",
      " [36.1]\n",
      " [36.9]\n",
      " [36.6]\n",
      " [43.3]\n",
      " [40.5]\n",
      " [21.9]\n",
      " [35.5]\n",
      " [28. ]\n",
      " [30.7]\n",
      " [36.6]\n",
      " [23.6]\n",
      " [32.3]\n",
      " [31.6]\n",
      " [35.8]\n",
      " [52.9]\n",
      " [21. ]\n",
      " [39.7]\n",
      " [25.5]\n",
      " [24.8]\n",
      " [30.5]\n",
      " [32.9]\n",
      " [26.2]\n",
      " [39.4]\n",
      " [26.6]\n",
      " [29.5]\n",
      " [35.9]\n",
      " [34.1]\n",
      " [19.3]\n",
      " [30.5]\n",
      " [38.1]\n",
      " [23.5]\n",
      " [27.5]\n",
      " [31.6]\n",
      " [27.4]\n",
      " [26.8]\n",
      " [35.7]\n",
      " [25.6]\n",
      " [35.1]\n",
      " [35.1]\n",
      " [45.5]\n",
      " [30.8]\n",
      " [23.1]\n",
      " [32.7]\n",
      " [43.3]\n",
      " [23.6]\n",
      " [23.9]\n",
      " [47.9]\n",
      " [33.8]\n",
      " [31.2]\n",
      " [34.2]\n",
      " [39.9]\n",
      " [25.9]\n",
      " [25.9]\n",
      " [34.7]\n",
      " [36.8]\n",
      " [38.5]\n",
      " [28.7]\n",
      " [23.5]\n",
      " [21.8]\n",
      " [42.2]\n",
      " [31.2]\n",
      " [34.4]\n",
      " [27.2]\n",
      " [42.7]\n",
      " [30.4]\n",
      " [33.3]\n",
      " [39.9]\n",
      " [35.3]\n",
      " [36.5]\n",
      " [31.2]\n",
      " [29.8]\n",
      " [39.2]\n",
      " [38.5]\n",
      " [34.9]\n",
      " [34. ]\n",
      " [27.6]\n",
      " [21. ]\n",
      " [27.5]\n",
      " [32.8]\n",
      " [38.4]\n",
      " [35.8]\n",
      " [34.9]\n",
      " [36.2]\n",
      " [39.2]\n",
      " [25.2]\n",
      " [37.2]\n",
      " [48.3]\n",
      " [43.4]\n",
      " [30.8]\n",
      " [20. ]\n",
      " [25.4]\n",
      " [25.1]\n",
      " [24.3]\n",
      " [22.3]\n",
      " [32.3]\n",
      " [43.3]\n",
      " [32. ]\n",
      " [31.6]\n",
      " [32. ]\n",
      " [45.7]\n",
      " [23.7]\n",
      " [22.1]\n",
      " [32.9]\n",
      " [27.7]\n",
      " [24.7]\n",
      " [34.3]\n",
      " [21.1]\n",
      " [34.9]\n",
      " [32. ]\n",
      " [24.2]\n",
      " [35. ]\n",
      " [31.6]\n",
      " [32.9]\n",
      " [42.1]\n",
      " [28.9]\n",
      " [21.9]\n",
      " [25.9]\n",
      " [42.4]\n",
      " [35.7]\n",
      " [34.4]\n",
      " [42.4]\n",
      " [26.2]\n",
      " [34.6]\n",
      " [35.7]\n",
      " [27.2]\n",
      " [38.5]\n",
      " [18.2]\n",
      " [26.4]\n",
      " [45.3]\n",
      " [26. ]\n",
      " [40.6]\n",
      " [30.8]\n",
      " [42.9]\n",
      " [37. ]\n",
      " [34.1]\n",
      " [40.6]\n",
      " [35. ]\n",
      " [22.2]\n",
      " [30.4]\n",
      " [30. ]\n",
      " [25.6]\n",
      " [24.5]\n",
      " [42.4]\n",
      " [37.4]\n",
      " [29.9]\n",
      " [18.2]\n",
      " [36.8]\n",
      " [34.3]\n",
      " [32.2]\n",
      " [33.2]\n",
      " [30.5]\n",
      " [29.7]\n",
      " [59.4]\n",
      " [25.3]\n",
      " [36.5]\n",
      " [33.6]\n",
      " [30.5]\n",
      " [21.2]\n",
      " [28.9]\n",
      " [39.9]\n",
      " [19.6]\n",
      " [37.8]\n",
      " [33.6]\n",
      " [26.7]\n",
      " [30.2]\n",
      " [37.6]\n",
      " [25.9]\n",
      " [20.8]\n",
      " [21.8]\n",
      " [35.3]\n",
      " [27.6]\n",
      " [24. ]\n",
      " [21.8]\n",
      " [27.8]\n",
      " [36.8]\n",
      " [30. ]\n",
      " [46.1]\n",
      " [41.3]\n",
      " [33.2]\n",
      " [38.8]\n",
      " [29.9]\n",
      " [28.9]\n",
      " [27.3]\n",
      " [33.7]\n",
      " [23.8]\n",
      " [25.9]\n",
      " [28. ]\n",
      " [35.5]\n",
      " [35.2]\n",
      " [27.8]\n",
      " [38.2]\n",
      " [44.2]\n",
      " [42.3]\n",
      " [40.7]\n",
      " [46.5]\n",
      " [25.6]\n",
      " [26.1]\n",
      " [36.8]\n",
      " [33.5]\n",
      " [32.8]\n",
      " [28.9]\n",
      " [26.6]\n",
      " [26. ]\n",
      " [30.1]\n",
      " [25.1]\n",
      " [29.3]\n",
      " [25.2]\n",
      " [37.2]\n",
      " [33.3]\n",
      " [37.3]\n",
      " [33.3]\n",
      " [36.5]\n",
      " [28.6]\n",
      " [30.4]\n",
      " [25. ]\n",
      " [29.7]\n",
      " [22.1]\n",
      " [24.2]\n",
      " [27.3]\n",
      " [25.6]\n",
      " [31.6]\n",
      " [30.3]\n",
      " [37.6]\n",
      " [32.8]\n",
      " [19.6]\n",
      " [25. ]\n",
      " [33.2]\n",
      " [34.2]\n",
      " [31.6]\n",
      " [21.8]\n",
      " [18.2]\n",
      " [26.3]\n",
      " [30.8]\n",
      " [24.6]\n",
      " [29.8]\n",
      " [45.3]\n",
      " [41.3]\n",
      " [29.8]\n",
      " [33.3]\n",
      " [32.9]\n",
      " [29.6]\n",
      " [21.7]\n",
      " [36.3]\n",
      " [36.4]\n",
      " [39.4]\n",
      " [32.4]\n",
      " [34.9]\n",
      " [39.5]\n",
      " [32. ]\n",
      " [34.5]\n",
      " [43.6]\n",
      " [33.1]\n",
      " [32.8]\n",
      " [28.5]\n",
      " [27.4]\n",
      " [31.9]\n",
      " [27.8]\n",
      " [29.9]\n",
      " [36.9]\n",
      " [25.5]\n",
      " [38.1]\n",
      " [27.8]\n",
      " [46.2]\n",
      " [30.1]\n",
      " [33.8]\n",
      " [41.3]\n",
      " [37.6]\n",
      " [26.9]\n",
      " [32.4]\n",
      " [26.1]\n",
      " [38.6]\n",
      " [32. ]\n",
      " [31.3]\n",
      " [34.3]\n",
      " [32.5]\n",
      " [22.6]\n",
      " [29.5]\n",
      " [34.7]\n",
      " [30.1]\n",
      " [35.5]\n",
      " [24. ]\n",
      " [42.9]\n",
      " [27. ]\n",
      " [34.7]\n",
      " [42.1]\n",
      " [25. ]\n",
      " [26.5]\n",
      " [38.7]\n",
      " [28.7]\n",
      " [22.5]\n",
      " [34.9]\n",
      " [24.3]\n",
      " [33.3]\n",
      " [21.1]\n",
      " [46.8]\n",
      " [39.4]\n",
      " [34.4]\n",
      " [28.5]\n",
      " [33.6]\n",
      " [32. ]\n",
      " [45.3]\n",
      " [27.8]\n",
      " [36.8]\n",
      " [23.1]\n",
      " [27.1]\n",
      " [23.7]\n",
      " [27.8]\n",
      " [35.2]\n",
      " [28.4]\n",
      " [35.8]\n",
      " [40. ]\n",
      " [19.5]\n",
      " [41.5]\n",
      " [24. ]\n",
      " [30.9]\n",
      " [32.9]\n",
      " [38.2]\n",
      " [32.5]\n",
      " [36.1]\n",
      " [25.8]\n",
      " [28.7]\n",
      " [20.1]\n",
      " [28.2]\n",
      " [32.4]\n",
      " [38.4]\n",
      " [24.2]\n",
      " [40.8]\n",
      " [43.5]\n",
      " [30.8]\n",
      " [37.7]\n",
      " [24.7]\n",
      " [32.4]\n",
      " [34.6]\n",
      " [24.7]\n",
      " [27.4]\n",
      " [34.5]\n",
      " [26.2]\n",
      " [27.5]\n",
      " [25.9]\n",
      " [31.2]\n",
      " [28.8]\n",
      " [31.6]\n",
      " [40.9]\n",
      " [19.5]\n",
      " [29.3]\n",
      " [34.3]\n",
      " [29.5]\n",
      " [28. ]\n",
      " [27.6]\n",
      " [39.4]\n",
      " [23.4]\n",
      " [37.8]\n",
      " [28.3]\n",
      " [26.4]\n",
      " [25.2]\n",
      " [33.8]\n",
      " [34.1]\n",
      " [26.8]\n",
      " [34.2]\n",
      " [38.7]\n",
      " [21.8]\n",
      " [38.9]\n",
      " [39. ]\n",
      " [34.2]\n",
      " [27.7]\n",
      " [42.9]\n",
      " [37.6]\n",
      " [37.9]\n",
      " [33.7]\n",
      " [34.8]\n",
      " [32.5]\n",
      " [27.5]\n",
      " [34. ]\n",
      " [30.9]\n",
      " [33.6]\n",
      " [25.4]\n",
      " [35.5]\n",
      " [57.3]\n",
      " [35.6]\n",
      " [30.9]\n",
      " [24.8]\n",
      " [35.3]\n",
      " [36. ]\n",
      " [24.2]\n",
      " [24.2]\n",
      " [49.6]\n",
      " [44.6]\n",
      " [32.3]\n",
      " [33.2]\n",
      " [23.1]\n",
      " [28.3]\n",
      " [24.1]\n",
      " [46.1]\n",
      " [24.6]\n",
      " [42.3]\n",
      " [39.1]\n",
      " [38.5]\n",
      " [23.5]\n",
      " [30.4]\n",
      " [29.9]\n",
      " [25. ]\n",
      " [34.5]\n",
      " [44.5]\n",
      " [35.9]\n",
      " [27.6]\n",
      " [35. ]\n",
      " [38.5]\n",
      " [28.4]\n",
      " [39.8]\n",
      " [34.4]\n",
      " [32.8]\n",
      " [38. ]\n",
      " [31.2]\n",
      " [29.6]\n",
      " [41.2]\n",
      " [26.4]\n",
      " [29.5]\n",
      " [33.9]\n",
      " [33.8]\n",
      " [23.1]\n",
      " [35.5]\n",
      " [35.6]\n",
      " [29.3]\n",
      " [38.1]\n",
      " [29.3]\n",
      " [39.1]\n",
      " [32.8]\n",
      " [39.4]\n",
      " [36.1]\n",
      " [32.4]\n",
      " [22.9]\n",
      " [30.1]\n",
      " [28.4]\n",
      " [28.4]\n",
      " [44.5]\n",
      " [29. ]\n",
      " [23.3]\n",
      " [35.4]\n",
      " [27.4]\n",
      " [32. ]\n",
      " [36.6]\n",
      " [39.5]\n",
      " [42.3]\n",
      " [30.8]\n",
      " [28.5]\n",
      " [32.7]\n",
      " [40.6]\n",
      " [30. ]\n",
      " [49.3]\n",
      " [46.3]\n",
      " [36.4]\n",
      " [24.3]\n",
      " [31.2]\n",
      " [39. ]\n",
      " [26. ]\n",
      " [43.3]\n",
      " [32.4]\n",
      " [36.5]\n",
      " [32. ]\n",
      " [36.3]\n",
      " [37.5]\n",
      " [35.5]\n",
      " [28.4]\n",
      " [44. ]\n",
      " [22.5]\n",
      " [32.9]\n",
      " [36.8]\n",
      " [26.2]\n",
      " [30.1]\n",
      " [30.4]]\n"
     ]
    }
   ],
   "source": [
    "print(X_bmi)"
   ]
  },
  {
   "cell_type": "code",
   "execution_count": 273,
   "id": "32d3adc4",
   "metadata": {},
   "outputs": [
    {
     "name": "stdout",
     "output_type": "stream",
     "text": [
      "[148  85 183  89 137 116  78 115 197 110 168 139 189 166 100 118 107 103\n",
      " 115 126  99 196 119 143 125 147  97 145 117 109 158  88  92 122 103 138\n",
      " 102  90 111 180 133 106 171 159 180 146  71 103 103 101  88 176 150  73\n",
      " 187 100 146 105 133  44 141 114  99 109 109  95 146 100 139 126 129  79\n",
      "  62  95 131 112 113  83 101 137 110 106 100 136 107  80 123  81 134 142\n",
      " 144  92  71  93 122 163 151 125  81  85 126  96 144  83  95 171 155  89\n",
      "  76 160 146 124  78  97  99 162 111 107 132 113  88 120 118 117 105 173\n",
      " 122 170  84  96 125 100  93 129 105 128 106 108 108 154  57 106 147  90\n",
      " 136 114 156 153 188 152  99 109  88 163 151 102 114 100 131 104 148 120\n",
      " 110 111 102 134  87  79  75 179  85 129 143 130  87 119  73 141 194 181\n",
      " 128 109 139 111 123 159 135  85 158 105 107 109 148 113 138 108  99 103\n",
      " 111 196 162  96 184  81 147 179 140 112 151 109 125  85 112 177 158 119\n",
      " 142 100  87 101 162 197 117 142 134  79 122  74 171 181 179 164 104  91\n",
      "  91 139 119 146 184 122 165 124 111 106 129  90  86  92 113 111 114 193\n",
      " 155 191 141  95 142 123  96 138 128 102 146 101 108 122  71 106 100 106\n",
      " 104 114 108 146 129 133 161 108 136 155 119  96 108  78 107 128 128 161\n",
      " 151 146 126 100 112 167 144  77 115 150 120 161 137 128 124  80 106 155\n",
      " 113 109 112  99 182 115 194 129 112 124 152 112 157 122 179 102 105 118\n",
      "  87 180 106  95 165 117 115 152 178 130  95 122  95 126 139 116  99  92\n",
      " 137  61  90  90 165 125 129  88 196 189 158 103 146 147  99 124 101  81\n",
      " 133 173  84 105 122 140  98  87 156  93 107 105 109  90 125 119 116 105\n",
      " 144 100 100 166 131 116 158 127  96 131  82 193  95 137 136  72 168 123\n",
      " 115 101 197 172 102 112 143 143 138 173  97 144  83 129 119  94 102 115\n",
      " 151 184 181 135  95  99  89  80 139  90 141 140 147  97 107 189  83 117\n",
      " 108 117 180 100  95 104 120  82 134  91 119 100 175 135  86 148 134 120\n",
      "  71  74  88 115 124  74  97 120 154 144 137 119 136 114 137 105 114 126\n",
      " 132 158 123  85  84 145 135 139 173  99 194  83  89  99 125 166 110  81\n",
      " 195 154 117  84  94  96  75 180 130  84 120  84 139  91  91  99 163 145\n",
      " 125  76 129  68 124 130 125  87  97 116 117 111 122 107  86  91  77 132\n",
      " 105  57 127 129 100 128  90  84  88 186 187 131 164 189 116  84 114  88\n",
      "  84 124  97 110 103  85 125 198  87  99  91  95  99  92 154 121  78 130\n",
      " 111  98 143 119 108 118 133 197 151 109 121 100 124  93 143 103 176  73\n",
      " 111 112 132  82 123 188  67  89 173 109 108  96 124 150 183 124 181  92\n",
      " 152 111 106 174 168 105 138 106 117  68 112 119 112  92 183  94 108  90\n",
      " 125 132 128  94 114 102 111 128  92 104 104  94  97 100 102 128 147  90\n",
      " 103 157 167 179 136 107  91 117 123 120 106 155 101 120 127  80 162 199\n",
      " 167 145 115 112 145 111  98 154 165  99  68 123  91 195 156  93 121 101\n",
      "  56 162  95 125 129 130 107 140 144 107 158 121 129  90 142 169  99 127\n",
      " 118 122 125 168 129 110  80 127 164  93 158 126 129 134 102 187 173  94\n",
      " 108  97  83 114 149 117 111 112 116 141 175  92 130 120 174 106 105  95\n",
      " 126  65  99 102 120 102 109 140 153 100 147  81 187 162 136 121 108 181\n",
      " 154 128 137 123 106 190  88 170  89 101 122 121 126  93]\n"
     ]
    }
   ],
   "source": [
    "print(y)"
   ]
  },
  {
   "cell_type": "markdown",
   "id": "a3b8ddc0",
   "metadata": {},
   "source": [
    "# PLOTTING GLUCOSE VS BODY MASS"
   ]
  },
  {
   "cell_type": "code",
   "execution_count": 274,
   "id": "989b4994",
   "metadata": {},
   "outputs": [
    {
     "data": {
      "image/png": "[encoded data removed]",
      "text/plain": [
       "<Figure size 640x480 with 1 Axes>"
      ]
     },
     "metadata": {},
     "output_type": "display_data"
    }
   ],
   "source": [
    "import matplotlib.pyplot as plt\n",
    "plt.scatter(X_bmi , y)\n",
    "plt.ylabel(\"Blood Glucose(mg/ dl)\")\n",
    "plt.xlabel(\"Body Mass Index\")\n",
    "plt.show()"
   ]
  },
  {
   "cell_type": "markdown",
   "id": "daf35c74",
   "metadata": {},
   "source": [
    "# Fitting A Regression Model\n"
   ]
  },
  {
   "cell_type": "code",
   "execution_count": 279,
   "id": "292e608d",
   "metadata": {},
   "outputs": [
    {
     "data": {
      "image/png": "[encoded data removed]",
      "text/plain": [
       "<Figure size 640x480 with 1 Axes>"
      ]
     },
     "metadata": {},
     "output_type": "display_data"
    }
   ],
   "source": [
    "from sklearn.linear_model import LinearRegression\n",
    "\n",
    "reg = LinearRegression()\n",
    "reg.fit(X_bmi, y)\n",
    "predictions =  reg.predict(X_bmi)\n",
    "plt.scatter(X_bmi, y, color = \"red\")\n",
    "plt.plot(X_bmi, predictions)\n",
    "plt.ylabel(\"Bllod Glucose (mg/dl)\")\n",
    "plt.xlabel(\"Body Mass Index\")\n",
    "plt.show()"
   ]
  },
  {
   "cell_type": "markdown",
   "id": "03dd7128",
   "metadata": {},
   "source": [
    "# PRACTICE"
   ]
  },
  {
   "cell_type": "markdown",
   "id": "ae4fc889",
   "metadata": {},
   "source": [
    "Let’s practice\n",
    "\n",
    "Creating features\n",
    "\n",
    "In this exercise, you will work with a dataset called sales_df (loaded from sales_df.csv), which contains information on advertising campaign expenditure across different media types, and the number of dollars generated in sales for the respective campaign. The dataset has been preloaded for you. Here are the first two rows:\n",
    "    \n",
    "tv 1 13000.0 2 41000.0\n",
    "\n",
    "radio 9237.76 15886.45\n",
    "\n",
    "social_media sales 2409.57 46677.90 2913.41 150177.83\n",
    "\n",
    "You will use the advertising expenditure as features to predict sales values, initially working with the \"radio\" column. However, before you make any predictions you will need to create the feature and target arrays, reshaping them to the correct format for scikit-learn.\n",
    "\n",
    "• Create X, an array of the values from the sales_df DataFrame's \"radio\" column.\n",
    "\n",
    "• Create y, an array of the values from the sales_df DataFrame's \"sales\" column.\n",
    "\n",
    "• Reshape X into a two-dimensional NumPy array.\n",
    "\n",
    "• Print the shape of X and y."
   ]
  },
  {
   "cell_type": "code",
   "execution_count": 158,
   "id": "124fedca",
   "metadata": {},
   "outputs": [
    {
     "data": {
      "text/html": [
       "<div>\n",
       "<style scoped>\n",
       "    .dataframe tbody tr th:only-of-type {\n",
       "        vertical-align: middle;\n",
       "    }\n",
       "\n",
       "    .dataframe tbody tr th {\n",
       "        vertical-align: top;\n",
       "    }\n",
       "\n",
       "    .dataframe thead th {\n",
       "        text-align: right;\n",
       "    }\n",
       "</style>\n",
       "<table border=\"1\" class=\"dataframe\">\n",
       "  <thead>\n",
       "    <tr style=\"text-align: right;\">\n",
       "      <th></th>\n",
       "      <th>tv</th>\n",
       "      <th>radio</th>\n",
       "      <th>social_media</th>\n",
       "      <th>sales</th>\n",
       "    </tr>\n",
       "  </thead>\n",
       "  <tbody>\n",
       "    <tr>\n",
       "      <th>0</th>\n",
       "      <td>16000.0</td>\n",
       "      <td>6566.23</td>\n",
       "      <td>2907.98</td>\n",
       "      <td>54732.76</td>\n",
       "    </tr>\n",
       "    <tr>\n",
       "      <th>1</th>\n",
       "      <td>13000.0</td>\n",
       "      <td>9237.76</td>\n",
       "      <td>2409.57</td>\n",
       "      <td>46677.90</td>\n",
       "    </tr>\n",
       "    <tr>\n",
       "      <th>2</th>\n",
       "      <td>41000.0</td>\n",
       "      <td>15886.45</td>\n",
       "      <td>2913.41</td>\n",
       "      <td>150177.83</td>\n",
       "    </tr>\n",
       "    <tr>\n",
       "      <th>3</th>\n",
       "      <td>83000.0</td>\n",
       "      <td>30020.03</td>\n",
       "      <td>6922.30</td>\n",
       "      <td>298246.34</td>\n",
       "    </tr>\n",
       "    <tr>\n",
       "      <th>4</th>\n",
       "      <td>15000.0</td>\n",
       "      <td>8437.41</td>\n",
       "      <td>1406.00</td>\n",
       "      <td>56594.18</td>\n",
       "    </tr>\n",
       "    <tr>\n",
       "      <th>...</th>\n",
       "      <td>...</td>\n",
       "      <td>...</td>\n",
       "      <td>...</td>\n",
       "      <td>...</td>\n",
       "    </tr>\n",
       "    <tr>\n",
       "      <th>4541</th>\n",
       "      <td>26000.0</td>\n",
       "      <td>4472.36</td>\n",
       "      <td>717.09</td>\n",
       "      <td>94685.87</td>\n",
       "    </tr>\n",
       "    <tr>\n",
       "      <th>4542</th>\n",
       "      <td>71000.0</td>\n",
       "      <td>20610.69</td>\n",
       "      <td>6545.57</td>\n",
       "      <td>249101.92</td>\n",
       "    </tr>\n",
       "    <tr>\n",
       "      <th>4543</th>\n",
       "      <td>44000.0</td>\n",
       "      <td>19800.07</td>\n",
       "      <td>5096.19</td>\n",
       "      <td>163631.46</td>\n",
       "    </tr>\n",
       "    <tr>\n",
       "      <th>4544</th>\n",
       "      <td>71000.0</td>\n",
       "      <td>17534.64</td>\n",
       "      <td>1940.87</td>\n",
       "      <td>253610.41</td>\n",
       "    </tr>\n",
       "    <tr>\n",
       "      <th>4545</th>\n",
       "      <td>42000.0</td>\n",
       "      <td>15966.69</td>\n",
       "      <td>5046.55</td>\n",
       "      <td>148202.41</td>\n",
       "    </tr>\n",
       "  </tbody>\n",
       "</table>\n",
       "<p>4546 rows × 4 columns</p>\n",
       "</div>"
      ],
      "text/plain": [
       "           tv     radio  social_media      sales\n",
       "0     16000.0   6566.23       2907.98   54732.76\n",
       "1     13000.0   9237.76       2409.57   46677.90\n",
       "2     41000.0  15886.45       2913.41  150177.83\n",
       "3     83000.0  30020.03       6922.30  298246.34\n",
       "4     15000.0   8437.41       1406.00   56594.18\n",
       "...       ...       ...           ...        ...\n",
       "4541  26000.0   4472.36        717.09   94685.87\n",
       "4542  71000.0  20610.69       6545.57  249101.92\n",
       "4543  44000.0  19800.07       5096.19  163631.46\n",
       "4544  71000.0  17534.64       1940.87  253610.41\n",
       "4545  42000.0  15966.69       5046.55  148202.41\n",
       "\n",
       "[4546 rows x 4 columns]"
      ]
     },
     "execution_count": 158,
     "metadata": {},
     "output_type": "execute_result"
    }
   ],
   "source": [
    "sales_df = pd.read_csv(\"sales_df.csv\", index_col = 0)\n",
    "sales_df"
   ]
  },
  {
   "cell_type": "code",
   "execution_count": 170,
   "id": "133e162b",
   "metadata": {},
   "outputs": [
    {
     "data": {
      "text/plain": [
       "(4546, 1)"
      ]
     },
     "execution_count": 170,
     "metadata": {},
     "output_type": "execute_result"
    }
   ],
   "source": [
    "X = sales_df[\"radio\"].values\n",
    "y = sales_df[\"sales\"].values\n",
    "X = X.reshape(-1, 1)\n",
    "X.shape\n",
    "\n",
    "#X.reshape()"
   ]
  },
  {
   "cell_type": "code",
   "execution_count": 168,
   "id": "3c95adb1",
   "metadata": {},
   "outputs": [
    {
     "data": {
      "text/plain": [
       "(4546,)"
      ]
     },
     "execution_count": 168,
     "metadata": {},
     "output_type": "execute_result"
    }
   ],
   "source": [
    "y.shape"
   ]
  },
  {
   "cell_type": "markdown",
   "id": "54b55a41",
   "metadata": {},
   "source": [
    "# Building a linear regression model\n"
   ]
  },
  {
   "cell_type": "markdown",
   "id": "55f82f8b",
   "metadata": {},
   "source": [
    "\n",
    "Now you have created your feature and target arrays, you will train a linear regression model on all feature and target values.\n",
    "\n",
    "As the goal is to assess the relationship between the feature and target values there is no need to split the data into training and test sets.\n",
    "\n",
    "• Instantiate a linear regression model.\n",
    "\n",
    "• Predict sales values using X, storing as predictions.\n",
    "\n",
    "• Print five prediction values"
   ]
  },
  {
   "cell_type": "code",
   "execution_count": 178,
   "id": "2819502c",
   "metadata": {},
   "outputs": [
    {
     "name": "stdout",
     "output_type": "stream",
     "text": [
      "First five predictions: [ 95491.17119147 117829.51038393 173423.38071499 291603.11444202\n",
      " 111137.28167129]\n"
     ]
    }
   ],
   "source": [
    "from sklearn.linear_model import LinearRegression\n",
    "\n",
    "reg = LinearRegression()\n",
    "reg.fit(X, y)\n",
    "predictions =  reg.predict(X)\n",
    "print(\"First five predictions:\", predictions[:5])"
   ]
  },
  {
   "cell_type": "markdown",
   "id": "59164842",
   "metadata": {},
   "source": [
    "# VISUALIZING"
   ]
  },
  {
   "cell_type": "code",
   "execution_count": 181,
   "id": "07ae2746",
   "metadata": {},
   "outputs": [
    {
     "data": {
      "image/png": "[encoded data removed]",
      "text/plain": [
       "<Figure size 640x480 with 1 Axes>"
      ]
     },
     "metadata": {},
     "output_type": "display_data"
    }
   ],
   "source": [
    "plt.scatter(X, y)\n",
    "plt.plot(X, predictions, color = \"red\")\n",
    "plt.ylabel(\"Sales($)\")\n",
    "plt.xlabel(\"Radio Expenditure($)\")\n",
    "plt.show()"
   ]
  },
  {
   "cell_type": "markdown",
   "id": "9ad59b25",
   "metadata": {},
   "source": [
    "# Linear regression using all features"
   ]
  },
  {
   "cell_type": "code",
   "execution_count": 280,
   "id": "2e8def4d",
   "metadata": {},
   "outputs": [],
   "source": [
    "from sklearn.model_selection import train_test_split \n",
    "from sklearn.linear_model import LinearRegression\n",
    "X_train, X_test, y_train, y_test = train_test_split(X, y, test_size=0.3, random_state=42)\n",
    "reg_all = LinearRegression ()\n",
    "reg_all.fit(X_train, y_train) \n",
    "y_pred = reg_all.predict (X_test)\n",
    "\n",
    "#To compute R-squared, we call the model’s .score() method, passing the test features and targets. \n",
    "#Here the features only explain about 35 percent of blood glucose level variance."
   ]
  },
  {
   "cell_type": "markdown",
   "id": "0be81649",
   "metadata": {},
   "source": [
    "# R SQUARED IN SCIKIT LEARN"
   ]
  },
  {
   "cell_type": "code",
   "execution_count": 281,
   "id": "417b6762",
   "metadata": {},
   "outputs": [
    {
     "data": {
      "text/plain": [
       "0.356302876407827"
      ]
     },
     "execution_count": 281,
     "metadata": {},
     "output_type": "execute_result"
    }
   ],
   "source": [
    "reg_all.score(X_test, y_test)\n",
    "#reg_all is your linear regression model that has been trained on the training data.\n",
    "# .score(X_test, y_test) is a method to calculate the R-squared score of the model on the test data.\n",
    "# X_test represents the test features, and y_test represents the corresponding true target values."
   ]
  },
  {
   "cell_type": "markdown",
   "id": "fdf09690",
   "metadata": {},
   "source": [
    "# RMSE in scikit-learn"
   ]
  },
  {
   "cell_type": "code",
   "execution_count": 282,
   "id": "284c65de",
   "metadata": {},
   "outputs": [
    {
     "data": {
      "text/plain": [
       "24.028109426907236"
      ]
     },
     "execution_count": 282,
     "metadata": {},
     "output_type": "execute_result"
    }
   ],
   "source": [
    "from sklearn.metrics import mean_squared_error\n",
    "mean_squared_error(y_test, y_pred, squared = False)\n",
    "\n",
    "#mean_squared_error is a function from Scikit-learn used to calculate the mean squared error (MSE) \n",
    "#between the true target values (y_test) and the predicted values (y_pred).\n",
    "#squared=False is used to return the RMSE instead of the squared MSE."
   ]
  },
  {
   "cell_type": "markdown",
   "id": "e20d290e",
   "metadata": {},
   "source": [
    "# Fit And Predict For Regression"
   ]
  },
  {
   "cell_type": "code",
   "execution_count": 222,
   "id": "9bfa6ad0",
   "metadata": {},
   "outputs": [
    {
     "data": {
      "text/html": [
       "<div>\n",
       "<style scoped>\n",
       "    .dataframe tbody tr th:only-of-type {\n",
       "        vertical-align: middle;\n",
       "    }\n",
       "\n",
       "    .dataframe tbody tr th {\n",
       "        vertical-align: top;\n",
       "    }\n",
       "\n",
       "    .dataframe thead th {\n",
       "        text-align: right;\n",
       "    }\n",
       "</style>\n",
       "<table border=\"1\" class=\"dataframe\">\n",
       "  <thead>\n",
       "    <tr style=\"text-align: right;\">\n",
       "      <th></th>\n",
       "      <th>tv</th>\n",
       "      <th>radio</th>\n",
       "      <th>social_media</th>\n",
       "      <th>sales</th>\n",
       "    </tr>\n",
       "  </thead>\n",
       "  <tbody>\n",
       "    <tr>\n",
       "      <th>0</th>\n",
       "      <td>16000.0</td>\n",
       "      <td>6566.23</td>\n",
       "      <td>2907.98</td>\n",
       "      <td>54732.76</td>\n",
       "    </tr>\n",
       "    <tr>\n",
       "      <th>1</th>\n",
       "      <td>13000.0</td>\n",
       "      <td>9237.76</td>\n",
       "      <td>2409.57</td>\n",
       "      <td>46677.90</td>\n",
       "    </tr>\n",
       "    <tr>\n",
       "      <th>2</th>\n",
       "      <td>41000.0</td>\n",
       "      <td>15886.45</td>\n",
       "      <td>2913.41</td>\n",
       "      <td>150177.83</td>\n",
       "    </tr>\n",
       "    <tr>\n",
       "      <th>3</th>\n",
       "      <td>83000.0</td>\n",
       "      <td>30020.03</td>\n",
       "      <td>6922.30</td>\n",
       "      <td>298246.34</td>\n",
       "    </tr>\n",
       "    <tr>\n",
       "      <th>4</th>\n",
       "      <td>15000.0</td>\n",
       "      <td>8437.41</td>\n",
       "      <td>1406.00</td>\n",
       "      <td>56594.18</td>\n",
       "    </tr>\n",
       "    <tr>\n",
       "      <th>...</th>\n",
       "      <td>...</td>\n",
       "      <td>...</td>\n",
       "      <td>...</td>\n",
       "      <td>...</td>\n",
       "    </tr>\n",
       "    <tr>\n",
       "      <th>4541</th>\n",
       "      <td>26000.0</td>\n",
       "      <td>4472.36</td>\n",
       "      <td>717.09</td>\n",
       "      <td>94685.87</td>\n",
       "    </tr>\n",
       "    <tr>\n",
       "      <th>4542</th>\n",
       "      <td>71000.0</td>\n",
       "      <td>20610.69</td>\n",
       "      <td>6545.57</td>\n",
       "      <td>249101.92</td>\n",
       "    </tr>\n",
       "    <tr>\n",
       "      <th>4543</th>\n",
       "      <td>44000.0</td>\n",
       "      <td>19800.07</td>\n",
       "      <td>5096.19</td>\n",
       "      <td>163631.46</td>\n",
       "    </tr>\n",
       "    <tr>\n",
       "      <th>4544</th>\n",
       "      <td>71000.0</td>\n",
       "      <td>17534.64</td>\n",
       "      <td>1940.87</td>\n",
       "      <td>253610.41</td>\n",
       "    </tr>\n",
       "    <tr>\n",
       "      <th>4545</th>\n",
       "      <td>42000.0</td>\n",
       "      <td>15966.69</td>\n",
       "      <td>5046.55</td>\n",
       "      <td>148202.41</td>\n",
       "    </tr>\n",
       "  </tbody>\n",
       "</table>\n",
       "<p>4546 rows × 4 columns</p>\n",
       "</div>"
      ],
      "text/plain": [
       "           tv     radio  social_media      sales\n",
       "0     16000.0   6566.23       2907.98   54732.76\n",
       "1     13000.0   9237.76       2409.57   46677.90\n",
       "2     41000.0  15886.45       2913.41  150177.83\n",
       "3     83000.0  30020.03       6922.30  298246.34\n",
       "4     15000.0   8437.41       1406.00   56594.18\n",
       "...       ...       ...           ...        ...\n",
       "4541  26000.0   4472.36        717.09   94685.87\n",
       "4542  71000.0  20610.69       6545.57  249101.92\n",
       "4543  44000.0  19800.07       5096.19  163631.46\n",
       "4544  71000.0  17534.64       1940.87  253610.41\n",
       "4545  42000.0  15966.69       5046.55  148202.41\n",
       "\n",
       "[4546 rows x 4 columns]"
      ]
     },
     "execution_count": 222,
     "metadata": {},
     "output_type": "execute_result"
    }
   ],
   "source": [
    "sales_df = pd.read_csv(\"sales_df.csv\", index_col = 0)\n",
    "sales_df"
   ]
  },
  {
   "cell_type": "markdown",
   "id": "88ccb062",
   "metadata": {},
   "source": [
    "# Fit and predict for regression"
   ]
  },
  {
   "cell_type": "markdown",
   "id": "cd4b3983",
   "metadata": {},
   "source": [
    "Fit and predict for regression\n",
    "\n",
    "Now you have seen how linear regression works, your task is to create a multiple linear regression model using all of the features in the sales_df dataset. As a reminder, here are the first two rows:\n",
    "\n",
    "You will then use this model to predict sales based on the values of the test features.\n",
    "\n",
    "• Create X, an array containing values of all features in sales_df, and y, containing all values from the \"sales\" column.\n",
    "\n",
    "• Instantiate a linear regression model.\n",
    "\n",
    "• Fit the model to the training data.\n",
    "\n",
    "• Create y_pred, making predictions for sales using the test features.\n",
    "\n",
    "• Print the first two values of y_pred and y_test\n",
    "\n",
    "• Calculate the model's R-squared score by passing the test feature values and the test target values to an appropriate method.\n",
    "\n",
    "• Calculate the model's root mean squared error using y_test and y_pred.\n",
    "\n",
    "• Print r_squared and rmse."
   ]
  },
  {
   "cell_type": "code",
   "execution_count": 288,
   "id": "70e23a7e",
   "metadata": {},
   "outputs": [
    {
     "name": "stdout",
     "output_type": "stream",
     "text": [
      "Predicted Value:  [53176.66154234 70996.19873235]\n",
      "Actual Value: [55261.28 67574.9 ]\n"
     ]
    }
   ],
   "source": [
    "X = sales_df.drop('sales', axis=1) .values\n",
    "y = sales_df['sales'].values\n",
    "X_train, X_test, y_train, y_test = train_test_split(X, y, test_size=0.3, random_state=42)\n",
    "reg_all = LinearRegression ()\n",
    "reg_all.fit(X_train, y_train) \n",
    "y_pred = reg_all.predict (X_test)\n",
    "print(\"Predicted Value: \",y_pred[:2])\n",
    "print(\"Actual Value:\" , y_test[:2])"
   ]
  },
  {
   "cell_type": "code",
   "execution_count": 289,
   "id": "b75a2265",
   "metadata": {},
   "outputs": [
    {
     "name": "stdout",
     "output_type": "stream",
     "text": [
      "R_SQUARED:  0.9990152104759368\n",
      "RMSE:  2944.4331996000988\n"
     ]
    }
   ],
   "source": [
    "r_squared  = reg_all.score(X_test, y_test)\n",
    "RMSE = mean_squared_error(y_test ,  y_pred , squared = False)\n",
    "print(\"R_SQUARED: \" , r_squared)\n",
    "print(\"RMSE: \" ,RMSE)"
   ]
  },
  {
   "cell_type": "code",
   "execution_count": 290,
   "id": "be83f7d1",
   "metadata": {},
   "outputs": [
    {
     "data": {
      "text/plain": [
       "array([[16000.  ,  6566.23,  2907.98],\n",
       "       [13000.  ,  9237.76,  2409.57],\n",
       "       [41000.  , 15886.45,  2913.41],\n",
       "       ...,\n",
       "       [44000.  , 19800.07,  5096.19],\n",
       "       [71000.  , 17534.64,  1940.87],\n",
       "       [42000.  , 15966.69,  5046.55]])"
      ]
     },
     "execution_count": 290,
     "metadata": {},
     "output_type": "execute_result"
    }
   ],
   "source": [
    "X"
   ]
  },
  {
   "cell_type": "code",
   "execution_count": 291,
   "id": "89f9e41e",
   "metadata": {},
   "outputs": [
    {
     "data": {
      "text/plain": [
       "array([ 54732.76,  46677.9 , 150177.83, ..., 163631.46, 253610.41,\n",
       "       148202.41])"
      ]
     },
     "execution_count": 291,
     "metadata": {},
     "output_type": "execute_result"
    }
   ],
   "source": [
    "y"
   ]
  },
  {
   "cell_type": "markdown",
   "id": "564c39fc",
   "metadata": {},
   "source": [
    "# CROSS VALIDATION IN SCIKIT LEARN"
   ]
  },
  {
   "cell_type": "code",
   "execution_count": 292,
   "id": "3e25959c",
   "metadata": {},
   "outputs": [
    {
     "name": "stdout",
     "output_type": "stream",
     "text": [
      "[0.99900913 0.99898729 0.99897163 0.99898887 0.99893043 0.99905966]\n"
     ]
    }
   ],
   "source": [
    "from sklearn.model_selection import cross_val_score, KFold\n",
    "kf = KFold(n_splits = 6 , shuffle = True, random_state = 42)\n",
    "reg = LinearRegression()\n",
    "cv_results = cross_val_score(reg, X , y , cv = kf)\n",
    "print(cv_results)"
   ]
  },
  {
   "cell_type": "code",
   "execution_count": 293,
   "id": "5292e82a",
   "metadata": {},
   "outputs": [
    {
     "name": "stdout",
     "output_type": "stream",
     "text": [
      "0.9989911695584723 3.895599514495595e-05\n"
     ]
    }
   ],
   "source": [
    "print(np.mean(cv_results), np.std(cv_results))"
   ]
  },
  {
   "cell_type": "markdown",
   "id": "53289a8f",
   "metadata": {},
   "source": [
    "Cross-validation for R-squared\n",
    "\n",
    "Cross-validation is a vital approach to evaluating a model. It maximizes the amount of data that is available to the model, as the model is not only trained but also tested on all of the available data.\n",
    "\n",
    "In this exercise, you will build a linear regression model, then use 6-fold cross-validation to assess its accuracy for predicting sales using social media advertising expenditure. You will display the individual score for each of the six-folds.\n",
    "\n",
    "The sales_df dataset shall be split into y for the target variable (sales), and X for the features (radio and social media).\n",
    "\n",
    "Instructions\n",
    "\n",
    "• Import KFold and cross_val_score.\n",
    "\n",
    "• Create X and y according to the requirements above.\n",
    "\n",
    "• Create kf by calling KFold(), setting the number of splits to six, shuffle to True, and setting a seed of 5.\n",
    "\n",
    "• Perform cross-validation using reg on X and y, passing kf to cv.\n",
    "\n",
    "• Print the cv_scores.\n",
    "\n",
    "• Calculate and print the mean of the cv_scores results.\n",
    "\n",
    "• Calculate and print the standard deviation of cv_scores.\n",
    "\n",
    "• Display the 95% confidence interval for your results using np.quantile()."
   ]
  },
  {
   "cell_type": "code",
   "execution_count": 302,
   "id": "f516da48",
   "metadata": {},
   "outputs": [
    {
     "name": "stdout",
     "output_type": "stream",
     "text": [
      "CV RESULTS:  [0.74451678 0.77241887 0.76842114 0.7410406  0.75170022 0.74406484]\n",
      "MEAN:  0.7536937414361207\n",
      "STD:  0.012305389070474678\n",
      "Confidence Interval: [0.7414186258008111, 0.7719191575451564]\n"
     ]
    }
   ],
   "source": [
    "X = sales_df[['radio', 'social_media']]\n",
    "y = sales_df['sales']\n",
    "kf = KFold(n_splits = 6 , shuffle = True ,  random_state = 5)\n",
    "reg = LinearRegression()\n",
    "cv_results = cross_val_score(reg , X , y , cv = kf)\n",
    "print(\"CV RESULTS: \",cv_results)\n",
    "print(\"MEAN: \",np.mean(cv_results))\n",
    "print(\"STD: \",np.std(cv_results))\n",
    "lower_quantile = np.quantile(cv_results, 0.025)\n",
    "upper_quantile = np.quantile(cv_results, 0.975)\n",
    "print(f\"Confidence Interval: [{lower_quantile}, {upper_quantile}]\")"
   ]
  },
  {
   "cell_type": "markdown",
   "id": "ffb31b72",
   "metadata": {},
   "source": [
    "# LASSO REGRESSION IN SCIKIT LEARN"
   ]
  },
  {
   "cell_type": "code",
   "execution_count": 307,
   "id": "2412670d",
   "metadata": {},
   "outputs": [
    {
     "name": "stdout",
     "output_type": "stream",
     "text": [
      "[0.3562250067582078, 0.34618285370900226, 0.2014482392741529, 0.18595115472492296, 0.14542319216659472]\n"
     ]
    }
   ],
   "source": [
    "from sklearn.linear_model import Lasso\n",
    "diabetes_df = pd.read_csv('diabetes.csv', index_col = 0) \n",
    "diabetes_df = diabetes_df[diabetes_df['bmi'] != 0] \n",
    "diabetes_df = diabetes_df[diabetes_df['glucose'] != 0] \n",
    "X = diabetes_df.drop('glucose', axis=1).values\n",
    "y = diabetes_df['glucose'].values\n",
    "X_train, X_test, y_train, y_test = train_test_split(X, y, test_size=0.3, random_state=42) \n",
    "scores = []\n",
    "for alpha in [0.01,1.0,10.0, 20.0, 50.0]:\n",
    "    \n",
    "    lasso = Lasso(alpha=alpha) \n",
    "    lasso.fit(X_train, y_train)\n",
    "    lasso_pred = lasso.predict(X_test) \n",
    "    scores.append(lasso.score(X_test, y_test))\n",
    "print(scores)\n"
   ]
  },
  {
   "cell_type": "markdown",
   "id": "86d23999",
   "metadata": {},
   "source": [
    "# LASSO REGRESSINO FOR FEATURE SELECTION"
   ]
  },
  {
   "cell_type": "code",
   "execution_count": 311,
   "id": "9051b4fc",
   "metadata": {},
   "outputs": [
    {
     "data": {
      "image/png": "[encoded data removed]",
      "text/plain": [
       "<Figure size 640x480 with 1 Axes>"
      ]
     },
     "metadata": {},
     "output_type": "display_data"
    }
   ],
   "source": [
    "diabetes_df = pd.read_csv('diabetes.csv', index_col = 0) \n",
    "diabetes_df = diabetes_df[diabetes_df['bmi'] != 0] \n",
    "diabetes_df = diabetes_df[diabetes_df['glucose'] != 0] \n",
    "X = diabetes_df.drop('glucose', axis=1).values\n",
    "y = diabetes_df['glucose'].values\n",
    "X_train, X_test, y_train, y_test = train_test_split(X, y, test_size=0.3, random_state=42)\n",
    "names = diabetes_df.drop('glucose', axis=1).columns \n",
    "lasso = Lasso(alpha=0.1)\n",
    "lasso_coef = lasso.fit(X,y).coef_\n",
    "plt.bar(names, lasso_coef)\n",
    "plt.xticks(rotation=45) \n",
    "plt.show()"
   ]
  },
  {
   "cell_type": "markdown",
   "id": "8f4dcc78",
   "metadata": {},
   "source": [
    "# LASSO REGRESSION FOR FEATURE IMPORTANCE\n"
   ]
  },
  {
   "cell_type": "code",
   "execution_count": 317,
   "id": "36243bcb",
   "metadata": {},
   "outputs": [
    {
     "name": "stdout",
     "output_type": "stream",
     "text": [
      "[ 3.56256962 -0.00397035  0.00496385]\n"
     ]
    },
    {
     "data": {
      "image/png": "[encoded data removed]",
      "text/plain": [
       "<Figure size 640x480 with 1 Axes>"
      ]
     },
     "metadata": {},
     "output_type": "display_data"
    }
   ],
   "source": [
    "sales_df = pd.read_csv(\"sales_df.csv\", index_col = 0)\n",
    "X = sales_df.drop('sales', axis=1)\n",
    "y = sales_df['sales']\n",
    "# Get the feature names\n",
    "sales_columns = X.columns\n",
    "lasso = Lasso(alpha=0.3)\n",
    "lasso_coef = lasso.fit(X,y).coef_\n",
    "\n",
    "print(lasso_coef)\n",
    "plt.bar(sales_columns, lasso_coef)\n",
    "plt.xticks(rotation=45) \n",
    "plt.show()"
   ]
  },
  {
   "cell_type": "code",
   "execution_count": null,
   "id": "5f8249ca",
   "metadata": {},
   "outputs": [],
   "source": []
  }
 ],
 "metadata": {
  "kernelspec": {
   "display_name": "Python 3 (ipykernel)",
   "language": "python",
   "name": "python3"
  },
  "language_info": {
   "codemirror_mode": {
    "name": "ipython",
    "version": 3
   },
   "file_extension": ".py",
   "mimetype": "text/x-python",
   "name": "python",
   "nbconvert_exporter": "python",
   "pygments_lexer": "ipython3",
   "version": "3.9.18"
  }
 },
 "nbformat": 4,
 "nbformat_minor": 5
}
