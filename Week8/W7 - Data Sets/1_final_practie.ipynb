{
 "cells": [
  {
   "cell_type": "code",
   "execution_count": 1,
   "id": "06e39b53",
   "metadata": {},
   "outputs": [],
   "source": [
    "import pandas as pd\n",
    "import numpy as np\n",
    "import matplotlib.pyplot as plt\n",
    "from scipy.stats import iqr\n",
    "from scipy.stats import uniform"
   ]
  },
  {
   "cell_type": "markdown",
   "id": "7d8d9294",
   "metadata": {},
   "source": [
    "• The food_consumption dataset contains information about the kilograms of food consumed per person per year in each country in each food category (consumption) as well as information about the carbon footprint of that food category (co2_emissions) measured in kilograms of carbon dioxide, or CO2, per person per year in each country.\n",
    "• In this exercise, you'll compute measures of center to compare food consumption in the US and Belgium using your pandas and numpy skills.\n",
    "• Instructions#1\n",
    "• Create two DataFrames: one that holds the rows of food_consumption for 'Belgium' and another that holds rows for\n",
    "'USA'. Call these be_consumption and usa_consumption.\n",
    "• Calculate the mean and median of kilograms of food consumed per person per year for both countries.\n",
    "• Instructions#2\n",
    "• Subset food_consumption for rows with data about Belgium and the USA.\n",
    "• Group the subsetted data by country and select only the consumption column.\n",
    "• Calculate the mean and median of the kilograms of food consumed per person per year in each country using .agg()."
   ]
  },
  {
   "cell_type": "code",
   "execution_count": 2,
   "id": "3f7ad8a5",
   "metadata": {},
   "outputs": [],
   "source": [
    "food_consumption = pd.read_csv(\"food_consumption.csv\")\n",
    "Belgium = food_consumption[food_consumption[\"country\"] == 'Belgium'] \n",
    "USA = food_consumption[food_consumption[\"country\"] == \"USA\"]\n"
   ]
  },
  {
   "cell_type": "code",
   "execution_count": 3,
   "id": "acc59c45",
   "metadata": {},
   "outputs": [
    {
     "name": "stdout",
     "output_type": "stream",
     "text": [
      "mean      42.132727\n",
      "median    12.590000\n",
      "Name: consumption, dtype: float64\n",
      "mean      44.65\n",
      "median    14.58\n",
      "Name: consumption, dtype: float64\n"
     ]
    }
   ],
   "source": [
    "print(Belgium['consumption'].agg([np.mean, np.median]))\n",
    "print(USA['consumption'].agg([np.mean, np.median]))"
   ]
  },
  {
   "cell_type": "code",
   "execution_count": 4,
   "id": "f8942e47",
   "metadata": {},
   "outputs": [
    {
     "data": {
      "text/html": [
       "<div>\n",
       "<style scoped>\n",
       "    .dataframe tbody tr th:only-of-type {\n",
       "        vertical-align: middle;\n",
       "    }\n",
       "\n",
       "    .dataframe tbody tr th {\n",
       "        vertical-align: top;\n",
       "    }\n",
       "\n",
       "    .dataframe thead th {\n",
       "        text-align: right;\n",
       "    }\n",
       "</style>\n",
       "<table border=\"1\" class=\"dataframe\">\n",
       "  <thead>\n",
       "    <tr style=\"text-align: right;\">\n",
       "      <th></th>\n",
       "      <th>mean</th>\n",
       "      <th>median</th>\n",
       "    </tr>\n",
       "    <tr>\n",
       "      <th>country</th>\n",
       "      <th></th>\n",
       "      <th></th>\n",
       "    </tr>\n",
       "  </thead>\n",
       "  <tbody>\n",
       "    <tr>\n",
       "      <th>Belgium</th>\n",
       "      <td>42.132727</td>\n",
       "      <td>12.59</td>\n",
       "    </tr>\n",
       "    <tr>\n",
       "      <th>USA</th>\n",
       "      <td>44.650000</td>\n",
       "      <td>14.58</td>\n",
       "    </tr>\n",
       "  </tbody>\n",
       "</table>\n",
       "</div>"
      ],
      "text/plain": [
       "              mean  median\n",
       "country                   \n",
       "Belgium  42.132727   12.59\n",
       "USA      44.650000   14.58"
      ]
     },
     "execution_count": 4,
     "metadata": {},
     "output_type": "execute_result"
    }
   ],
   "source": [
    "subset_food_consum =  food_consumption[(food_consumption['country'] == 'Belgium') | (food_consumption['country'] == 'USA')]\n",
    "groupby_food_consum = subset_food_consum.groupby('country')['consumption']\n",
    "result = groupby_food_consum.agg(['mean', 'median'])\n",
    "result"
   ]
  },
  {
   "cell_type": "code",
   "execution_count": 5,
   "id": "f545dd9e",
   "metadata": {},
   "outputs": [
    {
     "data": {
      "image/png": "[encoded data removed]",
      "text/plain": [
       "<Figure size 640x480 with 1 Axes>"
      ]
     },
     "metadata": {},
     "output_type": "display_data"
    },
    {
     "name": "stdout",
     "output_type": "stream",
     "text": [
      "mean      37.591615\n",
      "median    15.200000\n",
      "Name: co2_emission, dtype: float64\n"
     ]
    }
   ],
   "source": [
    "rice_consumption = food_consumption[food_consumption[\"food_category\"] == \"rice\"]\n",
    "plt.hist(rice_consumption['co2_emission'])\n",
    "plt.grid(True)\n",
    "plt.show()\n",
    "#Right-skewed\n",
    "#mean is higher than median\n",
    "print(rice_consumption['co2_emission'].agg([np.mean, np.median]))"
   ]
  },
  {
   "cell_type": "markdown",
   "id": "485600f4",
   "metadata": {},
   "source": [
    "Complete the following tasks.\n",
    "\n",
    "• Calculate the quartiles of the co2_emission column of food_consumption.\n",
    "\n",
    "• Calculate the six quantiles that split up the data into 5 pieces (quintiles) of the\n",
    "co2_emission column of food_consumption.\n",
    "\n",
    "• Calculate the eleven quantiles of co2_emission that split up the data into ten pieces (deciles)."
   ]
  },
  {
   "cell_type": "code",
   "execution_count": 6,
   "id": "19e4984c",
   "metadata": {},
   "outputs": [
    {
     "data": {
      "text/plain": [
       "array([   0.    ,    5.21  ,   16.53  ,   62.5975, 1712.    ])"
      ]
     },
     "execution_count": 6,
     "metadata": {},
     "output_type": "execute_result"
    }
   ],
   "source": [
    "quartile = np.quantile(food_consumption['co2_emission'], [0, 0.25 , 0.5 , 0.75, 1])\n",
    "quartile"
   ]
  },
  {
   "cell_type": "code",
   "execution_count": 7,
   "id": "5a7de540",
   "metadata": {},
   "outputs": [
    {
     "data": {
      "text/plain": [
       "array([   0.   ,    3.54 ,   11.026,   25.59 ,   99.978, 1712.   ])"
      ]
     },
     "execution_count": 7,
     "metadata": {},
     "output_type": "execute_result"
    }
   ],
   "source": [
    "six_quantile = np.quantile(food_consumption['co2_emission'], [0,0.2,0.4,0.6,0.8,1])\n",
    "six_quantile"
   ]
  },
  {
   "cell_type": "code",
   "execution_count": 8,
   "id": "cfcdd637",
   "metadata": {},
   "outputs": [
    {
     "data": {
      "text/plain": [
       "array([0.00000e+00, 6.68000e-01, 3.54000e+00, 7.04000e+00, 1.10260e+01,\n",
       "       1.65300e+01, 2.55900e+01, 4.42710e+01, 9.99780e+01, 2.03629e+02,\n",
       "       1.71200e+03])"
      ]
     },
     "execution_count": 8,
     "metadata": {},
     "output_type": "execute_result"
    }
   ],
   "source": [
    "ten_quantile = np.quantile(food_consumption['co2_emission'], [0, 0.1, 0.2, 0.3, 0.4, 0.5, 0.6 , 0.7 ,0.8, 0.9, 1])\n",
    "ten_quantile"
   ]
  },
  {
   "cell_type": "markdown",
   "id": "c2a87e34",
   "metadata": {},
   "source": [
    "Complete the following tasks\n",
    "\n",
    "• Calculate the variance and standard deviation of co2_emission for each food_category by grouping (groupby food_category) and aggregating.\n",
    "\n",
    "• Create a histogram of co2_emission for the beef food_category and show the plot. (subset food_category for beef, select co2_emission column and plot .hist())\n",
    "\n",
    "• Create a histogram of co2_emission for the eggs food_category and show the plot."
   ]
  },
  {
   "cell_type": "code",
   "execution_count": 9,
   "id": "30a5835c",
   "metadata": {},
   "outputs": [
    {
     "name": "stdout",
     "output_type": "stream",
     "text": [
      "                        var         std\n",
      "food_category                          \n",
      "beef           88748.408132  297.906710\n",
      "dairy          17671.891985  132.935669\n",
      "eggs              21.371819    4.622966\n",
      "fish             921.637349   30.358481\n",
      "lamb_goat      16475.518363  128.356996\n",
      "nuts              35.639652    5.969895\n",
      "pork            3094.963537   55.632396\n",
      "poultry          245.026801   15.653332\n",
      "rice            2281.376243   47.763754\n",
      "soybeans           0.879882    0.938020\n",
      "wheat             71.023937    8.427570\n"
     ]
    }
   ],
   "source": [
    "print(food_consumption.groupby('food_category')['co2_emission'].agg([np.var, np.std]))"
   ]
  },
  {
   "cell_type": "code",
   "execution_count": 10,
   "id": "f1f41880",
   "metadata": {},
   "outputs": [
    {
     "data": {
      "image/png": "[encoded data removed]",
      "text/plain": [
       "<Figure size 640x480 with 1 Axes>"
      ]
     },
     "metadata": {},
     "output_type": "display_data"
    }
   ],
   "source": [
    "food_consumption[food_consumption['food_category'] == \"beef\"]['co2_emission'].hist()\n",
    "plt.show()"
   ]
  },
  {
   "cell_type": "code",
   "execution_count": 11,
   "id": "d297576f",
   "metadata": {},
   "outputs": [
    {
     "data": {
      "image/png": "[encoded data removed]",
      "text/plain": [
       "<Figure size 640x480 with 1 Axes>"
      ]
     },
     "metadata": {},
     "output_type": "display_data"
    }
   ],
   "source": [
    "food_consumption[food_consumption['food_category'] == \"eggs\"]['co2_emission'].hist()\n",
    "plt.show()"
   ]
  },
  {
   "cell_type": "markdown",
   "id": "984c5a35",
   "metadata": {},
   "source": [
    "Finding outliers using IQR\n",
    "\n",
    "• Outliers can have big effects on statistics like mean, as well as statistics that rely on the mean, such as variance and standard deviation. Interquartile range, or IQR, is another way of measuring spread that's less influenced by outliers. IQR is also often used to find outliers. If a value is less than Q1−1.5×IQR or greater than Q3+1.5×IQR, it's considered an outlier.\n",
    "\n",
    "• Subset emissions_by_country to get countries with a total emission greater than the upper cutoff or a total emission less than the lower cutoff.\n",
    "\n",
    "• Compute the first and third quartiles of emissions_by_country and store these as q1 and q3.\n",
    "\n",
    "• Calculate the interquartile range of emissions_by_country and store it as iqr.\n",
    "\n",
    "• Calculate the lower and upper cutoffs for outliers of emissions_by_country, and store these as lower and upper.\n",
    "\n",
    "• Subset emissions_by_country to get countries with a total emission greater than the upper cutoff or a total emission\n",
    "less than the lower cutoff."
   ]
  },
  {
   "cell_type": "code",
   "execution_count": 12,
   "id": "2f7c078f",
   "metadata": {},
   "outputs": [
    {
     "data": {
      "text/plain": [
       "country\n",
       "Argentina    2172.4\n",
       "Name: co2_emission, dtype: float64"
      ]
     },
     "execution_count": 12,
     "metadata": {},
     "output_type": "execute_result"
    }
   ],
   "source": [
    "\n",
    "#data\n",
    "emissions_by_country = food_consumption.groupby('country')[\"co2_emission\"].sum()\n",
    "\n",
    "q1 = np.quantile(emissions_by_country, 0.25)\n",
    "q3 = np.quantile(emissions_by_country, 0.75)\n",
    "iqr = q3 - q1\n",
    "lower = q1 - 1.5 * iqr\n",
    "upper = q3 + 1.5 * iqr\n",
    "\n",
    "#booler\n",
    "#outliers = emissions_by_country[(emissions_by_country < lower)] | emissions_by_country[(emissions_by_country > upper)]\n",
    "\n",
    "#numeric\n",
    "outliers = emissions_by_country[(emissions_by_country < lower) | (emissions_by_country > upper)] \n",
    "#less than \"lower\" or greater than \"upper\"\n",
    "outliers"
   ]
  },
  {
   "cell_type": "code",
   "execution_count": 13,
   "id": "f68bacad",
   "metadata": {},
   "outputs": [
    {
     "data": {
      "text/plain": [
       "-550.0787500000001"
      ]
     },
     "execution_count": 13,
     "metadata": {},
     "output_type": "execute_result"
    }
   ],
   "source": [
    "lower\n"
   ]
  },
  {
   "cell_type": "code",
   "execution_count": 14,
   "id": "6aa24e28",
   "metadata": {},
   "outputs": [
    {
     "data": {
      "text/plain": [
       "2107.89125"
      ]
     },
     "execution_count": 14,
     "metadata": {},
     "output_type": "execute_result"
    }
   ],
   "source": [
    "upper"
   ]
  },
  {
   "cell_type": "markdown",
   "id": "36260986",
   "metadata": {},
   "source": [
    "Calculating probabilities\n",
    "\n",
    "• You're in charge of the sales team, and it's time for performance reviews, starting with Amir. As part of the review, you want to randomly select a few of the deals that he's worked on over the past year so that you can look at them more deeply. Before you start selecting deals, you'll first figure out what the chances are of selecting certain deals.\n",
    "\n",
    "• Complete the following tasks.\n",
    "\n",
    "• Load amir_deals.csv to amir_deals\n",
    "\n",
    "• Count the number of deals Amir worked on for each product type and store in counts.\n",
    "\n",
    "• Calculate the probability of selecting a deal for the different product types by dividing the counts by the total number\n",
    "of deals Amir worked on. Save this as probs.\n",
    "\n",
    "• If you randomly select one of Amir's deals, what's the probability that the deal will involve Product C? (15%, 80.43%, 8.43%, 22.5% or 124.3%)"
   ]
  },
  {
   "cell_type": "code",
   "execution_count": 15,
   "id": "3e3ef66b",
   "metadata": {},
   "outputs": [
    {
     "data": {
      "text/plain": [
       "Product B    0.348315\n",
       "Product D    0.224719\n",
       "Product A    0.129213\n",
       "Product C    0.084270\n",
       "Product F    0.061798\n",
       "Product H    0.044944\n",
       "Product I    0.039326\n",
       "Product E    0.028090\n",
       "Product N    0.016854\n",
       "Product G    0.011236\n",
       "Product J    0.011236\n",
       "Name: product, dtype: float64"
      ]
     },
     "execution_count": 15,
     "metadata": {},
     "output_type": "execute_result"
    }
   ],
   "source": [
    "amir_deals = pd.read_csv(\"amir_deals.csv\")\n",
    "counts = amir_deals['product'].value_counts()\n",
    "probs = counts / amir_deals.shape[0]\n",
    "probs"
   ]
  },
  {
   "cell_type": "markdown",
   "id": "eeea4640",
   "metadata": {},
   "source": [
    "Sampling deals\n",
    "• In the previous exercise, you counted the deals Amir worked on. Now it's time to randomly pick five deals so that you can reach out to each customer and ask if they were satisfied with the service they received. You'll try doing this both with and without replacement.\n",
    "\n",
    "• Additionally, you want to make sure this is done randomly and that it can be reproduced in case you get asked how you chose the deals, so you'll need to set the random seed before sampling from the deals.\n",
    "\n",
    "• Complete the following tasks.\n",
    "\n",
    "• Set the random seed to 24.\n",
    "\n",
    "• Take a sample of 5 deals without replacement and store them as sample_without_replacement.\n",
    "\n",
    "• Take a sample of 5 deals with replacement and save as sample_with_replacement."
   ]
  },
  {
   "cell_type": "code",
   "execution_count": 16,
   "id": "b3f88f2b",
   "metadata": {},
   "outputs": [
    {
     "name": "stdout",
     "output_type": "stream",
     "text": [
      "SAMPLE WITHOUT REPLACEMENT\n",
      "     Unnamed: 0    product   client status   amount  num_users\n",
      "127         128  Product B  Current    Won  2070.25          7\n",
      "148         149  Product D  Current    Won  3485.48         52\n",
      "77           78  Product B  Current    Won  6252.30         27\n",
      "104         105  Product D  Current    Won  4110.98         39\n",
      "166         167  Product C      New   Lost  3779.86         11\n",
      "SAMPLE WITH REPLACEMENT\n",
      "     Unnamed: 0    product   client status   amount  num_users\n",
      "133         134  Product D  Current    Won  5992.86         98\n",
      "101         102  Product H  Current    Won  5116.34         63\n",
      "110         111  Product B  Current    Won   696.88         44\n",
      "49           50  Product B  Current    Won  3488.36         79\n",
      "56           57  Product D  Current    Won  6820.84         42\n"
     ]
    }
   ],
   "source": [
    "np.random.seed(24)\n",
    "sample_without_replacement = amir_deals.sample(5)\n",
    "print(\"SAMPLE WITHOUT REPLACEMENT\")\n",
    "print(sample_without_replacement)\n",
    "sample_with_replacement = amir_deals.sample(5, replace = True)\n",
    "print(\"SAMPLE WITH REPLACEMENT\")\n",
    "print(sample_with_replacement)"
   ]
  },
  {
   "cell_type": "markdown",
   "id": "24695188",
   "metadata": {},
   "source": [
    "Creating a probability distribution\n",
    "\n",
    "• A new restaurant opened a few months ago, and the restaurant's management wants to optimize its seating space based on the size of the groups that come most often. On one night, there are 10 groups of people waiting to be seated at the restaurant, but instead of being called in the order they arrived, they will be called randomly. In this exercise, you'll investigate the probability of groups of different sizes getting picked first. Data on each of the ten groups is contained in the restaurant_groups (from restaurant_groups.csv) DataFrame.\n",
    "\n",
    "• Complete the following tasks\n",
    "\n",
    "• Create a histogram of the group_size column of restaurant_groups, setting bins to [2, 3, 4, 5, 6].\n",
    "Remember to show the plot.\n",
    "\n",
    "• Count the number of each group_size in restaurant_groups, then divide by the number of rows in restaurant_groups to calculate the probability of randomly selecting a group of each size. Save as size_dist.\n",
    "\n",
    "• Reset the index of size_dist.\n",
    "\n",
    "• Rename the columns of size_dist to group_size and prob.\n",
    "\n",
    "• Calculate the expected value of the size_distribution, which represents the expected group size, by multiplying the group_size by the prob and taking the sum.\n",
    "\n",
    "• Calculate the probability of randomly picking a group of 4 or more people by subsetting for groups of size 4 or more and summing the probabilities of selecting those groups."
   ]
  },
  {
   "cell_type": "code",
   "execution_count": 17,
   "id": "48ce69e8",
   "metadata": {},
   "outputs": [
    {
     "name": "stdout",
     "output_type": "stream",
     "text": [
      "   Unnamed: 0 group_id  group_size\n",
      "0           0        A           2\n",
      "1           1        B           4\n",
      "2           2        C           6\n",
      "3           3        D           2\n",
      "4           4        E           2\n",
      "5           5        F           2\n",
      "6           6        G           3\n",
      "7           7        H           2\n",
      "8           8        I           4\n",
      "9           9        J           2\n"
     ]
    },
    {
     "data": {
      "image/png": "[encoded data removed]",
      "text/plain": [
       "<Figure size 640x480 with 1 Axes>"
      ]
     },
     "metadata": {},
     "output_type": "display_data"
    }
   ],
   "source": [
    "restaurant_groups = pd.read_csv(\"restaurant_groups.csv\")\n",
    "print(restaurant_groups)\n",
    "restaurant_groups['group_size'].hist(bins=[2,3,4,5,6]) \n",
    "plt.show()"
   ]
  },
  {
   "cell_type": "code",
   "execution_count": 18,
   "id": "9a31aeb9",
   "metadata": {},
   "outputs": [
    {
     "data": {
      "text/html": [
       "<div>\n",
       "<style scoped>\n",
       "    .dataframe tbody tr th:only-of-type {\n",
       "        vertical-align: middle;\n",
       "    }\n",
       "\n",
       "    .dataframe tbody tr th {\n",
       "        vertical-align: top;\n",
       "    }\n",
       "\n",
       "    .dataframe thead th {\n",
       "        text-align: right;\n",
       "    }\n",
       "</style>\n",
       "<table border=\"1\" class=\"dataframe\">\n",
       "  <thead>\n",
       "    <tr style=\"text-align: right;\">\n",
       "      <th></th>\n",
       "      <th>index</th>\n",
       "      <th>group_size</th>\n",
       "    </tr>\n",
       "  </thead>\n",
       "  <tbody>\n",
       "    <tr>\n",
       "      <th>0</th>\n",
       "      <td>2</td>\n",
       "      <td>0.6</td>\n",
       "    </tr>\n",
       "    <tr>\n",
       "      <th>1</th>\n",
       "      <td>4</td>\n",
       "      <td>0.2</td>\n",
       "    </tr>\n",
       "    <tr>\n",
       "      <th>2</th>\n",
       "      <td>6</td>\n",
       "      <td>0.1</td>\n",
       "    </tr>\n",
       "    <tr>\n",
       "      <th>3</th>\n",
       "      <td>3</td>\n",
       "      <td>0.1</td>\n",
       "    </tr>\n",
       "  </tbody>\n",
       "</table>\n",
       "</div>"
      ],
      "text/plain": [
       "   index  group_size\n",
       "0      2         0.6\n",
       "1      4         0.2\n",
       "2      6         0.1\n",
       "3      3         0.1"
      ]
     },
     "execution_count": 18,
     "metadata": {},
     "output_type": "execute_result"
    }
   ],
   "source": [
    "size_dist = restaurant_groups['group_size'].value_counts() / restaurant_groups.shape[0]\n",
    "size_dist = size_dist.reset_index()\n",
    "size_dist"
   ]
  },
  {
   "cell_type": "code",
   "execution_count": 19,
   "id": "e62495f3",
   "metadata": {},
   "outputs": [
    {
     "data": {
      "text/html": [
       "<div>\n",
       "<style scoped>\n",
       "    .dataframe tbody tr th:only-of-type {\n",
       "        vertical-align: middle;\n",
       "    }\n",
       "\n",
       "    .dataframe tbody tr th {\n",
       "        vertical-align: top;\n",
       "    }\n",
       "\n",
       "    .dataframe thead th {\n",
       "        text-align: right;\n",
       "    }\n",
       "</style>\n",
       "<table border=\"1\" class=\"dataframe\">\n",
       "  <thead>\n",
       "    <tr style=\"text-align: right;\">\n",
       "      <th></th>\n",
       "      <th>group_size</th>\n",
       "      <th>prob</th>\n",
       "    </tr>\n",
       "  </thead>\n",
       "  <tbody>\n",
       "    <tr>\n",
       "      <th>0</th>\n",
       "      <td>2</td>\n",
       "      <td>0.6</td>\n",
       "    </tr>\n",
       "    <tr>\n",
       "      <th>1</th>\n",
       "      <td>4</td>\n",
       "      <td>0.2</td>\n",
       "    </tr>\n",
       "    <tr>\n",
       "      <th>2</th>\n",
       "      <td>6</td>\n",
       "      <td>0.1</td>\n",
       "    </tr>\n",
       "    <tr>\n",
       "      <th>3</th>\n",
       "      <td>3</td>\n",
       "      <td>0.1</td>\n",
       "    </tr>\n",
       "  </tbody>\n",
       "</table>\n",
       "</div>"
      ],
      "text/plain": [
       "   group_size  prob\n",
       "0           2   0.6\n",
       "1           4   0.2\n",
       "2           6   0.1\n",
       "3           3   0.1"
      ]
     },
     "execution_count": 19,
     "metadata": {},
     "output_type": "execute_result"
    }
   ],
   "source": [
    "#Counting the number of each group size\n",
    "size_dist.columns = ['group_size', 'prob'] \n",
    "size_dist"
   ]
  },
  {
   "cell_type": "code",
   "execution_count": 20,
   "id": "ec807328",
   "metadata": {},
   "outputs": [
    {
     "name": "stdout",
     "output_type": "stream",
     "text": [
      "EXPECTED VALUE:  2.9000000000000004\n"
     ]
    }
   ],
   "source": [
    "expected_value = np.sum(size_dist['group_size'] * size_dist['prob']) \n",
    "print(\"EXPECTED VALUE: \",expected_value)"
   ]
  },
  {
   "cell_type": "code",
   "execution_count": 21,
   "id": "e0ec7a82",
   "metadata": {},
   "outputs": [
    {
     "data": {
      "text/html": [
       "<div>\n",
       "<style scoped>\n",
       "    .dataframe tbody tr th:only-of-type {\n",
       "        vertical-align: middle;\n",
       "    }\n",
       "\n",
       "    .dataframe tbody tr th {\n",
       "        vertical-align: top;\n",
       "    }\n",
       "\n",
       "    .dataframe thead th {\n",
       "        text-align: right;\n",
       "    }\n",
       "</style>\n",
       "<table border=\"1\" class=\"dataframe\">\n",
       "  <thead>\n",
       "    <tr style=\"text-align: right;\">\n",
       "      <th></th>\n",
       "      <th>group_size</th>\n",
       "      <th>prob</th>\n",
       "    </tr>\n",
       "  </thead>\n",
       "  <tbody>\n",
       "    <tr>\n",
       "      <th>1</th>\n",
       "      <td>4</td>\n",
       "      <td>0.2</td>\n",
       "    </tr>\n",
       "    <tr>\n",
       "      <th>2</th>\n",
       "      <td>6</td>\n",
       "      <td>0.1</td>\n",
       "    </tr>\n",
       "  </tbody>\n",
       "</table>\n",
       "</div>"
      ],
      "text/plain": [
       "   group_size  prob\n",
       "1           4   0.2\n",
       "2           6   0.1"
      ]
     },
     "execution_count": 21,
     "metadata": {},
     "output_type": "execute_result"
    }
   ],
   "source": [
    "group_of_4_or_more = size_dist[size_dist['group_size'] >= 4]\n",
    "#subsetting group size of 4 or more\n",
    "group_of_4_or_more"
   ]
  },
  {
   "cell_type": "code",
   "execution_count": 22,
   "id": "6c9d22dc",
   "metadata": {},
   "outputs": [
    {
     "name": "stdout",
     "output_type": "stream",
     "text": [
      "SUMMATION OF. PROBABLITY OF 4 or more :  0.30000000000000004\n"
     ]
    }
   ],
   "source": [
    "sum_of_4_or_more = np.sum(group_of_4_or_more[\"prob\"])\n",
    "print(\"SUMMATION OF. PROBABLITY OF 4 or more : \", sum_of_4_or_more)"
   ]
  },
  {
   "cell_type": "markdown",
   "id": "4902bf2c",
   "metadata": {},
   "source": [
    "Practice – Data back-ups\n",
    "\n",
    "• The sales software used at your company is set to automatically back itself up, but no one knows exactly what time the back-ups happen. It is known, however, that back-ups happen exactly every 30 minutes. Amir comes back from sales meetings at random times to update the data on the client he just met with. He wants to know how long he'll have to wait for his newly-entered data to get backed up. Use your new knowledge of continuous uniform distributions to model this situation and answer Amir's questions.\n",
    "\n",
    "• To model how long Amir will wait for a back-up using a continuous uniform distribution, save his lowest possible wait time as min_time and his longest possible wait time as max_time. Remember that back-ups happen every 30 minutes.\n",
    "\n",
    "• Import uniform from scipy.stats and calculate the probability that Amir has to wait less than 5 minutes, and store in a variable called prob_less_than_5.\n",
    "\n",
    "• Calculate the probability that Amir has to wait more than 5 minutes, and store in a variable called prob_greater_than_5.\n",
    "\n",
    "• Calculate the probability that Amir has to wait between 10 and 20 minutes, and store in a variable called prob_between_10_and_20."
   ]
  },
  {
   "cell_type": "code",
   "execution_count": 23,
   "id": "4f109103",
   "metadata": {},
   "outputs": [
    {
     "name": "stdout",
     "output_type": "stream",
     "text": [
      "LESS THAN 5:  0.16666666666666666\n",
      "GREATER THAN 5:  0.8333333333333334\n",
      "BETWEEN 10 and 20:  0.3333333333333333\n"
     ]
    }
   ],
   "source": [
    "min_time = 0\n",
    "max_time = 30\n",
    "prob_less_than_5 = uniform.cdf(5, 0 , 30)\n",
    "print(\"LESS THAN 5: \", prob_less_than_5)\n",
    "prob_greater_than_5 = 1 - uniform.cdf(5,0 , 30)\n",
    "print(\"GREATER THAN 5: \", prob_greater_than_5)\n",
    "prob_between_10_and_20 = uniform.cdf(20, 0 , 30) - uniform.cdf(10 , 0 , 30)\n",
    "print(\"BETWEEN 10 and 20: \", prob_between_10_and_20)"
   ]
  },
  {
   "cell_type": "markdown",
   "id": "73775cd6",
   "metadata": {},
   "source": [
    "Simulating wait times\n",
    "\n",
    "• To give Amir a better idea of how long he'll have to wait, you'll simulate Amir waiting 1000 times and create a histogram to show him what he should expect. Recall from the last exercise that his minimum wait time is 0 minutes and his maximum wait time is 30 minutes.\n",
    "\n",
    "• Set the random seed to 334.\n",
    "\n",
    "• Generate 1000 wait times from the continuous uniform distribution that models Amir's wait time. Save this as wait_times.\n",
    "\n",
    "• Create a histogram of the simulated wait times and show the plot."
   ]
  },
  {
   "cell_type": "code",
   "execution_count": 24,
   "id": "62314d71",
   "metadata": {},
   "outputs": [
    {
     "data": {
      "image/png": "[encoded data removed]",
      "text/plain": [
       "<Figure size 640x480 with 1 Axes>"
      ]
     },
     "metadata": {},
     "output_type": "display_data"
    }
   ],
   "source": [
    "np.random.seed(334)\n",
    "wait_times = uniform.rvs(0,30, size = 1000)\n",
    "plt.hist(wait_times)\n",
    "plt.show()"
   ]
  },
  {
   "cell_type": "markdown",
   "id": "bd5914b9",
   "metadata": {},
   "source": [
    "HOW MANY PERCENT ARE LESS THAN 154 considering mean = 161 and standard_deviation = 7"
   ]
  },
  {
   "cell_type": "code",
   "execution_count": 27,
   "id": "f02c533e",
   "metadata": {},
   "outputs": [
    {
     "data": {
      "text/plain": [
       "0.15865525393145707"
      ]
     },
     "execution_count": 27,
     "metadata": {},
     "output_type": "execute_result"
    }
   ],
   "source": [
    "from scipy.stats import norm\n",
    "norm.cdf(154, 161, 7)"
   ]
  },
  {
   "cell_type": "markdown",
   "id": "b2d85794",
   "metadata": {},
   "source": [
    "HOW MANY PERCENT ARE more THAN 154 considering mean = 161 and standard_deviation = 7"
   ]
  },
  {
   "cell_type": "code",
   "execution_count": 26,
   "id": "a2d31805",
   "metadata": {},
   "outputs": [
    {
     "data": {
      "text/plain": [
       "0.8413447460685429"
      ]
     },
     "execution_count": 26,
     "metadata": {},
     "output_type": "execute_result"
    }
   ],
   "source": [
    "1- norm.cdf(154, 161, 7)"
   ]
  },
  {
   "cell_type": "markdown",
   "id": "8ff95a9c",
   "metadata": {},
   "source": [
    "HOW MANY PERCENT ARE more 154 - 157 considering mean = 161 and standard_deviation = 7"
   ]
  },
  {
   "cell_type": "code",
   "execution_count": 29,
   "id": "ff25e153",
   "metadata": {},
   "outputs": [
    {
     "data": {
      "text/plain": [
       "0.1251993291672192"
      ]
     },
     "execution_count": 29,
     "metadata": {},
     "output_type": "execute_result"
    }
   ],
   "source": [
    "norm.cdf(157, 161, 7) -  norm.cdf(154, 161, 7)"
   ]
  },
  {
   "cell_type": "markdown",
   "id": "dfffe1f2",
   "metadata": {},
   "source": [
    "GENERATE RANDOM NUMBER"
   ]
  },
  {
   "cell_type": "code",
   "execution_count": 31,
   "id": "ca554349",
   "metadata": {},
   "outputs": [
    {
     "data": {
      "text/plain": [
       "array([170.38780162, 164.33293628, 156.84955026, 159.30632522,\n",
       "       150.50084876, 161.69075129, 165.01008514, 158.3003857 ,\n",
       "       149.21039262, 159.55371326])"
      ]
     },
     "execution_count": 31,
     "metadata": {},
     "output_type": "execute_result"
    }
   ],
   "source": [
    "norm.rvs(161, 7 , size = 10)"
   ]
  },
  {
   "cell_type": "markdown",
   "id": "3bd79306",
   "metadata": {},
   "source": [
    "# CENTRAL LIMIT THEOREM"
   ]
  },
  {
   "cell_type": "code",
   "execution_count": 48,
   "id": "0f12208f",
   "metadata": {},
   "outputs": [
    {
     "name": "stdout",
     "output_type": "stream",
     "text": [
      "3    4\n",
      "1    2\n",
      "4    5\n",
      "2    3\n",
      "4    5\n",
      "dtype: int64\n"
     ]
    }
   ],
   "source": [
    "#ROLLING THE DICE 5 times\n",
    "die = pd.Series([1,2,3,4,5,6])\n",
    "#Roll 5 times\n",
    "samp_5 = die.sample(5, replace = True)\n",
    "print(samp_5)"
   ]
  },
  {
   "cell_type": "code",
   "execution_count": 49,
   "id": "a334203a",
   "metadata": {},
   "outputs": [
    {
     "data": {
      "text/plain": [
       "3.8"
      ]
     },
     "execution_count": 49,
     "metadata": {},
     "output_type": "execute_result"
    }
   ],
   "source": [
    "np.mean(samp_5)"
   ]
  },
  {
   "cell_type": "code",
   "execution_count": 50,
   "id": "31e50b5e",
   "metadata": {},
   "outputs": [
    {
     "data": {
      "text/plain": [
       "4.4"
      ]
     },
     "execution_count": 50,
     "metadata": {},
     "output_type": "execute_result"
    }
   ],
   "source": [
    "samp_5 = die.sample(5, replace = True)\n",
    "np.mean(samp_5)"
   ]
  },
  {
   "cell_type": "code",
   "execution_count": 51,
   "id": "e0a8d820",
   "metadata": {},
   "outputs": [
    {
     "data": {
      "text/plain": [
       "3.4"
      ]
     },
     "execution_count": 51,
     "metadata": {},
     "output_type": "execute_result"
    }
   ],
   "source": [
    "samp_5 = die.sample(5, replace = True)\n",
    "np.mean(samp_5)"
   ]
  },
  {
   "cell_type": "code",
   "execution_count": 57,
   "id": "180ecb11",
   "metadata": {},
   "outputs": [
    {
     "name": "stdout",
     "output_type": "stream",
     "text": [
      "[3.4, 2.8, 4.2, 2.6, 3.0, 2.6, 2.0, 2.6, 3.0, 2.8]\n"
     ]
    }
   ],
   "source": [
    "#ROLL 5 TIMES,TAKE THE MEAN <- Repeat 10 times\n",
    "sample_means = []\n",
    "for i in range(10):\n",
    "    samp_5 = die.sample(5, replace = True)\n",
    "    sample_means.append(np.mean(samp_5))\n",
    "print(sample_means)"
   ]
  },
  {
   "cell_type": "markdown",
   "id": "fbadfcee",
   "metadata": {},
   "source": [
    "Sampling Distribution of the Sample Mean"
   ]
  },
  {
   "cell_type": "code",
   "execution_count": 59,
   "id": "1caca101",
   "metadata": {},
   "outputs": [
    {
     "data": {
      "image/png": "[encoded data removed]",
      "text/plain": [
       "<Figure size 640x480 with 1 Axes>"
      ]
     },
     "metadata": {},
     "output_type": "display_data"
    }
   ],
   "source": [
    "plt.hist(sample_means)\n",
    "plt.grid(True)\n",
    "plt.show()"
   ]
  },
  {
   "cell_type": "markdown",
   "id": "3edd2c8a",
   "metadata": {},
   "source": [
    "• Create a histogram of the num_users column of amir_deals and show the plot.\n",
    "\n",
    "• Set the seed to 104.\n",
    "\n",
    "• Take a sample of size 20 with replacement from the\n",
    "num_users column of amir_deals, and take the mean.\n",
    "\n",
    "• Repeat this 100 times using a for loop and store as sample_means. This will take 100 different samples and calculate the mean of each.\n",
    "\n",
    "• Convert sample_means into a pd.Series, create a histogram of the sample_means, and show the plot."
   ]
  },
  {
   "cell_type": "code",
   "execution_count": 62,
   "id": "f08d1224",
   "metadata": {},
   "outputs": [
    {
     "data": {
      "image/png": "[encoded data removed]",
      "text/plain": [
       "<Figure size 640x480 with 1 Axes>"
      ]
     },
     "metadata": {},
     "output_type": "display_data"
    }
   ],
   "source": [
    "plt.hist(amir_deals[\"num_users\"])\n",
    "plt.show()\n"
   ]
  },
  {
   "cell_type": "code",
   "execution_count": 71,
   "id": "7f5f1bd6",
   "metadata": {},
   "outputs": [
    {
     "data": {
      "image/png": "[encoded data removed]",
      "text/plain": [
       "<Figure size 640x480 with 1 Axes>"
      ]
     },
     "metadata": {},
     "output_type": "display_data"
    }
   ],
   "source": [
    "np.random.seed(104)\n",
    "sample_means = []\n",
    "for i in range(100):   \n",
    "    sample_means.append(np.mean(amir_deals[\"num_users\"].sample(20, replace = True)))\n",
    "    \n",
    "# Convert to Series and plot histogram \n",
    "sample_means_series = pd.Series(sample_means) \n",
    "\n",
    "plt.hist(sample_means)\n",
    "plt.grid(True)\n",
    "plt.show()\n"
   ]
  },
  {
   "cell_type": "markdown",
   "id": "56424e31",
   "metadata": {},
   "source": [
    "# CORRELAATION\n",
    "VISUALIZING RELATIONSHIPS"
   ]
  },
  {
   "cell_type": "code",
   "execution_count": 77,
   "id": "f36f3502",
   "metadata": {},
   "outputs": [
    {
     "data": {
      "image/png": "[encoded data removed]",
      "text/plain": [
       "<Figure size 640x480 with 1 Axes>"
      ]
     },
     "metadata": {},
     "output_type": "display_data"
    }
   ],
   "source": [
    "import seaborn as sns\n",
    "world_happiness = pd.read_csv(\"world_happiness.csv\")\n",
    "sns.scatterplot(x = \"life_exp\", y = \"happiness_score\", data = world_happiness)\n",
    "#y is dependent so it is telling base on x. Happiness score is base on Life_exp\n",
    "plt.show()"
   ]
  },
  {
   "cell_type": "code",
   "execution_count": 78,
   "id": "e95f3761",
   "metadata": {},
   "outputs": [
    {
     "name": "stderr",
     "output_type": "stream",
     "text": [
      "/Users/richard/opt/anaconda3/lib/python3.9/site-packages/seaborn/axisgrid.py:118: UserWarning: The figure layout has changed to tight\n",
      "  self._figure.tight_layout(*args, **kwargs)\n"
     ]
    },
    {
     "data": {
      "image/png": "[encoded data removed]",
      "text/plain": [
       "<Figure size 500x500 with 1 Axes>"
      ]
     },
     "metadata": {},
     "output_type": "display_data"
    }
   ],
   "source": [
    "sns.lmplot(x = \"life_exp\", y = \"happiness_score\", data = world_happiness, ci = None)\n",
    "#y is dependent so it is telling base on x. Happiness score is base on Life_exp\n",
    "plt.show()"
   ]
  },
  {
   "cell_type": "markdown",
   "id": "1cfef45a",
   "metadata": {},
   "source": [
    "0.8 is most liely to be the correlation between the two values"
   ]
  },
  {
   "cell_type": "code",
   "execution_count": 80,
   "id": "4695278b",
   "metadata": {},
   "outputs": [
    {
     "data": {
      "text/plain": [
       "0.7802249053272063"
      ]
     },
     "execution_count": 80,
     "metadata": {},
     "output_type": "execute_result"
    }
   ],
   "source": [
    "cor = world_happiness[\"happiness_score\"].corr(world_happiness[\"life_exp\"])\n",
    "cor"
   ]
  },
  {
   "cell_type": "markdown",
   "id": "597188f0",
   "metadata": {},
   "source": [
    "# CORRELATION CAVEATS/ LOG TRANSFORMATION"
   ]
  },
  {
   "cell_type": "markdown",
   "id": "a94d756c",
   "metadata": {},
   "source": [
    "\n",
    "• Transforming variables\n",
    "\n",
    "• When variables have skewed distributions, they often require a transformation in order to form a linear relationship with another variable so that correlation can be computed. In this exercise, you'll perform a transformation yourself.\n",
    "\n",
    "• Work with world_happiness DataFrame • Complete the following tasks.\n",
    "\n",
    "• Create a scatterplot of happiness_score versus gdp_per_cap and calculate the correlation between them.\n",
    "\n",
    "• Add a new column to world_happiness called log_gdp_per_cap that contains the log of gdp_per_cap.\n",
    "\n",
    "• Create a seaborn scatterplot of happiness_score versus log_gdp_per_cap.\n",
    "\n",
    "• Calculate the correlation between log_gdp_per_cap and happiness_score."
   ]
  },
  {
   "cell_type": "code",
   "execution_count": 81,
   "id": "d3d4b48d",
   "metadata": {},
   "outputs": [
    {
     "data": {
      "image/png": "[encoded data removed]",
      "text/plain": [
       "<Figure size 640x480 with 1 Axes>"
      ]
     },
     "metadata": {},
     "output_type": "display_data"
    }
   ],
   "source": [
    "world_happiness = pd.read_csv(\"world_happiness.csv\")\n",
    "sns.scatterplot(x = \"gdp_per_cap\" , y = \"happiness_score\" , data = world_happiness)\n",
    "plt.show()"
   ]
  },
  {
   "cell_type": "code",
   "execution_count": 83,
   "id": "a685972a",
   "metadata": {},
   "outputs": [
    {
     "data": {
      "text/plain": [
       "0.7279733012222975"
      ]
     },
     "execution_count": 83,
     "metadata": {},
     "output_type": "execute_result"
    }
   ],
   "source": [
    "world_happiness[\"gdp_per_cap\"].corr(world_happiness[\"happiness_score\"])"
   ]
  },
  {
   "cell_type": "code",
   "execution_count": 85,
   "id": "a0977f96",
   "metadata": {},
   "outputs": [
    {
     "data": {
      "image/png": "[encoded data removed]",
      "text/plain": [
       "<Figure size 640x480 with 1 Axes>"
      ]
     },
     "metadata": {},
     "output_type": "display_data"
    }
   ],
   "source": [
    "world_happiness[\"log_gdp_per_cap\"] = np.log(world_happiness[\"gdp_per_cap\"])\n",
    "sns.scatterplot(x = \"log_gdp_per_cap\" , y = \"happiness_score\" , data = world_happiness)\n",
    "plt.show()"
   ]
  },
  {
   "cell_type": "code",
   "execution_count": 86,
   "id": "15555661",
   "metadata": {},
   "outputs": [
    {
     "data": {
      "text/plain": [
       "0.8043146004918291"
      ]
     },
     "execution_count": 86,
     "metadata": {},
     "output_type": "execute_result"
    }
   ],
   "source": [
    "world_happiness[\"log_gdp_per_cap\"].corr(world_happiness[\"happiness_score\"])"
   ]
  },
  {
   "cell_type": "code",
   "execution_count": null,
   "id": "e53bd849",
   "metadata": {},
   "outputs": [],
   "source": []
  }
 ],
 "metadata": {
  "kernelspec": {
   "display_name": "Python 3 (ipykernel)",
   "language": "python",
   "name": "python3"
  },
  "language_info": {
   "codemirror_mode": {
    "name": "ipython",
    "version": 3
   },
   "file_extension": ".py",
   "mimetype": "text/x-python",
   "name": "python",
   "nbconvert_exporter": "python",
   "pygments_lexer": "ipython3",
   "version": "3.9.18"
  }
 },
 "nbformat": 4,
 "nbformat_minor": 5
}
